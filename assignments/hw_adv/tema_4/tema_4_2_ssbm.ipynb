{
 "cells": [
  {
   "cell_type": "markdown",
   "id": "90f3eaab",
   "metadata": {},
   "source": [
    "## 📈 Tema 4: Colectii - Avansati\n",
    "### [x] **II. Smart Shopping & Budget Manager**\n",
    "- [x] Dicționar produse: preț.  \n",
    "- [x] Operații: adăugare, ștergere, afișare total, sortare, filtrare produse > 50 lei.  \n",
    "- [x] Algoritm „buget”: utilizatorul setează un buget → dacă depășește, programul sugerează ce produse să scoată sau alternative mai ieftine.  "
   ]
  },
  {
   "cell_type": "code",
   "execution_count": 2,
   "id": "a70150e3",
   "metadata": {},
   "outputs": [],
   "source": [
    "### [x] **II. Smart Shopping & Budget Manager**\n",
    "# - [x] Dicționar produse: preț.  \n",
    "# - [x] Operații: adăugare, ștergere, afișare total, sortare, filtrare produse > 50 lei.  \n",
    "# - [x] Algoritm „buget”: utilizatorul setează un buget → dacă depășește, programul sugerează ce produse să scoată sau alternative mai ieftine.  "
   ]
  },
  {
   "cell_type": "code",
   "execution_count": 3,
   "id": "f5621dce",
   "metadata": {},
   "outputs": [],
   "source": [
    "# pip installs directly in notebook (optional: ensure kernel selects new python .venv for separation)\n",
    "# ! pip install requests ipykernel"
   ]
  },
  {
   "cell_type": "code",
   "execution_count": 4,
   "id": "5f33f485",
   "metadata": {},
   "outputs": [
    {
     "name": "stdout",
     "output_type": "stream",
     "text": [
      "bread                6.5\n",
      "milk                 4.2\n",
      "1kg rice             1.99\n",
      "avocado              0.99\n",
      "cookie dough         9.99\n",
      "pan                  19.99\n",
      "fancy cake           55\n",
      "2mb ram              299.99\n",
      "lawn-mower           449.99\n"
     ]
    }
   ],
   "source": [
    "products = {\n",
    "    \"bread\": 6.50,\n",
    "    \"milk\": 4.20,\n",
    "    \"1kg rice\": 1.99,\n",
    "    \"avocado\": 0.99,\n",
    "    \"cookie dough\": 9.99,\n",
    "    \"pan\": 19.99,\n",
    "    \"fancy cake\": 55,\n",
    "    \"2mb ram\": 299.99,\n",
    "    \"lawn-mower\": 449.99,\n",
    "}\n",
    "\n",
    "for product, value in products.items():\n",
    "    print(product.ljust(20), value)"
   ]
  },
  {
   "cell_type": "markdown",
   "id": "250c8d83",
   "metadata": {},
   "source": [
    "# Operations"
   ]
  },
  {
   "cell_type": "code",
   "execution_count": 5,
   "id": "68e11b35",
   "metadata": {},
   "outputs": [],
   "source": [
    "# Operații: adăugare, ștergere, afișare total, sortare, filtrare produse > 50 lei.  "
   ]
  },
  {
   "cell_type": "markdown",
   "id": "d8bbdca1",
   "metadata": {},
   "source": [
    "## Adding"
   ]
  },
  {
   "cell_type": "code",
   "execution_count": 6,
   "id": "6b4896c4",
   "metadata": {},
   "outputs": [
    {
     "name": "stdout",
     "output_type": "stream",
     "text": [
      "Product bread already exists\n",
      "\n",
      "bread\n",
      "milk\n",
      "1kg rice\n",
      "avocado\n",
      "cookie dough\n",
      "pan\n",
      "fancy cake\n",
      "2mb ram\n",
      "lawn-mower\n",
      "toilet\n"
     ]
    }
   ],
   "source": [
    "# add only if not in\n",
    "new = (\"bread\", 8.50)\n",
    "\n",
    "if new[0] in products:\n",
    "    print(f\"Product {new[0]} already exists\")\n",
    "else:\n",
    "    products[new[0]] = new[1]\n",
    "\n",
    "# add/change value\n",
    "products[\"toilet\"] = 75\n",
    "\n",
    "print()\n",
    "for product in products:\n",
    "    print(product)"
   ]
  },
  {
   "cell_type": "markdown",
   "id": "dc878661",
   "metadata": {},
   "source": [
    "## Deletions"
   ]
  },
  {
   "cell_type": "code",
   "execution_count": 7,
   "id": "467f22e3",
   "metadata": {},
   "outputs": [
    {
     "name": "stdout",
     "output_type": "stream",
     "text": [
      "\n",
      "milk\n",
      "1kg rice\n",
      "avocado\n",
      "cookie dough\n",
      "pan\n",
      "fancy cake\n",
      "2mb ram\n",
      "lawn-mower\n",
      "toilet\n"
     ]
    }
   ],
   "source": [
    "remove_cand = \"bread\"\n",
    "\n",
    "if not remove_cand in products:\n",
    "    print(f\"{remove_cand} was already removed\")\n",
    "else:\n",
    "    products.pop(\"bread\")\n",
    "\n",
    "print()\n",
    "for product in products:\n",
    "    print(product)"
   ]
  },
  {
   "cell_type": "markdown",
   "id": "5a024ff5",
   "metadata": {},
   "source": [
    "## Show Total"
   ]
  },
  {
   "cell_type": "code",
   "execution_count": 8,
   "id": "fb6449a3",
   "metadata": {},
   "outputs": [
    {
     "data": {
      "text/plain": [
       "917.14"
      ]
     },
     "execution_count": 8,
     "metadata": {},
     "output_type": "execute_result"
    }
   ],
   "source": [
    "sum([value for _, value in products.items()])"
   ]
  },
  {
   "cell_type": "markdown",
   "id": "1a3381f4",
   "metadata": {},
   "source": [
    "## Sorting"
   ]
  },
  {
   "cell_type": "code",
   "execution_count": 9,
   "id": "f2a1d052",
   "metadata": {},
   "outputs": [],
   "source": [
    "# remake\n",
    "products = {\n",
    "    \"bread\": 6.50,\n",
    "    \"milk\": 4.20,\n",
    "    \"1kg rice\": 1.99,\n",
    "    \"avocado\": 0.99,\n",
    "    \"cookie dough\": 9.99,\n",
    "    \"pan\": 19.99,\n",
    "    \"fancy cake\": 55,\n",
    "    \"2mb ram\": 299.99,\n",
    "    \"lawn-mower\": 449.99,\n",
    "}"
   ]
  },
  {
   "cell_type": "code",
   "execution_count": 10,
   "id": "87f5efa1",
   "metadata": {},
   "outputs": [
    {
     "name": "stdout",
     "output_type": "stream",
     "text": [
      "avocado         0.99\n",
      "1kg rice        1.99\n",
      "milk            4.2\n",
      "bread           6.5\n",
      "cookie dough    9.99\n",
      "pan             19.99\n",
      "fancy cake      55\n",
      "2mb ram         299.99\n",
      "lawn-mower      449.99\n"
     ]
    }
   ],
   "source": [
    "# get sorted view without changing dict\n",
    "for item in sorted(products.items(), key=lambda x: x[1]):\n",
    "    print(str(item[0]).ljust(15), item[1])"
   ]
  },
  {
   "cell_type": "code",
   "execution_count": 11,
   "id": "b3681908",
   "metadata": {},
   "outputs": [
    {
     "name": "stdout",
     "output_type": "stream",
     "text": [
      "\n",
      "Sorted New Dict:\n",
      "avocado              0.99\n",
      "1kg rice             1.99\n",
      "milk                 4.2\n",
      "bread                6.5\n",
      "cookie dough         9.99\n",
      "pan                  19.99\n",
      "fancy cake           55\n",
      "2mb ram              299.99\n",
      "lawn-mower           449.99\n",
      "\n",
      "Unsorted Initial Dict:\n",
      "bread                6.5\n",
      "milk                 4.2\n",
      "1kg rice             1.99\n",
      "avocado              0.99\n",
      "cookie dough         9.99\n",
      "pan                  19.99\n",
      "fancy cake           55\n",
      "2mb ram              299.99\n",
      "lawn-mower           449.99\n"
     ]
    }
   ],
   "source": [
    "# sort dict\n",
    "new_products = dict()\n",
    "\n",
    "for item in sorted(products.items(), key=lambda x: x[1]):\n",
    "    new_products[item[0]] = item[1]\n",
    "\n",
    "print(\"\\nSorted New Dict:\")\n",
    "for product, value in new_products.items():\n",
    "    print(product.ljust(20), value)\n",
    "\n",
    "print(\"\\nUnsorted Initial Dict:\")\n",
    "for product, value in products.items():\n",
    "    print(product.ljust(20), value)"
   ]
  },
  {
   "cell_type": "code",
   "execution_count": 12,
   "id": "18afd4eb",
   "metadata": {},
   "outputs": [
    {
     "name": "stdout",
     "output_type": "stream",
     "text": [
      "\n",
      "Sorted Initial Dict:\n",
      "avocado              0.99\n",
      "1kg rice             1.99\n",
      "milk                 4.2\n",
      "bread                6.5\n",
      "cookie dough         9.99\n",
      "pan                  19.99\n",
      "fancy cake           55\n",
      "2mb ram              299.99\n",
      "lawn-mower           449.99\n"
     ]
    }
   ],
   "source": [
    "# replace old dict with new dict\n",
    "products = new_products\n",
    "print(\"\\nSorted Initial Dict:\")\n",
    "for product, value in products.items():\n",
    "    print(product.ljust(20), value)"
   ]
  },
  {
   "cell_type": "code",
   "execution_count": 13,
   "id": "728b4a71",
   "metadata": {},
   "outputs": [
    {
     "name": "stdout",
     "output_type": "stream",
     "text": [
      "avocado              0.99\n",
      "1kg rice             1.99\n",
      "milk                 4.2\n",
      "bread                6.5\n",
      "cookie dough         9.99\n",
      "pan                  19.99\n",
      "fancy cake           55\n",
      "2mb ram              299.99\n",
      "lawn-mower           449.99\n"
     ]
    }
   ],
   "source": [
    "# sort dict in place with new dict\n",
    "products = dict(sorted(products.items(), key=lambda x: x[1]))\n",
    "\n",
    "for product, value in products.items():\n",
    "    print(product.ljust(20), value)"
   ]
  },
  {
   "cell_type": "code",
   "execution_count": 14,
   "id": "daac5eb7",
   "metadata": {},
   "outputs": [
    {
     "name": "stdout",
     "output_type": "stream",
     "text": [
      "{'avocado': 0.99, '1kg rice': 1.99, 'milk': 4.2, 'bread': 6.5, 'cookie dough': 9.99, 'pan': 19.99, 'fancy cake': 55, '2mb ram': 299.99, 'lawn-mower': 449.99}\n"
     ]
    }
   ],
   "source": [
    "# using sort, sorted does one run\n",
    "tmp = [(key, value) for key, value in products.items()]\n",
    "tmp.sort(key=lambda x: x[1])\n",
    "products = dict(tmp)\n",
    "\n",
    "print(products)"
   ]
  },
  {
   "cell_type": "markdown",
   "id": "64c93d8c",
   "metadata": {},
   "source": [
    "## Filter (Products over 50 RON)"
   ]
  },
  {
   "cell_type": "code",
   "execution_count": 15,
   "id": "0310b57e",
   "metadata": {},
   "outputs": [],
   "source": [
    "# remake\n",
    "products = {\n",
    "    \"bread\": 6.50,\n",
    "    \"milk\": 4.20,\n",
    "    \"1kg rice\": 1.99,\n",
    "    \"avocado\": 0.99,\n",
    "    \"cookie dough\": 9.99,\n",
    "    \"pan\": 19.99,\n",
    "    \"fancy cake\": 55,\n",
    "    \"2mb ram\": 299.99,\n",
    "    \"lawn-mower\": 449.99,\n",
    "}"
   ]
  },
  {
   "cell_type": "code",
   "execution_count": 16,
   "id": "da749934",
   "metadata": {},
   "outputs": [
    {
     "name": "stdout",
     "output_type": "stream",
     "text": [
      "removed fancy cake     55\n"
     ]
    },
    {
     "ename": "RuntimeError",
     "evalue": "dictionary changed size during iteration",
     "output_type": "error",
     "traceback": [
      "\u001b[31m---------------------------------------------------------------------------\u001b[39m",
      "\u001b[31mRuntimeError\u001b[39m                              Traceback (most recent call last)",
      "\u001b[36mCell\u001b[39m\u001b[36m \u001b[39m\u001b[32mIn[16]\u001b[39m\u001b[32m, line 2\u001b[39m\n\u001b[32m      1\u001b[39m \u001b[38;5;66;03m# dictionary changed size during iteration ERROR\u001b[39;00m\n\u001b[32m----> \u001b[39m\u001b[32m2\u001b[39m \u001b[38;5;28;43;01mfor\u001b[39;49;00m\u001b[43m \u001b[49m\u001b[43mitem\u001b[49m\u001b[43m \u001b[49m\u001b[38;5;129;43;01min\u001b[39;49;00m\u001b[43m \u001b[49m\u001b[38;5;28;43mfilter\u001b[39;49m\u001b[43m(\u001b[49m\u001b[38;5;28;43;01mlambda\u001b[39;49;00m\u001b[43m \u001b[49m\u001b[43mitem\u001b[49m\u001b[43m:\u001b[49m\u001b[43m \u001b[49m\u001b[43mitem\u001b[49m\u001b[43m[\u001b[49m\u001b[32;43m1\u001b[39;49m\u001b[43m]\u001b[49m\u001b[43m \u001b[49m\u001b[43m>\u001b[49m\u001b[43m \u001b[49m\u001b[32;43m50\u001b[39;49m\u001b[43m,\u001b[49m\u001b[43m \u001b[49m\u001b[43mproducts\u001b[49m\u001b[43m.\u001b[49m\u001b[43mitems\u001b[49m\u001b[43m(\u001b[49m\u001b[43m)\u001b[49m\u001b[43m)\u001b[49m\u001b[43m:\u001b[49m\n\u001b[32m      3\u001b[39m \u001b[43m    \u001b[49m\u001b[38;5;28;43mprint\u001b[39;49m\u001b[43m(\u001b[49m\u001b[33;43m\"\u001b[39;49m\u001b[33;43mremoved\u001b[39;49m\u001b[33;43m\"\u001b[39;49m\u001b[43m,\u001b[49m\u001b[43m \u001b[49m\u001b[43mitem\u001b[49m\u001b[43m[\u001b[49m\u001b[32;43m0\u001b[39;49m\u001b[43m]\u001b[49m\u001b[43m.\u001b[49m\u001b[43mljust\u001b[49m\u001b[43m(\u001b[49m\u001b[32;43m14\u001b[39;49m\u001b[43m)\u001b[49m\u001b[43m,\u001b[49m\u001b[43m \u001b[49m\u001b[43mitem\u001b[49m\u001b[43m[\u001b[49m\u001b[32;43m1\u001b[39;49m\u001b[43m]\u001b[49m\u001b[43m)\u001b[49m\n\u001b[32m      4\u001b[39m \u001b[43m    \u001b[49m\u001b[43mproducts\u001b[49m\u001b[43m.\u001b[49m\u001b[43mpop\u001b[49m\u001b[43m(\u001b[49m\u001b[43mitem\u001b[49m\u001b[43m[\u001b[49m\u001b[32;43m0\u001b[39;49m\u001b[43m]\u001b[49m\u001b[43m)\u001b[49m\n",
      "\u001b[31mRuntimeError\u001b[39m: dictionary changed size during iteration"
     ]
    }
   ],
   "source": [
    "# dictionary changed size during iteration ERROR\n",
    "for item in filter(lambda item: item[1] > 50, products.items()):\n",
    "    print(\"removed\", item[0].ljust(14), item[1])\n",
    "    products.pop(item[0])"
   ]
  },
  {
   "cell_type": "code",
   "execution_count": null,
   "id": "1f81ea91",
   "metadata": {},
   "outputs": [],
   "source": [
    "# cool way to make dict (works with list) via filter\n",
    "print(dict(filter(lambda item: item[1] > 50, products.items())))"
   ]
  },
  {
   "cell_type": "code",
   "execution_count": null,
   "id": "ef76c995",
   "metadata": {},
   "outputs": [],
   "source": [
    "# filter in one line\n",
    "products = dict(filter(lambda item: item[1] > 50, products.items()))\n",
    "print(products)"
   ]
  },
  {
   "cell_type": "code",
   "execution_count": null,
   "id": "677eff4f",
   "metadata": {},
   "outputs": [],
   "source": [
    "# dictionary changed size during iteration ERROR\n",
    "for key, value in products.items():\n",
    "    if value <= 50:\n",
    "        products.pop(key)\n",
    "\n",
    "print(products)"
   ]
  },
  {
   "cell_type": "code",
   "execution_count": null,
   "id": "8939f318",
   "metadata": {},
   "outputs": [],
   "source": [
    "# working plain for loop filter - O(n)\n",
    "new_products = dict()\n",
    "\n",
    "for key, value in products.items():\n",
    "    if value > 50:\n",
    "        new_products[key] = value\n",
    "\n",
    "print(new_products)"
   ]
  },
  {
   "cell_type": "code",
   "execution_count": null,
   "id": "a2f5d539",
   "metadata": {},
   "outputs": [
    {
     "name": "stdout",
     "output_type": "stream",
     "text": [
      "removed lawn-mower 449.99\n",
      "removed 2mb ram 299.99\n",
      "removed fancy cake 55\n",
      "{'bread': 6.5, 'milk': 4.2, '1kg rice': 1.99, 'avocado': 0.99, 'cookie dough': 9.99, 'pan': 19.99}\n"
     ]
    }
   ],
   "source": [
    "# plain while loop pop inefficient - O(n²)\n",
    "\n",
    "products = {\n",
    "    \"bread\": 6.50,\n",
    "    \"milk\": 4.20,\n",
    "    \"1kg rice\": 1.99,\n",
    "    \"avocado\": 0.99,\n",
    "    \"cookie dough\": 9.99,\n",
    "    \"pan\": 19.99,\n",
    "    \"fancy cake\": 55,\n",
    "    \"2mb ram\": 299.99,\n",
    "    \"lawn-mower\": 449.99,\n",
    "}\n",
    "\n",
    "counter = 0\n",
    "\n",
    "while True:\n",
    "    counter += 1\n",
    "\n",
    "    k = max(products, key=products.get)\n",
    "    if products[k] <= 50 or counter > 1000:\n",
    "        break\n",
    "    # if still looping do pop\n",
    "    print(\"removed\", k, products[k])\n",
    "    products.pop(k)\n",
    "\n",
    "print(products)"
   ]
  },
  {
   "cell_type": "markdown",
   "id": "b72b11a3",
   "metadata": {},
   "source": [
    "# Algoritm „buget”"
   ]
  },
  {
   "cell_type": "code",
   "execution_count": null,
   "id": "d185eb34",
   "metadata": {},
   "outputs": [],
   "source": [
    "# - [x] Algoritm „buget”: utilizatorul setează un buget → dacă depășește, programul sugerează ce produse să scoată sau alternative mai ieftine. "
   ]
  },
  {
   "cell_type": "code",
   "execution_count": null,
   "id": "55968267",
   "metadata": {},
   "outputs": [],
   "source": [
    "buy_list = {\n",
    "    \"bread\": 6.50,\n",
    "    \"milk\": 4.20,\n",
    "    \"1kg rice\": 1.99,\n",
    "    \"avocado\": 0.99,\n",
    "    \"cookie dough\": 9.99,\n",
    "    \"pan\": 19.99,\n",
    "    \"fancy cake\": 55,\n",
    "    \"2mb ram\": 299.99,\n",
    "    \"lawn-mower\": 449.99,\n",
    "}\n",
    "\n",
    "RUN = True\n",
    "\n",
    "if RUN:\n",
    "    budget = input(\"Set Budget: \")\n",
    "    counter = 0\n",
    "\n",
    "    while True:\n",
    "        counter += 1\n",
    "        if sum(buy_list.values()) <= float(budget):\n",
    "            break\n",
    "\n",
    "        most_expensive_item = max(buy_list, key=buy_list.get)\n",
    "        print(\"removed\", most_expensive_item, buy_list[most_expensive_item])\n",
    "        buy_list.pop(most_expensive_item)\n",
    "\n",
    "print(buy_list)\n"
   ]
  },
  {
   "cell_type": "code",
   "execution_count": null,
   "id": "381361a0",
   "metadata": {},
   "outputs": [],
   "source": [
    "# Faster algo, compute sum once, go from high to low\n",
    "\n",
    "buy_list = {\n",
    "    \"bread\": 6.50,\n",
    "    \"milk\": 4.20,\n",
    "    \"1kg rice\": 1.99,\n",
    "    \"avocado\": 0.99,\n",
    "    \"cookie dough\": 9.99,\n",
    "    \"pan\": 19.99,\n",
    "    \"fancy cake\": 55,\n",
    "    \"2mb ram\": 299.99,\n",
    "    \"lawn-mower\": 449.99,\n",
    "    \"rc car\": 249.99,\n",
    "}\n",
    "\n",
    "budget = 350\n",
    "total = sum(buy_list.values())\n",
    "buy_list_desc = dict(sorted(buy_list.items(), key=lambda x: x[1], reverse=True))\n",
    "\n",
    "for key, value in buy_list_desc.items():\n",
    "    if total <= budget:\n",
    "        break\n",
    "    else:\n",
    "        total -= value\n",
    "        print(\"removed\", key, value)\n",
    "        buy_list.pop(key)\n",
    "\n",
    "print(buy_list)"
   ]
  },
  {
   "cell_type": "markdown",
   "id": "1cb8963e",
   "metadata": {},
   "source": [
    "# Algoritm „AI-Budgeter” AI"
   ]
  },
  {
   "cell_type": "code",
   "execution_count": null,
   "id": "337953d3",
   "metadata": {},
   "outputs": [],
   "source": [
    "import os\n",
    "import requests\n",
    "import json\n",
    "import re\n",
    "\n",
    "# pull configuration from environment variables with fallbacks\n",
    "BASE_URL = os.environ.get(\"LLM_BASE_URL\", \"http://localhost:8080/v1\")\n",
    "API_KEY  = os.environ.get(\"LLM_API_KEY\", \"dummy\")\n",
    "MODEL    = os.environ.get(\"LLM_MODEL\", \"gemma-3-12b-it-qat-Q4_K_M.gguf\")\n",
    "TIMEOUT  = 30\n",
    "\n",
    "def get_ordered_utility(buy_list, *, debug: bool=False) -> dict:\n",
    "    # Return a dict of items in order of general budget life utility\n",
    "    if debug: \n",
    "        print(\"INPUT buy_list:\", buy_list)\n",
    "\n",
    "    payload = {\n",
    "        \"model\": MODEL,\n",
    "        \"temperature\": 0.2,\n",
    "        \"messages\": [\n",
    "            {\n",
    "                \"role\": \"system\",\n",
    "                \"content\": (\n",
    "                    \"You are a budget/life-utility assistant. \"\n",
    "                    \"Given a dict of items with prices, \"\n",
    "                    \"rank them from most essential to least essential for general life utility. \"\n",
    "                    \"Respond ONLY with a SINGLE JSON object mapping item names to their rank \"\n",
    "                    \"(1 = most important, higher numbers = less important). \"\n",
    "                    \"Do not add prose, commentary, or change item names.\"\n",
    "                ),\n",
    "            },\n",
    "            {\n",
    "                \"role\": \"user\",\n",
    "                \"content\": f\"Items with prices: {json.dumps(buy_list)}\"\n",
    "            },\n",
    "        ],\n",
    "    }\n",
    "\n",
    "    r = requests.post(\n",
    "        f\"{BASE_URL}/chat/completions\",\n",
    "        headers={\"Authorization\": f\"Bearer {API_KEY}\"},\n",
    "        json=payload,\n",
    "        timeout=TIMEOUT,\n",
    "    )\n",
    "    r.raise_for_status()\n",
    "\n",
    "    content = r.json()[\"choices\"][0][\"message\"][\"content\"].strip()\n",
    "    m = re.search(r\"\\{.*\\}\", content, flags=re.S)\n",
    "    data = json.loads(m.group(0)) if m else json.loads(content)\n",
    "\n",
    "    if debug:\n",
    "        print(\"DEBUG response:\", data)\n",
    "\n",
    "    return data"
   ]
  },
  {
   "cell_type": "code",
   "execution_count": null,
   "id": "a74050d8",
   "metadata": {},
   "outputs": [],
   "source": [
    "# Remove items based on utiliy until meeting budget, might remove more than strictly necessary, but avoids buying rc_car over lawn-mower\n",
    "\n",
    "buy_list = {\n",
    "    \"bread\": 6.50,\n",
    "    \"milk\": 4.20,\n",
    "    \"1kg rice\": 1.99,\n",
    "    \"avocado\": 0.99,\n",
    "    \"cookie dough\": 9.99,\n",
    "    \"pan\": 19.99,\n",
    "    \"fancy cake\": 55,\n",
    "    \"2mb ram\": 299.99,\n",
    "    \"lawn-mower\": 449.99,\n",
    "    \"rc car\": 249.99,\n",
    "}\n",
    "\n",
    "utilty_scored = (get_ordered_utility(buy_list))\n",
    "\n",
    "budget = 380\n",
    "total = sum(buy_list.values())\n",
    "buy_list_utility = dict(sorted(utilty_scored.items(), key=lambda x: x[1], reverse=True))\n",
    "\n",
    "# now with sorted list we change utility score back to price:\n",
    "for key, value in buy_list_utility.items():\n",
    "    buy_list_utility[key] = buy_list[key]\n",
    "\n",
    "# OR\n",
    "buy_list_utility = {k: buy_list[k] for k in buy_list_utility}\n",
    "print(buy_list_utility) # ordered, less useful first\n",
    "\n",
    "for key, value in buy_list_utility.items():\n",
    "    if total <= budget:\n",
    "        break\n",
    "    else:\n",
    "        total -= value\n",
    "        print(\"removed\", key, value)\n",
    "        buy_list.pop(key)\n",
    "\n",
    "print(buy_list)\n",
    "print(\"left-over cash\", round(budget - total, 2), \"RON\")\n",
    "\n",
    "# In this example, we could've bought the RC Car with the remaining money, we could iterate over the list again and find purchasables or keep money for next month\n",
    "# If we bump the value to 400, we buy the 2mb ram, funny enough the AI decides 2mb ram is more important than a lawn-mower"
   ]
  }
 ],
 "metadata": {
  "kernelspec": {
   "display_name": ".venv",
   "language": "python",
   "name": "python3"
  },
  "language_info": {
   "codemirror_mode": {
    "name": "ipython",
    "version": 3
   },
   "file_extension": ".py",
   "mimetype": "text/x-python",
   "name": "python",
   "nbconvert_exporter": "python",
   "pygments_lexer": "ipython3",
   "version": "3.12.3"
  }
 },
 "nbformat": 4,
 "nbformat_minor": 5
}
