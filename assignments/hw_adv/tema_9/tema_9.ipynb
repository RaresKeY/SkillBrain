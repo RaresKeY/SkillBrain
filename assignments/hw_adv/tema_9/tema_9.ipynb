{
 "cells": [
  {
   "cell_type": "markdown",
   "id": "5991a14a",
   "metadata": {},
   "source": [
    "### I. Fă un program care sortează o listă de tuple (nume, vârstă) după vârstă.  \n",
    "`persoane = [(\"Ana\", 25), (\"Mihai\", 30), (\"Ioana\", 22)]`"
   ]
  },
  {
   "cell_type": "code",
   "execution_count": 2,
   "id": "9ed19c26",
   "metadata": {},
   "outputs": [
    {
     "name": "stdout",
     "output_type": "stream",
     "text": [
      "[('Ioana', 22), ('Ana', 25), ('Mihai', 30)]\n"
     ]
    }
   ],
   "source": [
    "people = [(\"Ana\", 25), (\"Mihai\", 30), (\"Ioana\", 22)]\n",
    "\n",
    "people.sort(key=lambda x: x[1])\n",
    "\n",
    "print(people)"
   ]
  },
  {
   "cell_type": "markdown",
   "id": "5d2c847f",
   "metadata": {},
   "source": [
    "### II. Caută binar într-o listă sortată de scoruri. Returnează dacă un scor se află acolo.\n",
    "```\n",
    "scoruri = [10, 20, 35, 50, 75, 100]\n",
    "def binary_search(lista, valoare):\n",
    "```\n",
    "### Funcția trebuie să returneze:\n",
    "- True dacă valoarea există în listă\n",
    "- False dacă nu se află acolo"
   ]
  },
  {
   "cell_type": "code",
   "execution_count": 3,
   "id": "95d54c01",
   "metadata": {},
   "outputs": [
    {
     "name": "stdout",
     "output_type": "stream",
     "text": [
      "2\n"
     ]
    }
   ],
   "source": [
    "scores = [10, 20, 35, 50, 75, 100]\n",
    "\n",
    "def binary_search(scores, target):\n",
    "    left = 0\n",
    "    right = len(scores)\n",
    "    sel = left + ((right - left) // 2)\n",
    "\n",
    "    while scores[sel] != target:\n",
    "        if right - left <= 1:\n",
    "            return -1\n",
    "        if scores[sel] > target:\n",
    "            right = sel\n",
    "        else:\n",
    "            left = sel\n",
    "        sel = left + ((right - left) // 2)\n",
    "    return sel\n",
    "    \n",
    "print(binary_search(scores, 35))\n",
    "    "
   ]
  },
  {
   "cell_type": "markdown",
   "id": "eec5b594",
   "metadata": {},
   "source": [
    "### III. Creează un dict cu produse (cheie: nume, valoare: preț) și sortează-le după preț.\n",
    "\n",
    "Foloseste BubbleSort, QuickSort si Python-Built in sort (TimSort)"
   ]
  },
  {
   "cell_type": "code",
   "execution_count": 4,
   "id": "21069a4c",
   "metadata": {},
   "outputs": [
    {
     "name": "stdout",
     "output_type": "stream",
     "text": [
      "--- bubble sort\n",
      "[(Product) Apple: 1.2$, (Product) Bread: 2.5$, (Product) Milk: 1.8$, (Product) Eggs: 3.0$]\n",
      "[(Product) Apple: 1.2$, (Product) Milk: 1.8$, (Product) Bread: 2.5$, (Product) Eggs: 3.0$]\n",
      "--- quick sort\n",
      "[(Product) Apple: 1.2$, (Product) Bread: 2.5$, (Product) Milk: 1.8$, (Product) Eggs: 3.0$]\n",
      "[(Product) Apple: 1.2$, (Product) Milk: 1.8$, (Product) Bread: 2.5$, (Product) Eggs: 3.0$]\n",
      "--- merge + insertion sort\n",
      "[(Product) Apple: 1.2$, (Product) Bread: 2.5$, (Product) Milk: 1.8$, (Product) Eggs: 3.0$]\n",
      "[(Product) Apple: 1.2$, (Product) Milk: 1.8$, (Product) Bread: 2.5$, (Product) Eggs: 3.0$]\n",
      "--- timsort\n",
      "[(Product) Apple: 1.2$, (Product) Bread: 2.5$, (Product) Milk: 1.8$, (Product) Eggs: 3.0$]\n",
      "[(Product) Apple: 1.2$, (Product) Milk: 1.8$, (Product) Bread: 2.5$, (Product) Eggs: 3.0$]\n"
     ]
    }
   ],
   "source": [
    "class Product:\n",
    "    def __init__(self, name, price):\n",
    "        self.name: str = name\n",
    "        self.price: float = price\n",
    "\n",
    "    def __eq__(self, other):\n",
    "        if isinstance(other, (int, float)):\n",
    "            return self.price == other\n",
    "        if isinstance(other, Product):\n",
    "            return self.price == other.price\n",
    "        return NotImplemented\n",
    "\n",
    "    def __lt__(self, other):\n",
    "        if isinstance(other, (int, float)):\n",
    "            return self.price < other\n",
    "        if isinstance(other, Product):\n",
    "            return self.price < other.price\n",
    "        return NotImplemented\n",
    "\n",
    "    def __gt__(self, other):\n",
    "        if isinstance(other, (int, float)):\n",
    "            return self.price > other\n",
    "        if isinstance(other, Product):\n",
    "            return self.price > other.price\n",
    "        return NotImplemented\n",
    "\n",
    "    def __str__(self):\n",
    "        return f\"({self.__class__.__name__}) {self.name.capitalize()}: {self.price}$\"\n",
    "\n",
    "    def __repr__(self):\n",
    "        return str(self)\n",
    "\n",
    "\n",
    "def bubble_sort(products):\n",
    "    n = len(products)\n",
    "    for i in range(n):\n",
    "        for j in range(0, n - i - 1):\n",
    "            if products[j] > products[j + 1]:\n",
    "                products[j], products[j + 1] = products[j + 1], products[j]\n",
    "\n",
    "\n",
    "def quicksort(products):\n",
    "    if len(products) <= 1:\n",
    "        return products\n",
    "\n",
    "    pivot = products[len(products) // 2]\n",
    "    left, mid, right = [], [], []\n",
    "\n",
    "    for x in products:\n",
    "        if x < pivot:\n",
    "            left.append(x)\n",
    "        elif x == pivot:\n",
    "            mid.append(x)\n",
    "        else:\n",
    "            right.append(x)\n",
    "\n",
    "    return quicksort(left) + mid + quicksort(right)\n",
    "\n",
    "\n",
    "def merge_two(a: list, b: list):\n",
    "    i = j = 0\n",
    "    new_full = []\n",
    "\n",
    "    while i < len(a) and j < len(b):\n",
    "        if a[i] < b[j]:\n",
    "            new_full.append(a[i])\n",
    "            i += 1\n",
    "        else:\n",
    "            new_full.append(b[j])\n",
    "            j += 1\n",
    "\n",
    "    new_full.extend(a[i:])\n",
    "    new_full.extend(b[j:])\n",
    "\n",
    "    return new_full\n",
    "\n",
    "\n",
    "def insertion_sort(a):\n",
    "    for i in range(1, len(a)):\n",
    "        for j in range(i, 0, -1):\n",
    "            if a[j] < a[j - 1]:\n",
    "                a[j], a[j - 1] = a[j - 1], a[j]\n",
    "            else:\n",
    "                break\n",
    "\n",
    "\n",
    "def merge_sort(a):\n",
    "    if len(a) <= 4:\n",
    "        insertion_sort(a)\n",
    "        return\n",
    "\n",
    "    mid = len(a) // 2\n",
    "    left = a[:mid]\n",
    "    right = a[mid:]\n",
    "\n",
    "    merge_sort(left)\n",
    "    merge_sort(right)\n",
    "    \n",
    "    a[:] = merge_two(left, right)\n",
    "\n",
    "\n",
    "products = {\n",
    "    \"apple\": 1.2,\n",
    "    \"bread\": 2.5,\n",
    "    \"milk\": 1.8,\n",
    "    \"eggs\": 3.0\n",
    "}\n",
    "\n",
    "print(\"--- bubble sort\")\n",
    "\n",
    "product_list = [Product(name, value) for name, value in products.items()]\n",
    "print(product_list)\n",
    "\n",
    "bubble_sort(product_list)\n",
    "print(product_list)\n",
    "\n",
    "print(\"--- quick sort\")\n",
    "\n",
    "product_list = [Product(name, value) for name, value in products.items()]\n",
    "print(product_list)\n",
    "\n",
    "new_list = quicksort(product_list)\n",
    "print(new_list)\n",
    "\n",
    "print(\"--- merge + insertion sort\")\n",
    "product_list = [Product(name, value) for name, value in products.items()]\n",
    "print(product_list)\n",
    "\n",
    "merge_sort(product_list)\n",
    "print(product_list)\n",
    "\n",
    "print(\"--- timsort\")\n",
    "product_list = [Product(name, value) for name, value in products.items()]\n",
    "print(product_list)\n",
    "\n",
    "product_list.sort()\n",
    "print(product_list)"
   ]
  },
  {
   "cell_type": "markdown",
   "id": "5deacd43",
   "metadata": {},
   "source": [
    "### III.B. Test de performanță (scalare la 1 milion de produse)\n",
    "\n",
    "Genereaza 1.000.000 de intrari in dictionarul tau printr-un loop.  \n",
    "Sorteaza-le din nou dupa pret - noteaza diferentele de timp din algoritm\n"
   ]
  },
  {
   "cell_type": "code",
   "execution_count": 7,
   "id": "7ce41ab5",
   "metadata": {},
   "outputs": [
    {
     "name": "stdout",
     "output_type": "stream",
     "text": [
      "Timeout reached — killing process.\n",
      "bubble sort:  5.016607046127319\n",
      "quick sort:  3.559133768081665\n",
      "merge sort:  4.582515239715576\n",
      "timsort sort:  0.46176600456237793\n"
     ]
    }
   ],
   "source": [
    "from multiprocessing import Process\n",
    "import random\n",
    "import time\n",
    "\n",
    "\n",
    "def run_with_timeout(func, timeout):\n",
    "    p = Process(target=func)\n",
    "    p.start()\n",
    "    p.join(timeout)\n",
    "    if p.is_alive():\n",
    "        print(\"Timeout reached — killing process.\")\n",
    "        p.terminate()\n",
    "        p.join()\n",
    "        return False\n",
    "    return True\n",
    "\n",
    "\n",
    "big_list = [random.randint(0, 1_000_000) for _ in range(1_000_000)]\n",
    "\n",
    "start = time.time()\n",
    "run_with_timeout(lambda: bubble_sort(big_list[:]), 5)\n",
    "print(\"bubble sort: \", time.time() - start)\n",
    "\n",
    "start = time.time()\n",
    "run_with_timeout(lambda: quicksort(big_list[:]), 5)\n",
    "print(\"quick sort: \", time.time() - start)\n",
    "\n",
    "start = time.time()\n",
    "run_with_timeout(lambda: merge_sort(big_list[:]), 5)\n",
    "print(\"merge sort: \", time.time() - start)\n",
    "\n",
    "start = time.time()\n",
    "run_with_timeout(lambda: big_list[:].sort(), 5)\n",
    "print(\"timsort sort: \", time.time() - start)"
   ]
  }
 ],
 "metadata": {
  "kernelspec": {
   "display_name": ".venv",
   "language": "python",
   "name": "python3"
  },
  "language_info": {
   "codemirror_mode": {
    "name": "ipython",
    "version": 3
   },
   "file_extension": ".py",
   "mimetype": "text/x-python",
   "name": "python",
   "nbconvert_exporter": "python",
   "pygments_lexer": "ipython3",
   "version": "3.12.3"
  }
 },
 "nbformat": 4,
 "nbformat_minor": 5
}
