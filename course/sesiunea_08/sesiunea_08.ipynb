{
  "cells": [
    {
      "cell_type": "markdown",
      "metadata": {},
      "source": [
        "# Sesiunea 8 – Design Patterns în Python\n",
        "_Notebook de exerciții (fără soluții)._"
      ]
    },
    {
      "cell_type": "markdown",
      "metadata": {},
      "source": [
        "## Ex. 1 — Test **Singleton**\n",
        "- Creează o clasă `Logger` implementată ca **Singleton** (o singură instanță în tot programul).\n",
        "- Metodă minimă: `log(mesaj: str)` care afișează sau reține mesajul.\n",
        "- Creează două variabile `log1` și `log2` și demonstrează că referă **aceeași** instanță (ex.: `id(log1) == id(log2)`).\n",
        "- Nu folosi soluții externe; implementează tu mecanismul Singleton.\n"
      ]
    },
    {
      "cell_type": "code",
      "execution_count": 1,
      "metadata": {},
      "outputs": [
        {
          "name": "stdout",
          "output_type": "stream",
          "text": [
            "<__main__.Logger object at 0x7f9910be3b90>\n",
            "<__main__.Logger object at 0x7f9910be3b90>\n",
            "test\n"
          ]
        }
      ],
      "source": [
        "class Logger:\n",
        "    _instance = None\n",
        "    _message = None\n",
        "\n",
        "    def __new__(cls):\n",
        "        if cls._instance is None:\n",
        "            cls._instance = super().__new__(cls)\n",
        "        return cls._instance\n",
        "    \n",
        "    def log(self, message: str = None):\n",
        "        if message:\n",
        "            self._message = message\n",
        "        else:\n",
        "            print(self._message)\n",
        "    \n",
        "logger1 = Logger()\n",
        "logger2 = Logger()\n",
        "\n",
        "print(logger1)\n",
        "print(logger2)\n",
        "\n",
        "logger2.log(\"test\")\n",
        "logger1.log()\n"
      ]
    },
    {
      "cell_type": "code",
      "execution_count": 2,
      "id": "b915fb3a",
      "metadata": {},
      "outputs": [
        {
          "name": "stdout",
          "output_type": "stream",
          "text": [
            "<__main__.Logger object at 0x7f9911585940>\n",
            "<__main__.Logger object at 0x7f9911585940>\n",
            "test\n"
          ]
        }
      ],
      "source": [
        "# with decorator\n",
        "def singleton(cls):\n",
        "    instances = {}\n",
        "\n",
        "    def get_instance(*args, **kwargs):\n",
        "        if cls not in instances:\n",
        "            instances[cls] = cls(*args, **kwargs)\n",
        "        return instances[cls]\n",
        "\n",
        "    return get_instance\n",
        "\n",
        "# Logger = singleton(Logger) -> get_instance\n",
        "@singleton\n",
        "class Logger:\n",
        "    def __init__(self):\n",
        "        self._message = None\n",
        "\n",
        "    def log(self, message: str = None):\n",
        "        if message:\n",
        "            self._message = message\n",
        "        else:\n",
        "            print(self._message)\n",
        "\n",
        "\n",
        "# this calls get_instance(Logger)\n",
        "logger1 = Logger()\n",
        "logger2 = Logger()\n",
        "\n",
        "print(logger1)\n",
        "print(logger2)\n",
        "\n",
        "logger2.log(\"test\")\n",
        "logger1.log()"
      ]
    },
    {
      "cell_type": "markdown",
      "id": "bbded0a2",
      "metadata": {},
      "source": [
        "## Ex. 2 — Test **Factory**\n",
        "- Implementează o **Factory** (de ex. `ProdusFactory`) care creează obiecte diferite în funcție de un parametru `tip` (ex.: `\"telefon\"`, `\"laptop\"`).\n",
        "- Fiecare tip are o clasă cu metoda `descriere()`.\n",
        "- Apelează `ProdusFactory.creeaza_produs(\"telefon\")` și afișează descrierea.\n"
      ]
    },
    {
      "cell_type": "code",
      "execution_count": 3,
      "metadata": {},
      "outputs": [
        {
          "name": "stdout",
          "output_type": "stream",
          "text": [
            "Galaxy 9\n",
            "Pixel 2\n",
            "Framework 13\n",
            "\n",
            "This is a Galaxy 9 Phone\n",
            "This is a Pixel 2 Phone\n",
            "This is a Framework 13 Laptop\n"
          ]
        }
      ],
      "source": [
        "@singleton\n",
        "class Factory:\n",
        "    def __init__(self):\n",
        "        self._type = None\n",
        "        self._products = []\n",
        "\n",
        "    def create_product(self, type):\n",
        "        self._products.append(type())\n",
        "\n",
        "    def show_products(self):\n",
        "        for p in self._products:\n",
        "            print(p)\n",
        "    \n",
        "\n",
        "class Product:\n",
        "    def __init__(self, name):\n",
        "        self.name = name\n",
        "    \n",
        "    def __str__(self):\n",
        "        return self.name\n",
        "    \n",
        "    def description(self):\n",
        "        return f\"This is a {self.name} {self.__class__.__name__.capitalize()}\"\n",
        "\n",
        "\n",
        "class Phone(Product):\n",
        "    def __init__(self, name):\n",
        "        super().__init__(name)\n",
        "\n",
        "    \n",
        "class Laptop(Product):\n",
        "    def __init__(self, name):\n",
        "        super().__init__(name)\n",
        "\n",
        "\n",
        "factory = Factory()\n",
        "factory.create_product(lambda: Phone(\"Galaxy 9\"))\n",
        "factory.create_product(lambda: Phone(\"Pixel 2\"))\n",
        "factory.create_product(lambda: Laptop(\"Framework 13\"))\n",
        "factory.show_products()\n",
        "print()\n",
        "\n",
        "for p in factory._products:\n",
        "    print(p.description())"
      ]
    },
    {
      "cell_type": "markdown",
      "metadata": {},
      "source": [
        "## Ex. 3 — Test **Builder**\n",
        "- Creează un `LaptopBuilder` cu metode de configurare (ex.: `.cu_ram(int)`, `.cu_ssd(int)`, `.cu_gpu(str)`).\n",
        "- Metoda finală `.construieste()` întoarce un obiect `Laptop` cu o metodă `descriere()`.\n",
        "- Construiește un laptop personalizat și afișează descrierea.\n"
      ]
    },
    {
      "cell_type": "code",
      "execution_count": 4,
      "metadata": {},
      "outputs": [
        {
          "name": "stdout",
          "output_type": "stream",
          "text": [
            "Framework 13\n",
            "Laptop contains: 32GB, 2000GB, discrete iGPU Tesseract GPU\n",
            "This is a Framework 13 Laptopbuilder\n"
          ]
        }
      ],
      "source": [
        "class LaptopBuilder(Product):\n",
        "    def __init__(self, name):\n",
        "        super().__init__(name)\n",
        "        self.ram = None\n",
        "        self.ssd = None\n",
        "        self.gpu = None\n",
        "\n",
        "    def with_ram(self, a: int):\n",
        "        self.ram = a\n",
        "\n",
        "    def with_ssd(self, a: int):\n",
        "        self.ssd = a\n",
        "\n",
        "    def with_gpu(self, a: str):\n",
        "        self.gpu = a\n",
        "\n",
        "    def description(self):\n",
        "        print(f\"Laptop contains: {self.ram}GB, {self.ssd}GB, {self.gpu} GPU\")\n",
        "        return super().description()\n",
        "\n",
        "    def __str__(self):\n",
        "        return super().__str__()\n",
        "\n",
        "\n",
        "frame = LaptopBuilder(\"Framework 13\")\n",
        "\n",
        "frame.with_ram(32)\n",
        "frame.with_ssd(2000)\n",
        "frame.with_gpu(\"discrete iGPU Tesseract\")\n",
        "\n",
        "print(frame)\n",
        "print(frame.description())"
      ]
    },
    {
      "cell_type": "markdown",
      "metadata": {},
      "source": [
        "## Ex. 4 — **Factory** + **Builder** într-un scenariu educațional\n",
        "- Creează `UtilizatorFactory` care produce tipuri de utilizatori: `Student`, `Trainer`, `Admin` (cu câmpuri de bază, ex.: `nume`).\n",
        "- Creează `CursBuilder` cu: `.cu_nume(str)`, `.cu_trainer(str)`, `.cu_pret(float)`, `.cu_nivel(str)`, `.construieste()`.\n",
        "- Folosește `UtilizatorFactory` pentru a crea un `Admin`, apoi construiește un `Curs` și afișează rezultatul."
      ]
    },
    {
      "cell_type": "code",
      "execution_count": 5,
      "metadata": {},
      "outputs": [
        {
          "name": "stdout",
          "output_type": "stream",
          "text": [
            "name: Python Course\n",
            "trainer: Tonny Raiser\n",
            "price: 5000\n",
            "level: Advanced\n"
          ]
        }
      ],
      "source": [
        "class User:\n",
        "    def __init__(self, name: str, password: str, access_level: int):\n",
        "        self.name = name # hex hash\n",
        "        self.password = password # hex hash\n",
        "        self.access_level = access_level # 1-3: 1-Student, 2-Trainer, 3-Admin\n",
        "\n",
        "class Student(User):\n",
        "    def __init__(self, name, password):\n",
        "        super().__init__(name, password, 1)\n",
        "\n",
        "class Trainer(User):\n",
        "    def __init__(self, name, password):\n",
        "        super().__init__(name, password, 2)\n",
        "\n",
        "class Admin(User):\n",
        "    def __init__(self, name, password):\n",
        "        super().__init__(name, password, 3)\n",
        "\n",
        "class UserFactory:\n",
        "    @staticmethod\n",
        "    def make_user(type, name, password):\n",
        "        if type == \"student\":\n",
        "            return Student(name, password)\n",
        "        if type == \"trainer\":\n",
        "            return Trainer(name, password)\n",
        "        if type == \"admin\":\n",
        "            return Admin(name, password)\n",
        "\n",
        "# cu: `.cu_nume(str)`, `.cu_trainer(str)`, `.cu_pret(float)`, `.cu_nivel(str)`, `.construieste()`.\n",
        "class CourseBuilder:\n",
        "    def __init__(self):\n",
        "        self.name: str = None\n",
        "        self.trainer: str = None\n",
        "        self.price: float = None\n",
        "        self.level: str = None\n",
        "\n",
        "    def with_name(self, name: str):\n",
        "        self.name = name\n",
        "\n",
        "    def with_trainer(self, trainer: str):\n",
        "        self.trainer = trainer\n",
        "\n",
        "    def with_price(self, price: float):\n",
        "        self.price = price\n",
        "\n",
        "    def with_level(self, level: str):\n",
        "        self.level = level\n",
        "\n",
        "    def build_it(self):\n",
        "        name = input(\"name: \")\n",
        "        trainer = input(\"trainer: \")\n",
        "        price = input(\"price: \")\n",
        "        level = input(\"level: \")\n",
        "\n",
        "        self.with_name(name)\n",
        "        self.with_trainer(trainer)\n",
        "        self.with_price(price)\n",
        "        self.with_level(level)\n",
        "\n",
        "    def __str__(self):\n",
        "        return(f\"name: {self.name}\\n\"\n",
        "               f\"trainer: {self.trainer}\\n\"\n",
        "               f\"price: {self.price}\\n\"\n",
        "               f\"level: {self.level}\")\n",
        "\n",
        "admin = UserFactory.make_user(\"admin\", \"admin1\", \"1234\")\n",
        "\n",
        "course = CourseBuilder()\n",
        "\n",
        "course.with_name(\"Python Course\")\n",
        "course.with_trainer(\"Tonny Raiser\")\n",
        "course.with_price(5000)\n",
        "course.with_level(\"Advanced\")\n",
        "\n",
        "print(course)\n",
        "\n"
      ]
    },
    {
      "cell_type": "markdown",
      "metadata": {},
      "source": [
        "## Ex. 5 — Mini-quiz recapitulativ (răspunsuri în această celulă sau în cod dacă preferi)\n",
        "1. Ce problemă rezolvă **Singleton**?\n",
        "2. **Factory** vs **Builder** — care sunt diferențele de responsabilitate?\n",
        "3. Ce metode ar trebui să aibă un **Builder** bine structurat?\n",
        "4. Când ai folosi fiecare pattern dintre cele trei și de ce?\n"
      ]
    },
    {
      "cell_type": "code",
      "execution_count": 6,
      "metadata": {},
      "outputs": [],
      "source": [
        "# 1. Single instance, avoid confusion when you need a single Scheduler, Logger, etc...abs\n",
        "# 2. They look the same to me, classes with purposes. Factory in this example creates a class from different types, \n",
        "# builder incapsulates all methods needed to fully construct a more complex object\n",
        "# 3. A well structured builder should have all necessary  methods to complete the object instantiation within the required scope\n",
        "# 4. \n",
        "# Singleton - Scheduler\n",
        "#   Why: Avoids accidental multi intantiation\n",
        "#   Why: Simpler thread safety checks\n",
        "# The other two factory/builder are really just based on scope, they don't necessarily have a special place"
      ]
    },
    {
      "cell_type": "markdown",
      "metadata": {},
      "source": [
        "## Ex. 6a — Temă: **Logger Singleton** cu fișier istoric\n",
        "- Extinde `Logger` ca **Singleton** astfel încât `log()` să scrie mesajele și în fișierul `istoric.txt`.\n",
        "- Adaugă o opțiune simplă de formatare a mesajelor (ex.: timestamp + nivel).\n"
      ]
    },
    {
      "cell_type": "code",
      "execution_count": 7,
      "id": "3cb1bd7e",
      "metadata": {},
      "outputs": [
        {
          "name": "stdout",
          "output_type": "stream",
          "text": [
            "[2025-10-11 11:38:22] [INFO] test\n",
            "[2025-10-11 11:38:22] [ERROR] error text\n",
            "[2025-10-11 11:38:40] [INFO] test\n",
            "[2025-10-11 11:38:40] [ERROR] error text\n"
          ]
        }
      ],
      "source": [
        "import datetime\n",
        "\n",
        "class LoggerNew:\n",
        "    _instance = None\n",
        "    _file = \"istoric.txt\"\n",
        "    def __new__(cls):\n",
        "        if cls._instance is None:\n",
        "            cls._instance = super().__new__(cls)\n",
        "        return cls._instance\n",
        "\n",
        "    def log(self, message: str = None, level: str = \"INFO\"):\n",
        "        if message:\n",
        "            timestamp = datetime.datetime.now().strftime(\"%Y-%m-%d %H:%M:%S\")\n",
        "            line = f\"[{timestamp}] [{level.upper()}] {message}\"\n",
        "\n",
        "            if not line.endswith(\"\\n\"):\n",
        "                line += \"\\n\"\n",
        "\n",
        "            with open(self._file, 'a') as f:\n",
        "                f.write(line)\n",
        "\n",
        "        else:\n",
        "            with open(self._file, 'r') as f:\n",
        "                return [line.rstrip('\\n') for line in f]\n",
        "            \n",
        "\n",
        "logger1 = LoggerNew()\n",
        "\n",
        "logger1.log(\"test\")\n",
        "logger1.log(\"error text\", \"ERROR\")\n",
        "\n",
        "data = logger1.log()\n",
        "for l in data:\n",
        "    print(l)"
      ]
    },
    {
      "cell_type": "markdown",
      "metadata": {},
      "source": [
        "## Ex. 6b — Temă: **Factory** de animale\n",
        "- Implementează o fabrică ce poate returna obiecte `Caine`, `Pisica`, `Vaca`.\n",
        "- Fiecare clasă expune cel puțin o metodă reprezentativă (ex.: `sunet()` sau `descriere()`).\n"
      ]
    },
    {
      "cell_type": "code",
      "execution_count": null,
      "metadata": {},
      "outputs": [
        {
          "name": "stdout",
          "output_type": "stream",
          "text": [
            "[Dog] Rex\n",
            "[Cat] Misty\n",
            "[Cow] Bessie\n",
            "Rex barks!\n",
            "Misty is an animal of type Cat\n"
          ]
        }
      ],
      "source": [
        "class Animal:\n",
        "    def __init__(self, name):\n",
        "        self.name = name\n",
        "\n",
        "    def sound(self):\n",
        "        return f\"{self.__class__.__name__} sound\"\n",
        "\n",
        "    def description(self):\n",
        "        return f\"{self.name} is an animal of type {self.__class__.__name__}\"\n",
        "\n",
        "    def __str__(self):\n",
        "        return f\"[{self.__class__.__name__}] {self.name}\"\n",
        "\n",
        "class Dog(Animal):\n",
        "    def sound(self): \n",
        "        return f\"{self.name} barks!\"\n",
        "\n",
        "class Cat(Animal):\n",
        "    def sound(self): \n",
        "        return f\"{self.name} meows!\"\n",
        "\n",
        "class Cow(Animal):\n",
        "    def sound(self): \n",
        "        return f\"{self.name} moos!\"\n",
        "\n",
        "class AnimalsFactory:\n",
        "    _instance = None\n",
        "    _registry = {}\n",
        "\n",
        "    def __new__(cls):\n",
        "        if cls._instance is None:\n",
        "            cls._instance = super().__new__(cls)\n",
        "        return cls._instance\n",
        "    \n",
        "    @classmethod\n",
        "    def register(cls, name, animal_cls):\n",
        "        cls._registry[name.lower()] = animal_cls\n",
        "    \n",
        "    def build_animal(self, type_name: str, name: str):\n",
        "        animal_cls = self._registry.get(type_name.lower())\n",
        "        if not animal_cls:\n",
        "            raise ValueError(f\"Uknown animal type: {type_name}\")\n",
        "        \n",
        "        return animal_cls(name)\n",
        "\n",
        "AnimalsFactory.register(\"dog\", Dog)\n",
        "AnimalsFactory.register(\"cat\", Cat)\n",
        "AnimalsFactory.register(\"cow\", Cow)\n",
        "\n",
        "factory = AnimalsFactory()\n",
        "\n",
        "dog = factory.build_animal(\"dog\", \"Rex\")\n",
        "cat = factory.build_animal(\"cat\", \"Misty\")\n",
        "cow = factory.build_animal(\"cow\", \"Bessie\")\n",
        "\n",
        "print(dog)            # [Dog] Rex\n",
        "print(cat)            # [Cat] Misty\n",
        "print(cow)            # [Cow] Bessie\n",
        "\n",
        "print(dog.sound())    # Rex sound\n",
        "print(cat.description())  # Misty is an animal of type Cat"
      ]
    },
    {
      "cell_type": "markdown",
      "metadata": {},
      "source": [
        "## Ex. 6c — Temă: **Builder** de Pizza\n",
        "- Creează un `PizzaBuilder` care permite adăugarea de toppinguri (ex.: `.cu_blat(str)`, `.cu_sos(str)`, `.adauga_topping(str)`, `.construieste()`).\n",
        "- Rezultatul `Pizza` ar trebui să poată fi afișat într-un format prietenos (ex.: `__str__()` / `descriere()`).\n"
      ]
    },
    {
      "cell_type": "code",
      "execution_count": null,
      "metadata": {},
      "outputs": [
        {
          "name": "stdout",
          "output_type": "stream",
          "text": [
            "Pizza with thin crust, tomato sauce and mozzarella\n",
            "Pizza with stuffed crust, white sauce and chicken\n"
          ]
        }
      ],
      "source": [
        "class Pizza:\n",
        "    def __init__(self, crust, sauce, topping):\n",
        "        self.crust = crust\n",
        "        self.sauce = sauce\n",
        "        self.topping = topping\n",
        "\n",
        "    def __str__(self):\n",
        "        msg = \"Pizza with \"\n",
        "        msg = msg + f\"{self.crust}\" if self.crust else msg\n",
        "        msg = msg + f\", {self.sauce}\" if self.sauce else msg\n",
        "        msg = msg + f\" and {self.topping}\" if self.topping  else msg\n",
        "\n",
        "        return msg\n",
        "\n",
        "class PizzaBuilder:  \n",
        "    def __init__(self):\n",
        "        self.crust = None\n",
        "        self.sauce = None\n",
        "        self.topping = None\n",
        "\n",
        "    def with_crust(self, crust: str):\n",
        "        self.crust = crust\n",
        "        return self\n",
        "\n",
        "    def with_sauce(self, sauce: str):\n",
        "        self.sauce = sauce\n",
        "        return self\n",
        "\n",
        "    def add_topping(self, topping: str):\n",
        "        self.topping = topping\n",
        "        return self\n",
        "    \n",
        "    def build(self):\n",
        "        return Pizza(self.crust, self.sauce, self.topping)\n",
        "    \n",
        "\n",
        "builder = PizzaBuilder()\n",
        "\n",
        "# builder.with_crust(\"thin crust\")\n",
        "# builder.with_sauce(\"tomato sauce\")\n",
        "# builder.add_topping(\"mozzarella\")\n",
        "# pizza = builder.build()\n",
        "\n",
        "pizza = (builder\n",
        "          .with_crust(\"thin crust\")\n",
        "          .with_sauce(\"tomato sauce\")\n",
        "          .add_topping(\"mozzarella\")\n",
        "          .build()\n",
        "          )\n",
        "\n",
        "print(pizza)\n",
        "\n",
        "# another pizza\n",
        "pb = PizzaBuilder()\n",
        "pb.with_crust(\"stuffed crust\")\n",
        "pb.with_sauce(\"white sauce\")\n",
        "pb.add_topping(\"chicken\")\n",
        "print(pb.build())\n"
      ]
    }
  ],
  "metadata": {
    "kernelspec": {
      "display_name": ".venv",
      "language": "python",
      "name": "python3"
    },
    "language_info": {
      "codemirror_mode": {
        "name": "ipython",
        "version": 3
      },
      "file_extension": ".py",
      "mimetype": "text/x-python",
      "name": "python",
      "nbconvert_exporter": "python",
      "pygments_lexer": "ipython3",
      "version": "3.12.3"
    }
  },
  "nbformat": 4,
  "nbformat_minor": 5
}
