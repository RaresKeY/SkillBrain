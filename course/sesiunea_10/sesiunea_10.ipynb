{
  "cells": [
    {
      "cell_type": "markdown",
      "metadata": {},
      "source": [
        "# Sesiunea 10 – Algoritmi Avansați și Optimizare\n",
        "_Notebook de exerciții (fără soluții)._"
      ]
    },
    {
      "cell_type": "markdown",
      "metadata": {},
      "source": [
        "## Exercițiul 1 — Sortează 100.000 de numere cu Merge Sort și măsoară timpul\n",
        "- Generează o listă cu **100.000** de numere aleatoare.\n",
        "- Implementează **Merge Sort** (divide et impera).\n",
        "- Măsoară timpul de execuție folosind `time.time()` și afișează-l.\n",
        "- Verifică că lista rezultată este sortată corect.\n",
        "- Notează complexitatea teoretică: `O(n log n)` și discută diferențele observate față de timp."
      ]
    },
    {
      "cell_type": "code",
      "execution_count": 31,
      "metadata": {},
      "outputs": [
        {
          "name": "stdout",
          "output_type": "stream",
          "text": [
            "merge time taken: 0.28 s | python overhead + lack of extreme optimizations in algo\n",
            "timsort c implement time taken: 0.017 s\n"
          ]
        }
      ],
      "source": [
        "import random, time\n",
        "\n",
        "# numbers = [random.randint(-50000, 50000) for _ in range(0, 99_999)]\n",
        "numbers = [random.randint(-100_000, 100_000) for _ in range(0, 100_000)]\n",
        "\n",
        "def selection_sort(a):\n",
        "    for i in range(len(a)):\n",
        "        for y in range(i, len(a)):\n",
        "            if a[y] < a[i]:\n",
        "                a[i], a[y] = a[y], a[i]\n",
        "\n",
        "def insertion_sort(a):\n",
        "    for i in range(1, len(a)):\n",
        "        for j in range(i, 0, -1):\n",
        "            if a[j] < a[j - 1]:\n",
        "                a[j], a[j - 1] = a[j - 1], a[j]\n",
        "            else:\n",
        "                break\n",
        "\n",
        "def merge_two(a: list, b: list):\n",
        "    i = j = 0\n",
        "    new_full = []\n",
        "\n",
        "    while i < len(a) and j < len(b):\n",
        "        if a[i] < b[j]:\n",
        "            new_full.append(a[i])\n",
        "            i += 1\n",
        "        else:\n",
        "            new_full.append(b[j])\n",
        "            j += 1\n",
        "\n",
        "    new_full.extend(a[i:])\n",
        "    new_full.extend(b[j:])\n",
        "\n",
        "    return new_full\n",
        "\n",
        "\n",
        "def merge_sort(a):\n",
        "    if len(a) <= 4:\n",
        "        insertion_sort(a)\n",
        "        return\n",
        "\n",
        "    mid = len(a) // 2\n",
        "    left = a[:mid]\n",
        "    right = a[mid:]\n",
        "\n",
        "    merge_sort(left)\n",
        "    merge_sort(right)\n",
        "    \n",
        "    a[:] = merge_two(left, right)\n",
        "\n",
        "\n",
        "# print(numbers)\n",
        "\n",
        "start = time.time()\n",
        "merge_sort(numbers)\n",
        "end = time.time()\n",
        "\n",
        "# print(numbers)\n",
        "print(\"merge time taken:\", round(end - start, 3), \"s\", \"| python overhead + lack of extreme optimizations in algo\")\n",
        "\n",
        "numbers = [random.randint(-100_000, 100_000) for _ in range(0, 100_000)]\n",
        "\n",
        "start = time.time()\n",
        "numbers.sort()\n",
        "end = time.time()\n",
        "\n",
        "print(\"timsort c implement time taken:\", round(end - start, 3), \"s\")"
      ]
    },
    {
      "cell_type": "markdown",
      "metadata": {},
      "source": [
        "## Exercițiul 2 — Recursivitate & Memoizare: compară factorial cu și fără memo\n",
        "- Implementează `factorial(n)` recursiv **fără** memoizare.\n",
        "- Implementează o variantă **cu memoizare** (cache).\n",
        "- Cronometrează apelurile pentru mai multe valori (ex.: `n = 2000, 4000, 6000` sau o plajă sigură pentru mediul tău).\n",
        "- Compară timpii și discută impactul memoizării asupra performanței și consumului de memorie.\n",
        "- (Opțional) Repetă experimentul pentru altă funcție recursivă costisitoare (ex.: Fibonacci)."
      ]
    },
    {
      "cell_type": "code",
      "execution_count": 32,
      "metadata": {},
      "outputs": [
        {
          "name": "stdout",
          "output_type": "stream",
          "text": [
            "\n",
            "Factorial\n",
            "=========\n",
            "Initial mem size :        0 KB\n",
            "Final mem size   :      288 KB\n",
            "First run time   :   15.040 ms\n",
            "Second run time  :    0.176 ms\n",
            "\n",
            "Fibonacci Cached\n",
            "================\n",
            "Initial mem size :        0 KB\n",
            "Final mem size   :       72 KB\n",
            "First run time   :    0.834 ms\n",
            "Second run time  :    0.000 ms\n",
            "\n",
            "Fibonacci Plain\n",
            "===============\n",
            "First run time   :  126.131 ms\n",
            "Second run time  :  121.461 ms\n"
          ]
        }
      ],
      "source": [
        "import time\n",
        "import sys\n",
        "sys.setrecursionlimit(10000)\n",
        "\n",
        "\n",
        "def factorial(n):\n",
        "    global fac_memo\n",
        "    if n in fac_memo:\n",
        "        return fac_memo[n]\n",
        "    last = 1\n",
        "    if n > 1:\n",
        "        last = factorial(n - 1)\n",
        "        fac_memo[n] = n * last\n",
        "\n",
        "    return fac_memo[n]\n",
        "\n",
        "\n",
        "def fib(n): \n",
        "    if n <= 1: \n",
        "        return n \n",
        "    return fib(n-1) + fib(n-2)\n",
        "\n",
        "\n",
        "def fib_cache(n):\n",
        "    if n in fib_memo:\n",
        "        return fib_memo[n]\n",
        "    \n",
        "    fib_memo[n] = fib_cache(n-1) + fib_cache(n-2)\n",
        "\n",
        "    return fib_memo[n]\n",
        "\n",
        "\n",
        "def test_sm(title, funct, count=2000, memo=None):\n",
        "    print(f\"\\n{title}\")\n",
        "    print(\"=\" * len(title))\n",
        "\n",
        "    if memo:\n",
        "        print(f\"Initial mem size : {sys.getsizeof(memo) // 1024:>8} KB\")\n",
        "\n",
        "    start = time.time()\n",
        "    funct(count)\n",
        "    mid = time.time()\n",
        "    funct(count)\n",
        "    end = time.time()\n",
        "\n",
        "    if memo:\n",
        "        print(f\"Final mem size   : {sys.getsizeof(memo) // 1024:>8} KB\")\n",
        "\n",
        "    print(f\"First run time   : {(mid - start) * 1000:>8.3f} ms\")\n",
        "    print(f\"Second run time  : {(end - mid) * 1000:>8.3f} ms\")\n",
        "\n",
        "\n",
        "fac_memo = {1: 1}\n",
        "test_sm(\"Factorial\", factorial, 8000, fac_memo)\n",
        "\n",
        "fib_memo = {0: 0, 1: 1}\n",
        "test_sm(\"Fibonacci Cached\", fib_cache, 2000, fib_memo)\n",
        "\n",
        "test_sm(\"Fibonacci Plain\", fib, 30)"
      ]
    },
    {
      "cell_type": "markdown",
      "metadata": {},
      "source": [
        "## Exercițiul 3 — Greedy: Interval Scheduling (maximizarea participărilor)\n",
        "- Primești o listă de intervale `[(start, end), ...]` care reprezintă evenimente într-o zi.\n",
        "- Alege un **subansamblu maxim** de intervale **ne-suprapuse** pentru a maximiza numărul de participări.\n",
        "- Strategie clasică greedy: **sortează după `end` crescător** și selectează iterativ.\n",
        "- Afișează atât numărul de evenimente selectate, cât și lista intervalelor alese."
      ]
    },
    {
      "cell_type": "code",
      "execution_count": 33,
      "metadata": {},
      "outputs": [
        {
          "name": "stdout",
          "output_type": "stream",
          "text": [
            "[('08:00', '09:30'), ('09:15', '10:00'), ('10:30', '11:30'), ('11:00', '12:00'), ('13:00', '14:00'), ('14:00', '15:00'), ('15:30', '17:00'), ('16:45', '18:00'), ('19:00', '20:00')]\n",
            "[('08:00', '09:30'), ('10:30', '11:30'), ('13:00', '14:00'), ('14:00', '15:00'), ('15:30', '17:00'), ('19:00', '20:00')]\n"
          ]
        }
      ],
      "source": [
        "events = [\n",
        "    (\"08:00\", \"09:30\"),  # Morning meeting\n",
        "    (\"09:15\", \"10:00\"),  # Overlaps with above\n",
        "    (\"10:30\", \"11:30\"),\n",
        "    (\"11:00\", \"12:00\"),  # Overlaps with above\n",
        "    (\"13:00\", \"14:00\"),\n",
        "    (\"14:00\", \"15:00\"),\n",
        "    (\"15:30\", \"17:00\"),\n",
        "    (\"16:45\", \"18:00\"),  # Overlaps with above\n",
        "    (\"19:00\", \"20:00\")\n",
        "]\n",
        "\n",
        "\n",
        "def time_to_minutes(t: str) -> int:\n",
        "    h, m = map(int, t.split(\":\"))\n",
        "    return h * 60 + m\n",
        "\n",
        "\n",
        "def minutes_to_time(m: int) -> str:\n",
        "    h = m // 60\n",
        "    m = m % 60\n",
        "    return f\"{h:02d}:{m:02d}\"\n",
        "\n",
        "\n",
        "def greedy(events: list):\n",
        "    selected = []\n",
        "    current_end = 0\n",
        "\n",
        "    for start, end in events:\n",
        "        if start >= current_end:\n",
        "            selected.append((start, end))\n",
        "            current_end = end\n",
        "\n",
        "    return selected\n",
        "\n",
        "\n",
        "events.sort(key=lambda x: time_to_minutes(x[1]))\n",
        "print(events)\n",
        "new_events = [(time_to_minutes(x[0]), time_to_minutes(x[1])) for x in events] # convert to minutes pairs\n",
        "\n",
        "selected = greedy(new_events)\n",
        "re_made = [(minutes_to_time(s), minutes_to_time(e)) for s, e in selected]\n",
        "print(re_made)\n"
      ]
    },
    {
      "cell_type": "markdown",
      "metadata": {},
      "source": [
        "## Exercițiul 4 — Sortează un fișier CSV cu Merge Sort\n",
        "- Încarcă un fișier CSV care conține o coloană numerică (poți genera un fișier de test).\n",
        "- Extrage coloana numerică într-o listă și sorteaz-o cu **Merge Sort** implementat de tine.\n",
        "- Scrie rezultatul într-un nou fișier CSV și validează ordinea.\n",
        "- Cronometrează timpii de citire, sortare și scriere."
      ]
    },
    {
      "cell_type": "code",
      "execution_count": null,
      "metadata": {},
      "outputs": [
        {
          "name": "stdout",
          "output_type": "stream",
          "text": [
            "Gen: 0.001032s\n",
            "Read: 0.000878s\n",
            "Sort: 0.000353s\n",
            "Validate: 0.000212s\n",
            "Write: 0.000555s\n"
          ]
        }
      ],
      "source": [
        "import csv\n",
        "import time\n",
        "import random\n",
        "\n",
        "FILE_READ = \"input.csv\"\n",
        "FILE_WRITE = \"output.csv\"\n",
        "\n",
        "\n",
        "# Generează fișier CSV\n",
        "def generate_csv(filename=FILE_READ, n=100):\n",
        "    with open(filename, \"w\", newline=\"\") as f:\n",
        "        writer = csv.writer(f)\n",
        "        writer.writerow([\"id\", \"value\"])\n",
        "        for i in range(n):\n",
        "            writer.writerow([i, random.randint(0, 1000)])\n",
        "\n",
        "\n",
        "def values_extract(filename=FILE_READ):\n",
        "    final = []\n",
        "    with open(filename, \"r\", newline=\"\") as f:\n",
        "        reader = csv.reader(f)\n",
        "        next(reader)\n",
        "        for row in reader:\n",
        "            final.append(int(row[1]))\n",
        "\n",
        "    return final\n",
        "            \n",
        "\n",
        "start_gen = time.time()\n",
        "generate_csv()\n",
        "print(\"Gen:\".ljust(12), f\"{time.time() - start_gen:.6f}s\")\n",
        "\n",
        "start_read = time.time()\n",
        "values = values_extract()\n",
        "print(\"Read:\".ljust(12), f\"{time.time() - start_read:.6f}s\")\n",
        "\n",
        "start_sort = time.time()\n",
        "merge_sort(values)\n",
        "print(\"Sort:\".ljust(12), f\"{time.time() - start_sort:.6f}s\")\n",
        "\n",
        "start_validate = time.time()\n",
        "for i in range(len(values) - 1):\n",
        "    if values[i] > values[i + 1]:\n",
        "        raise ValueError(f\"Invalid Order [{i}]{values[i]} > [{i + 1}]{values[i + 1]}\")\n",
        "print(\"Validate:\".ljust(12), f\"{time.time() - start_validate:.6f}s\")\n",
        "\n",
        "start_write = time.time()\n",
        "with open(FILE_WRITE, \"w\", newline=\"\") as f:\n",
        "    writer = csv.writer(f)\n",
        "    writer.writerow([\"id\", \"value\"])\n",
        "    for id, v in enumerate(values):\n",
        "        writer.writerow([id, v])\n",
        "print(\"Write:\".ljust(12), f\"{time.time() - start_write:.6f}s\")\n"
      ]
    },
    {
      "cell_type": "markdown",
      "metadata": {},
      "source": [
        "## Exercițiul 5 — Backtracking: permutările unui cuvânt\n",
        "- Primește un cuvânt (ex.: `\"level\"`).\n",
        "- Generează **toate permutările** sale folosind **backtracking**.\n",
        "- Elimină duplicatele atunci când apar litere repetate.\n",
        "- Afișează numărul total de permutări unice și câteva exemple."
      ]
    },
    {
      "cell_type": "code",
      "execution_count": null,
      "metadata": {},
      "outputs": [],
      "source": []
    },
    {
      "cell_type": "markdown",
      "metadata": {},
      "source": [
        "## Exercițiul 6 — Greedy: planifică activități într-un buget de timp\n",
        "- Ai activități cu durate `d_i` și o limită totală de timp `T` într-o zi.\n",
        "- Folosește o strategie greedy (ex.: **SJF — Shortest Job First**) pentru a **maximiza numărul** de activități finalizate în `T`.\n",
        "- Afișează setul selectat, timpul total folosit și numărul de activități realizate."
      ]
    },
    {
      "cell_type": "code",
      "execution_count": null,
      "metadata": {},
      "outputs": [],
      "source": []
    },
    {
      "cell_type": "markdown",
      "metadata": {},
      "source": [
        "## Exercițiul 7 — Backtracking: problema celor 8 regine (afișare ASCII)\n",
        "- Plasează **8 regine** pe o tablă de șah 8×8 astfel încât **nicio** pereche să nu se atace.\n",
        "- Găsește **toate soluțiile** folosind backtracking.\n",
        "- Afișează cel puțin o soluție în **ASCII**, de exemplu cu `Q` pentru regină și `.` pentru gol.\n",
        "- (Opțional) Permite parametrizarea pentru `n` regine."
      ]
    },
    {
      "cell_type": "code",
      "execution_count": null,
      "metadata": {},
      "outputs": [],
      "source": []
    }
  ],
  "metadata": {
    "colab": {
      "provenance": []
    },
    "kernelspec": {
      "display_name": ".venv",
      "language": "python",
      "name": "python3"
    },
    "language_info": {
      "codemirror_mode": {
        "name": "ipython",
        "version": 3
      },
      "file_extension": ".py",
      "mimetype": "text/x-python",
      "name": "python",
      "nbconvert_exporter": "python",
      "pygments_lexer": "ipython3",
      "version": "3.12.3"
    }
  },
  "nbformat": 4,
  "nbformat_minor": 5
}
