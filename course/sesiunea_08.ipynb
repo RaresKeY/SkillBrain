{
  "cells": [
    {
      "cell_type": "markdown",
      "metadata": {},
      "source": [
        "# Sesiunea 8 – Design Patterns în Python\n",
        "_Notebook de exerciții (fără soluții)._"
      ]
    },
    {
      "cell_type": "markdown",
      "metadata": {},
      "source": [
        "## Ex. 1 — Test **Singleton**\n",
        "- Creează o clasă `Logger` implementată ca **Singleton** (o singură instanță în tot programul).\n",
        "- Metodă minimă: `log(mesaj: str)` care afișează sau reține mesajul.\n",
        "- Creează două variabile `log1` și `log2` și demonstrează că referă **aceeași** instanță (ex.: `id(log1) == id(log2)`).\n",
        "- Nu folosi soluții externe; implementează tu mecanismul Singleton.\n"
      ]
    },
    {
      "cell_type": "code",
      "execution_count": 2,
      "metadata": {},
      "outputs": [
        {
          "name": "stdout",
          "output_type": "stream",
          "text": [
            "<__main__.Logger object at 0x7ff39ae6bfb0>\n",
            "<__main__.Logger object at 0x7ff39ae6bfb0>\n",
            "test\n"
          ]
        }
      ],
      "source": [
        "class Logger:\n",
        "    _instance = None\n",
        "    _message = None\n",
        "\n",
        "    def __new__(cls):\n",
        "        if cls._instance is None:\n",
        "            cls._instance = super().__new__(cls)\n",
        "        return cls._instance\n",
        "    \n",
        "    def log(self, message: str = None):\n",
        "        if message:\n",
        "            self._message = message\n",
        "        else:\n",
        "            print(self._message)\n",
        "    \n",
        "logger1 = Logger()\n",
        "logger2 = Logger()\n",
        "\n",
        "print(logger1)\n",
        "print(logger2)\n",
        "\n",
        "logger2.log(\"test\")\n",
        "logger1.log()\n"
      ]
    },
    {
      "cell_type": "code",
      "execution_count": 3,
      "id": "b915fb3a",
      "metadata": {},
      "outputs": [
        {
          "name": "stdout",
          "output_type": "stream",
          "text": [
            "<__main__.Logger object at 0x7ff39ae68a40>\n",
            "<__main__.Logger object at 0x7ff39ae68a40>\n",
            "test\n"
          ]
        }
      ],
      "source": [
        "# with decorator\n",
        "def singleton(cls):\n",
        "    instances = {}\n",
        "\n",
        "    def get_instance(*args, **kwargs):\n",
        "        if cls not in instances:\n",
        "            instances[cls] = cls(*args, **kwargs)\n",
        "        return instances[cls]\n",
        "\n",
        "    return get_instance\n",
        "\n",
        "# Logger = singleton(Logger) -> get_instance\n",
        "@singleton\n",
        "class Logger:\n",
        "    def __init__(self):\n",
        "        self._message = None\n",
        "\n",
        "    def log(self, message: str = None):\n",
        "        if message:\n",
        "            self._message = message\n",
        "        else:\n",
        "            print(self._message)\n",
        "\n",
        "\n",
        "# this calls get_instance(Logger)\n",
        "logger1 = Logger()\n",
        "logger2 = Logger()\n",
        "\n",
        "print(logger1)\n",
        "print(logger2)\n",
        "\n",
        "logger2.log(\"test\")\n",
        "logger1.log()"
      ]
    },
    {
      "cell_type": "markdown",
      "id": "bbded0a2",
      "metadata": {},
      "source": [
        "## Ex. 2 — Test **Factory**\n",
        "- Implementează o **Factory** (de ex. `ProdusFactory`) care creează obiecte diferite în funcție de un parametru `tip` (ex.: `\"telefon\"`, `\"laptop\"`).\n",
        "- Fiecare tip are o clasă cu metoda `descriere()`.\n",
        "- Apelează `ProdusFactory.creeaza_produs(\"telefon\")` și afișează descrierea.\n"
      ]
    },
    {
      "cell_type": "code",
      "execution_count": 4,
      "metadata": {},
      "outputs": [
        {
          "name": "stdout",
          "output_type": "stream",
          "text": [
            "Galaxy 9\n",
            "Pixel 2\n",
            "Framework 13\n",
            "\n",
            "This is a Galaxy 9 Phone\n",
            "This is a Pixel 2 Phone\n",
            "This is a Framework 13 Laptop\n"
          ]
        }
      ],
      "source": [
        "@singleton\n",
        "class Factory:\n",
        "    def __init__(self):\n",
        "        self._type = None\n",
        "        self._products = []\n",
        "\n",
        "    def create_product(self, type):\n",
        "        self._products.append(type())\n",
        "\n",
        "    def show_products(self):\n",
        "        for p in self._products:\n",
        "            print(p)\n",
        "    \n",
        "\n",
        "class Product:\n",
        "    def __init__(self, name):\n",
        "        self.name = name\n",
        "    \n",
        "    def __str__(self):\n",
        "        return self.name\n",
        "    \n",
        "    def description(self):\n",
        "        return f\"This is a {self.name} {self.__class__.__name__.capitalize()}\"\n",
        "\n",
        "\n",
        "class Phone(Product):\n",
        "    def __init__(self, name):\n",
        "        super().__init__(name)\n",
        "\n",
        "    \n",
        "class Laptop(Product):\n",
        "    def __init__(self, name):\n",
        "        super().__init__(name)\n",
        "\n",
        "\n",
        "factory = Factory()\n",
        "factory.create_product(lambda: Phone(\"Galaxy 9\"))\n",
        "factory.create_product(lambda: Phone(\"Pixel 2\"))\n",
        "factory.create_product(lambda: Laptop(\"Framework 13\"))\n",
        "factory.show_products()\n",
        "print()\n",
        "\n",
        "for p in factory._products:\n",
        "    print(p.description())"
      ]
    },
    {
      "cell_type": "markdown",
      "metadata": {},
      "source": [
        "## Ex. 3 — Test **Builder**\n",
        "- Creează un `LaptopBuilder` cu metode de configurare (ex.: `.cu_ram(int)`, `.cu_ssd(int)`, `.cu_gpu(str)`).\n",
        "- Metoda finală `.construieste()` întoarce un obiect `Laptop` cu o metodă `descriere()`.\n",
        "- Construiește un laptop personalizat și afișează descrierea.\n"
      ]
    },
    {
      "cell_type": "code",
      "execution_count": 12,
      "metadata": {},
      "outputs": [
        {
          "name": "stdout",
          "output_type": "stream",
          "text": [
            "Framework 13\n",
            "Laptop contains: 32GB, 2000GB, discrete iGPU Tesseract GPU\n",
            "This is a Framework 13 Laptopbuilder\n"
          ]
        }
      ],
      "source": [
        "class LaptopBuilder(Product):\n",
        "    def __init__(self, name):\n",
        "        super().__init__(name)\n",
        "        self.ram = None\n",
        "        self.ssd = None\n",
        "        self.gpu = None\n",
        "\n",
        "    def with_ram(self, a: int):\n",
        "        self.ram = a\n",
        "\n",
        "    def with_ssd(self, a: int):\n",
        "        self.ssd = a\n",
        "\n",
        "    def with_gpu(self, a: str):\n",
        "        self.gpu = a\n",
        "\n",
        "    def description(self):\n",
        "        print(f\"Laptop contains: {self.ram}GB, {self.ssd}GB, {self.gpu} GPU\")\n",
        "        return super().description()\n",
        "\n",
        "    def __str__(self):\n",
        "        return super().__str__()\n",
        "\n",
        "\n",
        "frame = LaptopBuilder(\"Framework 13\")\n",
        "\n",
        "frame.with_ram(32)\n",
        "frame.with_ssd(2000)\n",
        "frame.with_gpu(\"discrete iGPU Tesseract\")\n",
        "\n",
        "print(frame)\n",
        "print(frame.description())"
      ]
    },
    {
      "cell_type": "markdown",
      "metadata": {},
      "source": [
        "## Ex. 4 — **Factory** + **Builder** într-un scenariu educațional\n",
        "- Creează `UtilizatorFactory` care produce tipuri de utilizatori: `Student`, `Trainer`, `Admin` (cu câmpuri de bază, ex.: `nume`).\n",
        "- Creează `CursBuilder` cu: `.cu_nume(str)`, `.cu_trainer(str)`, `.cu_pret(float)`, `.cu_nivel(str)`, `.construieste()`.\n",
        "- Folosește `UtilizatorFactory` pentru a crea un `Admin`, apoi construiește un `Curs` și afișează rezultatul.\n"
      ]
    },
    {
      "cell_type": "code",
      "execution_count": null,
      "metadata": {},
      "outputs": [],
      "source": []
    },
    {
      "cell_type": "markdown",
      "metadata": {},
      "source": [
        "## Ex. 5 — Mini-quiz recapitulativ (răspunsuri în această celulă sau în cod dacă preferi)\n",
        "1. Ce problemă rezolvă **Singleton**?\n",
        "2. **Factory** vs **Builder** — care sunt diferențele de responsabilitate?\n",
        "3. Ce metode ar trebui să aibă un **Builder** bine structurat?\n",
        "4. Când ai folosi fiecare pattern dintre cele trei și de ce?\n"
      ]
    },
    {
      "cell_type": "code",
      "execution_count": null,
      "metadata": {},
      "outputs": [],
      "source": []
    },
    {
      "cell_type": "markdown",
      "metadata": {},
      "source": [
        "## Ex. 6a — Temă: **Logger Singleton** cu fișier istoric\n",
        "- Extinde `Logger` ca **Singleton** astfel încât `log()` să scrie mesajele și în fișierul `istoric.txt`.\n",
        "- Adaugă o opțiune simplă de formatare a mesajelor (ex.: timestamp + nivel).\n"
      ]
    },
    {
      "cell_type": "code",
      "execution_count": null,
      "metadata": {},
      "outputs": [],
      "source": []
    },
    {
      "cell_type": "markdown",
      "metadata": {},
      "source": [
        "## Ex. 6b — Temă: **Factory** de animale\n",
        "- Implementează o fabrică ce poate returna obiecte `Caine`, `Pisica`, `Vaca`.\n",
        "- Fiecare clasă expune cel puțin o metodă reprezentativă (ex.: `sunet()` sau `descriere()`).\n"
      ]
    },
    {
      "cell_type": "code",
      "execution_count": null,
      "metadata": {},
      "outputs": [],
      "source": []
    },
    {
      "cell_type": "markdown",
      "metadata": {},
      "source": [
        "## Ex. 6c — Temă: **Builder** de Pizza\n",
        "- Creează un `PizzaBuilder` care permite adăugarea de toppinguri (ex.: `.cu_blat(str)`, `.cu_sos(str)`, `.adauga_topping(str)`, `.construieste()`).\n",
        "- Rezultatul `Pizza` ar trebui să poată fi afișat într-un format prietenos (ex.: `__str__()` / `descriere()`).\n"
      ]
    },
    {
      "cell_type": "code",
      "execution_count": null,
      "metadata": {},
      "outputs": [],
      "source": []
    }
  ],
  "metadata": {
    "kernelspec": {
      "display_name": ".venv",
      "language": "python",
      "name": "python3"
    },
    "language_info": {
      "codemirror_mode": {
        "name": "ipython",
        "version": 3
      },
      "file_extension": ".py",
      "mimetype": "text/x-python",
      "name": "python",
      "nbconvert_exporter": "python",
      "pygments_lexer": "ipython3",
      "version": "3.12.3"
    }
  },
  "nbformat": 4,
  "nbformat_minor": 5
}
