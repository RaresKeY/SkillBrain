{
  "cells": [
    {
      "cell_type": "markdown",
      "id": "06acfc40",
      "metadata": {
        "tags": [
          "title"
        ]
      },
      "source": [
        "# Sesiunea 9 – Structuri de Date și Algoritmi Esențiali în Python\n",
        "_Notebook de exerciții (fără soluții)._"
      ]
    },
    {
      "cell_type": "markdown",
      "id": "ac4d37da",
      "metadata": {
        "tags": [
          "exercitiu"
        ]
      },
      "source": [
        "## Exercițiu: Sortează o listă de tuple după vârstă\n",
        "- Ai o listă de persoane reprezentate ca tuple: `(nume: str, varsta: int)`.\n",
        "- Construiește o versiune **nouă** a listei sortată **crescător** după `varsta` folosind `sorted(key=...)`.\n",
        "- Afișează și o versiune sortată **descrescător**.\n",
        "- **Cerințe**: nu modifica lista inițială; păstrează stabilitatea la egalitate de vârstă; arată primele/ultimele 3 elemente.\n",
        "- **Exemplu de date** (poți modifica): `persoane = [(\"Ana\", 25), (\"Mihai\", 31), (\"Ioana\", 25), (\"Radu\", 19)]`."
      ]
    },
    {
      "cell_type": "code",
      "execution_count": 21,
      "id": "fad7df63",
      "metadata": {},
      "outputs": [
        {
          "name": "stdout",
          "output_type": "stream",
          "text": [
            "('Emma', 22)\n",
            "('Ava', 24)\n",
            "('Sophia', 25)\n",
            "\n",
            "('Ethan', 34)\n",
            "('Liam', 31)\n",
            "('Mason', 30)\n",
            "\n",
            "[('Sophia', 25), ('Ava', 24), ('Emma', 22)]\n",
            "[('Ethan', 34), ('Liam', 31), ('Mason', 30)]\n"
          ]
        }
      ],
      "source": [
        "people = [\n",
        "    (\"Ava\", 24),\n",
        "    (\"Liam\", 31),\n",
        "    (\"Noah\", 27),\n",
        "    (\"Emma\", 22),\n",
        "    (\"John\", 29),\n",
        "    (\"Ethan\", 34),\n",
        "    (\"Sophia\", 25),\n",
        "    (\"Mason\", 30),\n",
        "    (\"Isabella\", 28),\n",
        "    (\"Klaus\", 26)\n",
        "]\n",
        "\n",
        "# people.sort(key=lambda x: x[1])\n",
        "new_p = sorted(people, key=lambda x: x[1])\n",
        "\n",
        "for p in new_p[:3]:\n",
        "    print(p)\n",
        "\n",
        "print()\n",
        "new_p = sorted(people, key=lambda x: -x[1])\n",
        "\n",
        "for p in new_p[:3]:\n",
        "    print(p)\n",
        "\n",
        "print()\n",
        "\n",
        "print(new_p[-3:])\n",
        "print(new_p[:3])"
      ]
    },
    {
      "cell_type": "markdown",
      "id": "ac206f5c",
      "metadata": {
        "tags": [
          "exercitiu"
        ]
      },
      "source": [
        "## Exercițiu: Căutare binară în lista de scoruri\n",
        "- Pornește de la o **listă sortată crescător** de scoruri întregi.\n",
        "- Implementează o funcție `binary_search(lista, tinta) -> int` care întoarce indexul sau `-1` dacă nu există.\n",
        "- Testează cu o țintă prezentă și una absentă.\n",
        "- **Extensie opțională**: contorizează numărul de pași/comparații efectuate.\n",
        "- **Hint**: folosește doi indici `st` și `dr` și calculează `mid = (st + dr) // 2`."
      ]
    },
    {
      "cell_type": "code",
      "execution_count": null,
      "id": "1f88aff9",
      "metadata": {},
      "outputs": [
        {
          "name": "stdout",
          "output_type": "stream",
          "text": [
            "[1, 6, 11, 16, 21, 26, 31, 36, 41, 46, 51, 56, 61, 66, 71, 76, 81, 86, 91, 96, 101, 106, 111, 116, 121, 126, 131, 136, 141, 146, 151, 156, 161, 166, 171, 176, 181, 186, 191, 196]\n",
            "-1\n",
            "steps: 5, comparisons: 8\n"
          ]
        }
      ],
      "source": [
        "import random\n",
        "\n",
        "# list prep\n",
        "scores = [2, 66, 77, 88, 99, 200]\n",
        "scores = [x for x in range(1, 200, random.randint(1, 5))]\n",
        "print(scores)\n",
        "\n",
        "steps = 0\n",
        "comparisons = 0\n",
        "\n",
        "def binary_search(a: list, target: int) -> int:\n",
        "    global steps, comparisons\n",
        "    left = 0\n",
        "    right = len(a) - 1\n",
        "\n",
        "    while left <= right:\n",
        "        steps += 1\n",
        "        i = (left + right) // 2\n",
        "        # interesting find: arranging with most common case as first check in block makes for less comaprisons\n",
        "        if target > a[i]:\n",
        "            comparisons += 1\n",
        "            left = i + 1\n",
        "        elif a[i] == target:\n",
        "            comparisons += 2\n",
        "            return i\n",
        "        else:\n",
        "            comparisons += 2\n",
        "            right = i - 1\n",
        "\n",
        "    return -1\n",
        "\n",
        "print(binary_search(scores, 55))\n",
        "print(f\"steps: {steps}, comparisons: {comparisons}\")"
      ]
    },
    {
      "cell_type": "markdown",
      "id": "c4daa5f4",
      "metadata": {
        "tags": [
          "exercitiu"
        ]
      },
      "source": [
        "## Exercițiu: Sortează un dict de produse după preț\n",
        "- Ai un dicționar de produse: `{nume_produs: {\"pret\": float, \"stoc\": int}}`.\n",
        "- Produce o listă de tuple `(nume_produs, info)` ordonată **crescător** după `pret`.\n",
        "- Afișează **top 3** produse cele mai scumpe și media prețurilor.\n",
        "- **Cerințe**: nu presupune că toate cheile sunt prezente; tratează lipsa sau tipuri greșite cu valori implicite.\n",
        "- **Exemplu**: `produse = {\"mouse\": {\"pret\": 79.9, \"stoc\": 12}, \"laptop\": {\"pret\": 4999.0, \"stoc\": 3}}`."
      ]
    },
    {
      "cell_type": "code",
      "execution_count": 102,
      "id": "9297b3e5",
      "metadata": {},
      "outputs": [
        {
          "name": "stdout",
          "output_type": "stream",
          "text": [
            "Products:\n",
            "('mouse', {'price': 79.9, 'stock': 12})\n",
            "('headset', {'price': 149.9, 'stock': 10})\n",
            "('keyboard', {'price': 199.5, 'stock': 8})\n",
            "('laptop', {'price': 4999.0, 'stock': 3})\n",
            "('monitor', {'stock': 5})\n",
            "\n",
            "SUM:\n",
            "5428.3\n",
            "\n",
            "First 3:\n",
            "[('keyboard', {'price': 199.5, 'stock': 8}), ('laptop', {'price': 4999.0, 'stock': 3}), ('monitor', {'stock': 5})]\n",
            "\n",
            "Medie first 3:\n",
            "1732.8333333333333\n"
          ]
        }
      ],
      "source": [
        "products = {\n",
        "    \"mouse\": {\"price\": 79.9, \"stock\": 12},\n",
        "    \"laptop\": {\"price\": 4999.0, \"stock\": 3},\n",
        "    \"keyboard\": {\"price\": 199.5, \"stock\": 8},\n",
        "    \"monitor\": {\"stock\": 5},\n",
        "    \"headset\": {\"price\": 149.9, \"stock\": 10},\n",
        "}\n",
        "\n",
        "new_p = sorted([(key, value) for key, value in products.items()], key=lambda x: x[1].get(\"price\", float('inf')))\n",
        "sum_p = sum(value[1].get(\"price\", 0) for value in new_p)\n",
        "\n",
        "print(\"Products:\")\n",
        "for p in new_p:\n",
        "    print(p)\n",
        "\n",
        "print(\"\\nSUM:\")\n",
        "print(sum_p)\n",
        "\n",
        "print(\"\\nFirst 3:\")\n",
        "print(new_p[-3:])\n",
        "\n",
        "print(\"\\nMedie first 3:\")\n",
        "print(sum(value[1].get(\"price\", 0) for value in new_p[-3:]) / 3)"
      ]
    },
    {
      "cell_type": "markdown",
      "id": "934bbef7",
      "metadata": {
        "tags": [
          "exercitiu"
        ]
      },
      "source": [
        "## Exercițiu: Elimină duplicatele dintr-o listă folosind set\n",
        "- Primești o listă care poate conține duplicate.\n",
        "- Construieste o listă **nouă** cu elemente unice, **preservând ordinea** primei apariții.\n",
        "- Afișează numărul de elemente eliminate și rezultatul final.\n",
        "- **Hint**: Folosește un `set` pentru a memora ce ai văzut deja."
      ]
    },
    {
      "cell_type": "code",
      "execution_count": null,
      "id": "acb89cad",
      "metadata": {},
      "outputs": [
        {
          "name": "stdout",
          "output_type": "stream",
          "text": [
            "[2, 2, 5, 2, 2, 4, 5]\n",
            "[2, 5, 4]\n"
          ]
        }
      ],
      "source": [
        "import random\n",
        "\n",
        "scores = [random.randint(1, 5) for _ in range(1, 20, random.randint(3, 5))]\n",
        "print(scores)\n",
        "\n",
        "new_s = [s for s in {s: s for s in scores}]\n",
        "print(new_s)"
      ]
    }
  ],
  "metadata": {
    "generator": "PPTX -> IPYNB assistant",
    "kernelspec": {
      "display_name": ".venv",
      "language": "python",
      "name": "python3"
    },
    "language_info": {
      "codemirror_mode": {
        "name": "ipython",
        "version": 3
      },
      "file_extension": ".py",
      "mimetype": "text/x-python",
      "name": "python",
      "nbconvert_exporter": "python",
      "pygments_lexer": "ipython3",
      "version": "3.12.3"
    },
    "orig_filename": "Sesiunea_9_Structuri_Algoritmi_Python.pptx"
  },
  "nbformat": 4,
  "nbformat_minor": 5
}
