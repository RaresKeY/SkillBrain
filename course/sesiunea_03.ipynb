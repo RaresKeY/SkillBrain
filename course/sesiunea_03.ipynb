{
 "cells": [
  {
   "cell_type": "markdown",
   "id": "87c2fe9c",
   "metadata": {},
   "source": [
    "# Sesiunea 3 — Bucla `while`, bucla `for` și secretul repetiției\n",
    "_Notebook de exerciții (fără soluții)._\n"
   ]
  },
  {
   "cell_type": "markdown",
   "id": "3580fe06",
   "metadata": {},
   "source": [
    "### Exercițiu (practice): Numără invers de la 10 la 1 cu `while`\n",
    "- Pornește de la 10 și afișează numerele până la 1 inclusiv.\n",
    "- Folosește doar bucla `while`.\n",
    "- La final, afișează mesajul `Start!`."
   ]
  },
  {
   "cell_type": "code",
   "execution_count": 27,
   "id": "2c8ac30c",
   "metadata": {},
   "outputs": [
    {
     "name": "stdout",
     "output_type": "stream",
     "text": [
      "10\n",
      "9\n",
      "8\n",
      "7\n",
      "6\n",
      "5\n",
      "4\n",
      "3\n",
      "2\n",
      "1\n",
      "\n",
      "Start!\n"
     ]
    }
   ],
   "source": [
    "number = 10\n",
    "\n",
    "while number > 0:\n",
    "    print((number, number := number - 1)[0])\n",
    "\n",
    "print(\"\\nStart!\")"
   ]
  },
  {
   "cell_type": "markdown",
   "id": "0e88784f",
   "metadata": {},
   "source": [
    "### Exercițiu (practice): Cere parola până e corectă\n",
    "- Cere utilizatorului parola în mod repetat până când introduce parola corectă (de exemplu: `python123`).\n",
    "- Nu afișa parola corectă în clar în output.\n",
    "- După introducerea corectă, afișează `Acces permis`.\n",
    "- Folosește `while`."
   ]
  },
  {
   "cell_type": "code",
   "execution_count": null,
   "id": "f90db562",
   "metadata": {},
   "outputs": [
    {
     "name": "stdout",
     "output_type": "stream",
     "text": [
      "Acess respins!\n",
      "Acess respins!\n",
      "Acess permis\n"
     ]
    }
   ],
   "source": [
    "password_correct = \"python123\"\n",
    "\n",
    "while input(\"Password: \") != password_correct:\n",
    "    print(\"Acess respins!\")\n",
    "\n",
    "print(\"Acess permis\")"
   ]
  },
  {
   "cell_type": "markdown",
   "id": "031f0421",
   "metadata": {},
   "source": [
    "### Exercițiu (practice): Afișează pătratele numerelor 1..10 cu `for`\n",
    "- Afișează pentru fiecare `n` în [1..10] expresia `n^2 = valoare`.\n",
    "- Folosește `for` și `range`.\n",
    "- Nu folosi listă predefinită."
   ]
  },
  {
   "cell_type": "code",
   "execution_count": 30,
   "id": "c643a237",
   "metadata": {},
   "outputs": [
    {
     "name": "stdout",
     "output_type": "stream",
     "text": [
      "1\n",
      "4\n",
      "9\n",
      "16\n",
      "25\n",
      "36\n",
      "49\n",
      "64\n",
      "81\n",
      "100\n"
     ]
    }
   ],
   "source": [
    "for i in range(1, 11):\n",
    "    print(i ** 2)"
   ]
  },
  {
   "cell_type": "markdown",
   "id": "20244cdd",
   "metadata": {},
   "source": [
    "### Exercițiu (practice): Creează un meniu interactiv\n",
    "- Meniul trebuie să se repete până la alegerea opțiunii de ieșire.\n",
    "- Exemplu de opțiuni: `1. Orar`, `2. Note`, `3. Salut`, `4. Ieșire`.\n",
    "- Controlează opțiunile cu `if/elif` și buclă `while`.\n",
    "- Tratează și opțiuni invalide."
   ]
  },
  {
   "cell_type": "code",
   "execution_count": null,
   "id": "72d99f01",
   "metadata": {},
   "outputs": [
    {
     "name": "stdout",
     "output_type": "stream",
     "text": [
      "1. Orar\n",
      "2. Note\n",
      "3. Salut\n",
      "3. Iesire\n",
      "Ai ales: Orar\n"
     ]
    }
   ],
   "source": [
    "print(\"1. Orar\")\n",
    "print(\"2. Note\")\n",
    "print(\"3. Salut\")\n",
    "print(\"3. Iesire\")\n",
    "\n",
    "while True:\n",
    "    user_answer = input().casefold()\n",
    "    if user_answer == \"orar\" or user_answer == \"note\" or user_answer == \"salut\" or user_answer == \"iesire\":\n",
    "        break\n",
    "    else:\n",
    "        print(\"Try Again\")\n",
    "\n",
    "print(\"Ai ales:\", user_answer.capitalize())"
   ]
  },
  {
   "cell_type": "markdown",
   "id": "169185cd",
   "metadata": {},
   "source": [
    "### Exercițiu (while): Afișează un mesaj de 5 ori\n",
    "- Afișează de 5 ori mesajul `Învăț Python!`.\n",
    "- Folosește strict `while`."
   ]
  },
  {
   "cell_type": "code",
   "execution_count": 9,
   "id": "f14f5719",
   "metadata": {},
   "outputs": [
    {
     "name": "stdout",
     "output_type": "stream",
     "text": [
      "Învăț Python!\n",
      "Învăț Python!\n",
      "Învăț Python!\n",
      "Învăț Python!\n",
      "Învăț Python!\n"
     ]
    }
   ],
   "source": [
    "index = 0\n",
    "while index < 5:\n",
    "    print(\"Învăț Python!\")\n",
    "    index += 1"
   ]
  },
  {
   "cell_type": "markdown",
   "id": "97790525",
   "metadata": {},
   "source": [
    "### Exercițiu (while): Numără 1..10\n",
    "- Afișează numerele de la 1 la 10 (inclusiv).\n",
    "- Folosește `while`.\n",
    "- La final, afișează `Gata!`."
   ]
  },
  {
   "cell_type": "code",
   "execution_count": 11,
   "id": "6465b07c",
   "metadata": {},
   "outputs": [
    {
     "name": "stdout",
     "output_type": "stream",
     "text": [
      "1\n",
      "2\n",
      "3\n",
      "4\n",
      "5\n",
      "6\n",
      "7\n",
      "8\n",
      "9\n",
      "10\n",
      "Gata!\n"
     ]
    }
   ],
   "source": [
    "index = 1\n",
    "while index <= 10:\n",
    "    print(index)\n",
    "    index += 1\n",
    "print(\"Gata!\")"
   ]
  },
  {
   "cell_type": "markdown",
   "id": "62f96e18",
   "metadata": {},
   "source": [
    "### Exercițiu (while): Numără 10..1 invers\n",
    "- Afișează 10, 9, ..., 1.\n",
    "- Folosește `while`.\n",
    "- Evită buclele infinite."
   ]
  },
  {
   "cell_type": "code",
   "execution_count": 12,
   "id": "1f86d864",
   "metadata": {},
   "outputs": [
    {
     "name": "stdout",
     "output_type": "stream",
     "text": [
      "10\n",
      "9\n",
      "8\n",
      "7\n",
      "6\n",
      "5\n",
      "4\n",
      "3\n",
      "2\n",
      "1\n"
     ]
    }
   ],
   "source": [
    "index = 10\n",
    "while index >= 1:\n",
    "    print(index)\n",
    "    index -= 1"
   ]
  },
  {
   "cell_type": "markdown",
   "id": "b7acc5d7",
   "metadata": {},
   "source": [
    "### Exercițiu (while): Validare notă în intervalul 1-10\n",
    "- Cere o notă de la tastatură până când primești o valoare între 1 și 10 (inclusiv).\n",
    "- Pentru valori invalide, afișează un mesaj de eroare și cere din nou.\n",
    "- La final, confirmă nota acceptată."
   ]
  },
  {
   "cell_type": "code",
   "execution_count": null,
   "id": "d50c7c13",
   "metadata": {},
   "outputs": [
    {
     "name": "stdout",
     "output_type": "stream",
     "text": [
      "Nota acceptata.\n"
     ]
    }
   ],
   "source": [
    "while True:\n",
    "    user_input = input(\"Dami o valoare intre 1 si 10 (inclusiv)\")\n",
    "    if 1 <= int(user_input) <= 10:\n",
    "        break\n",
    "    else:\n",
    "        print(\"Try Again\")\n",
    "        \n",
    "print(\"Nota acceptata.\")"
   ]
  },
  {
   "cell_type": "markdown",
   "id": "7d5e441d",
   "metadata": {},
   "source": [
    "### Exercițiu (while): Demonstrație de buclă infinită (OPREȘTE MANUAL)\n",
    "- Construiește o buclă care rulează la nesfârșit.\n",
    "- Adaugă în interior o acțiune simplă (ex: afișează un punct).\n",
    "- Oprește manual execuția din IDE/terminal atunci când testezi.\n",
    "- **Atenție:** rulează scurt pentru a evita flood-ul în consolă."
   ]
  },
  {
   "cell_type": "code",
   "execution_count": null,
   "id": "1d2a2348",
   "metadata": {},
   "outputs": [],
   "source": [
    "while True:\n",
    "    print('.', sep=' ', end='')"
   ]
  },
  {
   "cell_type": "markdown",
   "id": "d82471bc",
   "metadata": {},
   "source": [
    "### Exercițiu (for + range): Pătrate 1..10\n",
    "- Reia exercițiul cu pătratele numerelor 1..10, dar păstrează-l aici pentru secțiunea `for`.\n",
    "- Formatează ieșirea identic: `n^2 = valoare`.\n",
    "- Folosește `for` și `range`."
   ]
  },
  {
   "cell_type": "code",
   "execution_count": 21,
   "id": "e06d24e0",
   "metadata": {},
   "outputs": [
    {
     "name": "stdout",
     "output_type": "stream",
     "text": [
      "1^2 = 1\n",
      "2^2 = 4\n",
      "3^2 = 9\n",
      "4^2 = 16\n",
      "5^2 = 25\n",
      "6^2 = 36\n",
      "7^2 = 49\n",
      "8^2 = 64\n",
      "9^2 = 81\n",
      "10^2 = 100\n"
     ]
    }
   ],
   "source": [
    "for i in range(1, 11):\n",
    "    print(f\"{i}^2 = {i**2}\")"
   ]
  },
  {
   "cell_type": "markdown",
   "id": "07f9155b",
   "metadata": {},
   "source": [
    "### Exercițiu (for + range): Numere pare 1..20\n",
    "- Afișează toate numerele pare din intervalul 1..20.\n",
    "- Folosește `range` cu pas potrivit sau o condiție `if`."
   ]
  },
  {
   "cell_type": "code",
   "execution_count": 23,
   "id": "162e6339",
   "metadata": {},
   "outputs": [
    {
     "name": "stdout",
     "output_type": "stream",
     "text": [
      "2\n",
      "4\n",
      "6\n",
      "8\n",
      "10\n",
      "12\n",
      "14\n",
      "16\n",
      "18\n",
      "20\n"
     ]
    }
   ],
   "source": [
    "for i in range(1, 21):\n",
    "    if not i % 2:\n",
    "        print(i)"
   ]
  },
  {
   "cell_type": "markdown",
   "id": "6a34f9fb",
   "metadata": {},
   "source": [
    "### Exercițiu (for + range): Piramidă de stele\n",
    "- Afișează o piramidă formată din caractere `*`.\n",
    "- Exemplu pentru înălțime 5:\n",
    "```\n",
    "*\n",
    "**\n",
    "***\n",
    "****\n",
    "*****\n",
    "```\n",
    "- Parametrizați înălțimea piramidei cu o variabilă."
   ]
  },
  {
   "cell_type": "code",
   "execution_count": 28,
   "id": "01bdc932",
   "metadata": {},
   "outputs": [
    {
     "name": "stdout",
     "output_type": "stream",
     "text": [
      "*\n",
      "**\n",
      "***\n",
      "****\n",
      "*****\n"
     ]
    }
   ],
   "source": [
    "height = 5\n",
    "\n",
    "for i in range(1, height + 1):\n",
    "    for y in range(i):\n",
    "        print('*', end='')\n",
    "    print()"
   ]
  },
  {
   "cell_type": "markdown",
   "id": "a66ed055",
   "metadata": {},
   "source": [
    "### Aplicație combinată: Ghicește numărul secret\n",
    "- Generează un număr întreg secret într-un interval ales (de ex. 1..20).\n",
    "- Cere utilizatorului să ghicească repetat până reușește.\n",
    "- Afișează indicii `Prea mic` / `Prea mare`.\n",
    "- Contorizează numărul de încercări."
   ]
  },
  {
   "cell_type": "code",
   "execution_count": 40,
   "id": "7bf371c9",
   "metadata": {},
   "outputs": [
    {
     "name": "stdout",
     "output_type": "stream",
     "text": [
      "Prea Mare\n",
      "10\n"
     ]
    }
   ],
   "source": [
    "import random\n",
    "\n",
    "secret_number = random.randint(1, 20)\n",
    "\n",
    "user_input = int(\"1230\")\n",
    "\n",
    "while user_input != secret_number:\n",
    "    user_input = int(input(\"Guess the number: \"))\n",
    "    if user_input < secret_number:\n",
    "        print(\"Prea Mic\")\n",
    "    elif user_input > secret_number:\n",
    "        print(\"Prea Mare\")\n",
    "\n",
    "print(secret_number)"
   ]
  },
  {
   "cell_type": "markdown",
   "id": "7680370f",
   "metadata": {},
   "source": [
    "### Aplicație combinată: Pătrat 5x5 din `*`\n",
    "- Afișează un pătrat de 5 linii, fiecare linie cu 5 caractere `*`.\n",
    "- Folosește bucle imbricate."
   ]
  },
  {
   "cell_type": "code",
   "execution_count": 41,
   "id": "ba09db0b",
   "metadata": {},
   "outputs": [
    {
     "name": "stdout",
     "output_type": "stream",
     "text": [
      "*****\n",
      "*****\n",
      "*****\n",
      "*****\n",
      "*****\n"
     ]
    }
   ],
   "source": [
    "width = 5\n",
    "\n",
    "for i in range(width):\n",
    "    for y in range(width):\n",
    "        print('*', end='')\n",
    "    print()"
   ]
  },
  {
   "cell_type": "markdown",
   "id": "9538da6d",
   "metadata": {},
   "source": [
    "### Aplicație combinată: Triunghi invers din `*`\n",
    "- Afișează un triunghi inversat din `*`.\n",
    "- Exemplu pentru înălțime 5:\n",
    "```\n",
    "*****\n",
    "****\n",
    "***\n",
    "**\n",
    "*\n",
    "```\n",
    "- Parametrizați înălțimea triunghiului cu o variabilă."
   ]
  },
  {
   "cell_type": "code",
   "execution_count": 47,
   "id": "c0c6854e",
   "metadata": {},
   "outputs": [
    {
     "name": "stdout",
     "output_type": "stream",
     "text": [
      "*****\n",
      "****\n",
      "***\n",
      "**\n",
      "*\n"
     ]
    }
   ],
   "source": [
    "width = 5\n",
    "\n",
    "for i in range(width, 0, -1):\n",
    "    for y in range(i):\n",
    "        print('*', end='')\n",
    "    print()"
   ]
  },
  {
   "cell_type": "markdown",
   "id": "8d16e1e7",
   "metadata": {},
   "source": [
    "### Proiect mic: Meniu interactiv (versiune detaliată)\n",
    "- Construiește un meniu care rulează în buclă până la `Ieșire`.\n",
    "- Opțiuni recomandate:\n",
    "  1. Afișează orarul (ex. o listă predefinită)\n",
    "  2. Gestionează note (adauga/afișează)\n",
    "  3. Salută utilizatorul\n",
    "  4. Ieșire\n",
    "- Folosește `while`, `if/elif`, funcții opționale și validare intrări.\n",
    "- Tratează cazuri invalide și confirmă acțiunile."
   ]
  },
  {
   "cell_type": "code",
   "execution_count": null,
   "id": "02973700",
   "metadata": {},
   "outputs": [
    {
     "name": "stdout",
     "output_type": "stream",
     "text": [
      "1. Afișează orarul (ex. o listă predefinită)\n",
      "2. Gestionează note (adauga/afișează)\n",
      "3. Salută utilizatorul\n",
      "4. Ieșire\n",
      "\n",
      "Rares 10\n",
      "Cosmin 10\n",
      "Mihaela 10\n",
      "\n",
      "New List:\n",
      "Rares 10\n",
      "Cosmin 10\n",
      "Mihaela 10\n",
      "Paul  10\n",
      "\n",
      "\n",
      "Invalid choice\n",
      "\n",
      "\n",
      "Exiting...\n"
     ]
    }
   ],
   "source": [
    "menu = [\"1. Afișează orarul (ex. o listă predefinită)\", \"2. Gestionează note (adauga/afișează)\", \"3. Salută utilizatorul\", \"4. Ieșire\"]\n",
    "orar = [\"Monday: Beginners\", \"Tuesday: Advanced\", \"Thursday: Whole Group\"]\n",
    "notes = {'Rares': 10, \"Cosmin\": 10, \"Mihaela\": 10}\n",
    "answer = \"\"\n",
    "\n",
    "for item in menu:\n",
    "    print(item)\n",
    "\n",
    "while answer != '4':\n",
    "    answer = input(\"Choose: \")\n",
    "    print()\n",
    "\n",
    "    if answer == '1':\n",
    "        print(\"Orar\")\n",
    "        for item in orar:\n",
    "            print(item)\n",
    "\n",
    "    elif answer == '2':\n",
    "        for name, note in notes.items():\n",
    "            print(name, note)\n",
    "        new_pair = input(\"\\nEnter new key: value pair\").strip()\n",
    "        key, value = new_pair.split(\":\")\n",
    "        notes.update({key: value})\n",
    "\n",
    "        print(\"\\nNew List:\")\n",
    "        for name, note in notes.items():\n",
    "            print(name, note)\n",
    "\n",
    "    elif answer == '3':\n",
    "        print(\"\\nHello there!\")\n",
    "\n",
    "    elif answer == '4':\n",
    "        print(\"\\nExiting...\")\n",
    "\n",
    "    else:\n",
    "        print(\"\\nInvalid choice\")"
   ]
  },
  {
   "cell_type": "markdown",
   "id": "6bbe7daf",
   "metadata": {},
   "source": [
    "### Quiz: Diferența între `for` și `while`\n",
    "- Scrie o explicație scurtă în propriile cuvinte.\n",
    "- Dă câte un exemplu de utilizare pentru fiecare buclă (doar descriere, fără cod)."
   ]
  },
  {
   "cell_type": "code",
   "execution_count": null,
   "id": "59c0fe2e",
   "metadata": {},
   "outputs": [],
   "source": [
    "# for   - going over a predefined range\n",
    "# while - continuing a loop until meeting a condition"
   ]
  },
  {
   "cell_type": "markdown",
   "id": "feb3c00a",
   "metadata": {},
   "source": [
    "### Quiz: Ce face `range(3, 10, 2)`?\n",
    "- Descrie secvența generată de apelul `range(3, 10, 2)`.\n",
    "- Menționează primul, al doilea și ultimul element."
   ]
  },
  {
   "cell_type": "code",
   "execution_count": null,
   "id": "3a2197ff",
   "metadata": {},
   "outputs": [],
   "source": [
    "# incepand cu 3, adauga 2 pana la < 10\n",
    "# primul, al doilea și ultimul element: 3 5 9"
   ]
  },
  {
   "cell_type": "markdown",
   "id": "f3ab0ca0",
   "metadata": {},
   "source": [
    "### Quiz: Cum evităm buclele infinite?\n",
    "- Enumeră 2–3 bune practici pentru a preveni buclele infinite.\n",
    "- Oferă exemple scurte (descriere, nu cod)."
   ]
  },
  {
   "cell_type": "code",
   "execution_count": null,
   "id": "d05a9f47",
   "metadata": {},
   "outputs": [],
   "source": [
    "# folosind for\n",
    "# evitand while True\n",
    "# making sure there is an exit condition always"
   ]
  },
  {
   "cell_type": "markdown",
   "id": "fe2cc752",
   "metadata": {},
   "source": [
    "### Exercițiu recapitulare: Ani 1990–2000\n",
    "- Afișează anii de la 1990 la 2000 (inclusiv) pe linii separate.\n",
    "- Folosește `for` și `range`.\n",
    "- Afișează la final numărul total de ani tipăriți."
   ]
  },
  {
   "cell_type": "code",
   "execution_count": 5,
   "id": "bd7ddafc",
   "metadata": {},
   "outputs": [
    {
     "name": "stdout",
     "output_type": "stream",
     "text": [
      "1990\n",
      "1991\n",
      "1992\n",
      "1993\n",
      "1994\n",
      "1995\n",
      "1996\n",
      "1997\n",
      "1998\n",
      "1999\n",
      "2000\n",
      "11\n"
     ]
    }
   ],
   "source": [
    "ani = 0\n",
    "\n",
    "for i in range(1990, 2001):\n",
    "    print(i)\n",
    "    ani += 1\n",
    "print(ani)"
   ]
  },
  {
   "cell_type": "markdown",
   "id": "b4617daf",
   "metadata": {},
   "source": [
    "### Temă: PIN corect cu `while`\n",
    "- Cere în mod repetat un PIN până când e corect.\n",
    "- Limitează numărul de încercări (de ex. la 3) și blochează dacă e depășit.\n",
    "- Afișează mesaje adecvate pentru succes/eșec."
   ]
  },
  {
   "cell_type": "code",
   "execution_count": 8,
   "id": "0daa2127",
   "metadata": {},
   "outputs": [
    {
     "name": "stdout",
     "output_type": "stream",
     "text": [
      "Good Job\n"
     ]
    }
   ],
   "source": [
    "tries = 0\n",
    "saved_pin = '0000'\n",
    "cand_pin = '0'\n",
    "\n",
    "while cand_pin != saved_pin and tries < 3:\n",
    "    cand_pin = input(\"Try Again: \")\n",
    "    tries += 1\n",
    "\n",
    "if cand_pin == saved_pin:\n",
    "    print(\"Good Job\")\n",
    "else:\n",
    "    print(\"Max tries depleted\")"
   ]
  },
  {
   "cell_type": "markdown",
   "id": "3e75d52f",
   "metadata": {},
   "source": [
    "### Temă: Afișare listă numerotată\n",
    "- Primește de la utilizator un număr `n` și apoi `n` elemente (string-uri).\n",
    "- Afișează elementele numerotate: `1. ...`, `2. ...`, etc.\n",
    "- Folosește o buclă pentru parcurgere."
   ]
  },
  {
   "cell_type": "code",
   "execution_count": null,
   "id": "21f83e1e",
   "metadata": {},
   "outputs": [
    {
     "name": "stdout",
     "output_type": "stream",
     "text": [
      "0 awdsa\n",
      "1 hasdf\n",
      "2 asd\n"
     ]
    }
   ],
   "source": [
    "\n",
    "n = int(input(\"Define number of elements: \"))\n",
    "\n",
    "for i in range(1, n+1):\n",
    "    element = input(\"Next element:\")\n",
    "    print(i, element)"
   ]
  },
  {
   "cell_type": "markdown",
   "id": "9d7b32d5",
   "metadata": {},
   "source": [
    "### Temă: Suma numerelor pare 1–100\n",
    "- Calculează și afișează suma tuturor numerelor pare din intervalul 1..100.\n",
    "- Nu folosi funcții predefinite de sumare directă pe secvențe gata făcute; construiește logica cu bucle."
   ]
  },
  {
   "cell_type": "code",
   "execution_count": null,
   "id": "ff253649",
   "metadata": {},
   "outputs": [
    {
     "name": "stdout",
     "output_type": "stream",
     "text": [
      "2550\n"
     ]
    }
   ],
   "source": [
    "sum_even = 0\n",
    "for i in range(1, 101):\n",
    "    if not i % 2:\n",
    "        sum_even += i\n",
    "\n",
    "print(sum_even)"
   ]
  }
 ],
 "metadata": {
  "kernelspec": {
   "display_name": ".venv",
   "language": "python",
   "name": "python3"
  },
  "language_info": {
   "codemirror_mode": {
    "name": "ipython",
    "version": 3
   },
   "file_extension": ".py",
   "mimetype": "text/x-python",
   "name": "python",
   "nbconvert_exporter": "python",
   "pygments_lexer": "ipython3",
   "version": "3.12.3"
  }
 },
 "nbformat": 4,
 "nbformat_minor": 5
}
