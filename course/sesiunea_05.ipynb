{
 "cells": [
  {
   "cell_type": "markdown",
   "id": "c4ece957",
   "metadata": {},
   "source": [
    "# Sesiunea 5 – Funcțiile: Super-puterea din Python\n",
    "_Notebook de exerciții (fără soluții)._"
   ]
  },
  {
   "cell_type": "markdown",
   "id": "1c878e6c",
   "metadata": {},
   "source": [
    "### Exercițiu 1: Media notelor\n",
    "**Scop:** scrie o funcție `media_note(notes)` care primește o listă de numere (note) și întoarce media aritmetică.\n",
    "**Detalii:** gestionează lista goală (returnează `None` sau ridică `ValueError`), rotunjirea rămâne la alegerea ta.\n",
    "**Ex.:** `media_note([10, 7, 8]) -> 8.333...`"
   ]
  },
  {
   "cell_type": "code",
   "execution_count": 1,
   "id": "8be1d3e1",
   "metadata": {},
   "outputs": [
    {
     "data": {
      "text/plain": [
       "8.333333333333334"
      ]
     },
     "execution_count": 1,
     "metadata": {},
     "output_type": "execute_result"
    }
   ],
   "source": [
    "def average(grades):\n",
    "    return sum(grades) / len(grades)\n",
    "\n",
    "average([10, 7, 8])"
   ]
  },
  {
   "cell_type": "markdown",
   "id": "ee4fe7d3",
   "metadata": {},
   "source": [
    "### Exercițiu 2: Major sau minor\n",
    "**Scop:** scrie o funcție `este_major(varsta)` care întoarce `True` dacă `varsta >= 18`, altfel `False`.\n",
    "**Detalii:** validează ca `varsta` să fie număr întreg nenegativ."
   ]
  },
  {
   "cell_type": "code",
   "execution_count": null,
   "id": "b885265c",
   "metadata": {},
   "outputs": [],
   "source": [
    "def of_age(age):\n",
    "    if not isinstance(age, int) or age < 0:\n",
    "        raise ValueError(\"Age must be non-negative integer\")\n",
    "    return age >= 18\n",
    "\n",
    "of_age(18)"
   ]
  },
  {
   "cell_type": "markdown",
   "id": "7b6dff17",
   "metadata": {},
   "source": [
    "### Exercițiu 3: Medie variabilă (*args)\n",
    "**Scop:** scrie o funcție `media_variabila(*args)` care calculează media numerelor primite ca argumente variadice.\n",
    "**Detalii:** dacă nu se primește niciun argument, întoarce `None` sau ridică o excepție."
   ]
  },
  {
   "cell_type": "code",
   "execution_count": null,
   "id": "de760040",
   "metadata": {},
   "outputs": [],
   "source": [
    "def avg_vars(*args) -> float:\n",
    "    if not args:\n",
    "        return False\n",
    "    return sum(args) / len(list(args))\n",
    "\n",
    "avg_vars()"
   ]
  },
  {
   "cell_type": "markdown",
   "id": "1bafabf1",
   "metadata": {},
   "source": [
    "### Exercițiu 4: Produsul cel mai scump\n",
    "**Scop:** scrie o funcție `produs_cel_mai_scump(produse)` care primește o listă de dicționare (ex.: `{'nume': 'Caiet', 'pret': 12.5}`) și întoarce produsul cu prețul maxim.\n",
    "**Detalii:** tratează lista goală și absența cheilor așteptate."
   ]
  },
  {
   "cell_type": "code",
   "execution_count": 28,
   "id": "911f65ae",
   "metadata": {},
   "outputs": [
    {
     "name": "stdout",
     "output_type": "stream",
     "text": [
      "{'name': 'unknown', 'pret': 400.5}\n"
     ]
    }
   ],
   "source": [
    "products = [{'nume': 'Caiet', 'pret': 12.5},\n",
    "            {'nume': 'Pen', 'pret': 1.99},\n",
    "            {'nume': 'Orange'},\n",
    "            {'pret': 400.5},\n",
    "            {'nume': 'Ice Cream', 'pret': 5.99},\n",
    "            {'nume': 'RC Car', 'pret': 222.5},\n",
    "           ]\n",
    "\n",
    "most_expensive_item = {\"name\": \"unknown\", \"pret\": 0}\n",
    "\n",
    "def most_expensive(products: list[dict]):\n",
    "    for d in products:\n",
    "        for key, value in d.items():\n",
    "            cost = value if key == \"pret\" else 0\n",
    "            if cost > most_expensive_item[\"pret\"]:\n",
    "                most_expensive_item [\"pret\"] = cost                \n",
    "                most_expensive_item[\"name\"] = d.get(\"nume\", \"unknown\")\n",
    "\n",
    "most_expensive(products)\n",
    "print(most_expensive_item)"
   ]
  },
  {
   "cell_type": "markdown",
   "id": "8f754309",
   "metadata": {},
   "source": [
    "### Exercițiu 5: Gestiune salariați (funcții aplicate)\n",
    "**Scop:** construiește un mini-modul care gestionează o listă de angajați (listă de dicționare: `{'nume': str, 'salariu': float}`).\n",
    "**Cerințe:**\n",
    "- `adauga_angajat(lista, nume, salariu)` → adaugă un angajat;\n",
    "- `afiseaza_angajati(lista)` → afișează toți angajații într-un format clar (doar return, fara print obligatoriu);\n",
    "- `total_salarii(lista)` → întoarce suma salariilor.\n",
    "**Detalii:** validează datele, nu duplica în mod accidental înregistrările."
   ]
  },
  {
   "cell_type": "code",
   "execution_count": 33,
   "id": "0fa5b5ea",
   "metadata": {},
   "outputs": [
    {
     "name": "stdout",
     "output_type": "stream",
     "text": [
      "name Alice\n",
      "salary 72000.0\n",
      "\n",
      "name Bob\n",
      "salary 68500.0\n",
      "\n",
      "name Charlie\n",
      "salary 91000.0\n",
      "\n",
      "name Fiona\n",
      "salary 75500.0\n",
      "\n",
      "name Nina\n",
      "salary 70000.0\n",
      "\n",
      "name John\n",
      "salary 83000.0\n",
      "\n",
      "460000.0\n"
     ]
    }
   ],
   "source": [
    "employees = [\n",
    "    {'name': 'Alice', 'salary': 72000.0},\n",
    "    {'name': 'Bob', 'salary': 68500.0},\n",
    "    {'name': 'Charlie', 'salary': 91000.0},\n",
    "    {'name': 'Fiona', 'salary': 75500.0},\n",
    "    {'name': 'Nina', 'salary': 70000.0},\n",
    "\n",
    "]\n",
    "\n",
    "def add_employee(name, salary):\n",
    "    if any(e['name'] == name for e in employees):\n",
    "        return\n",
    "    employees.append({\"name\": name, \"salary\": salary})\n",
    "\n",
    "def list_employees(employees):\n",
    "    for e in employees:\n",
    "        for k, v in e.items():\n",
    "            print(k, v)\n",
    "        print()\n",
    "\n",
    "def total_salary(employees):\n",
    "    sum = 0\n",
    "    for e in employees:\n",
    "        sum += e['salary']\n",
    "    return sum\n",
    "\n",
    "add_employee(\"John\", 83000.0)\n",
    "list_employees(employees)\n",
    "print(total_salary(employees))"
   ]
  },
  {
   "cell_type": "markdown",
   "id": "d1f73fbd",
   "metadata": {},
   "source": [
    "### Exercițiu 6 (Temă): Operații matematice\n",
    "**Scop:** implementează funcții simple: `aduna(a, b)`, `scade(a, b)`, `inmulteste(a, b)`, `imparte(a, b)`.\n",
    "**Detalii:** gestionați împărțirea la zero și tipurile numerice."
   ]
  },
  {
   "cell_type": "code",
   "execution_count": 35,
   "id": "8a033549",
   "metadata": {},
   "outputs": [
    {
     "name": "stdout",
     "output_type": "stream",
     "text": [
      "5\n",
      "-1\n",
      "6\n",
      "0.6666666666666666\n",
      "nan\n"
     ]
    }
   ],
   "source": [
    "def add(a, b):\n",
    "    return a + b\n",
    "\n",
    "def sub(a, b):\n",
    "    return a - b\n",
    "\n",
    "def mul(a, b):\n",
    "    return a * b\n",
    "\n",
    "def div(a, b):\n",
    "    if b == 0:\n",
    "        return float(\"nan\")\n",
    "    return a / b\n",
    "\n",
    "print(add(2, 3))\n",
    "print(sub(2, 3))\n",
    "print(mul(2, 3))\n",
    "print(div(2, 3))\n",
    "print(div(2, 0))"
   ]
  },
  {
   "cell_type": "markdown",
   "id": "5618eae4",
   "metadata": {},
   "source": [
    "### Exercițiu 7 (Temă): Email personalizat\n",
    "**Scop:** scrie o funcție `email_personalizat(nume, subiect, mesaj)` care întoarce un șablon de email formatat frumos.\n",
    "**Detalii:** nu trimite emailul; doar construiește textul returnat."
   ]
  },
  {
   "cell_type": "code",
   "execution_count": 47,
   "id": "2a548913",
   "metadata": {},
   "outputs": [
    {
     "name": "stdout",
     "output_type": "stream",
     "text": [
      "Subiect: Salut!\n",
      "\n",
      "Bună, Andrei,\n",
      "\n",
      "Sper că ai o zi bună!\n",
      "\n",
      "Cu stima,\n",
      "Echipa ta\n"
     ]
    }
   ],
   "source": [
    "def personalized_email(name, subject, message):\n",
    "    msg = f\"Subiect: {subject}\\n\\n\" + \\\n",
    "          f\"Bună, {name},\\n\\n\" + \\\n",
    "          f\"{message}\\n\\n\" + \\\n",
    "          f\"Cu stima,\\n\" + \\\n",
    "          f\"Echipa ta\"\n",
    "\n",
    "    return msg\n",
    "\n",
    "print(personalized_email(\"Andrei\", \"Salut!\", \"Sper că ai o zi bună!\"))"
   ]
  },
  {
   "cell_type": "markdown",
   "id": "cb028b13",
   "metadata": {},
   "source": [
    "### Exercițiu 8 (Temă): Media clasei din dicționar\n",
    "**Scop:** scrie `media_clasei(elevi)` unde `elevi` este un dicționar de forma `{'Ana': [10, 9], 'Mihai': [8, 7, 9]}`; funcția întoarce media tuturor notelor.\n",
    "**Detalii:** gestionează absența listelor sau liste goale."
   ]
  },
  {
   "cell_type": "code",
   "execution_count": 1,
   "id": "84ba5914",
   "metadata": {},
   "outputs": [
    {
     "name": "stdout",
     "output_type": "stream",
     "text": [
      "8.0\n"
     ]
    }
   ],
   "source": [
    "students = {'Ana': [10, 9], 'Mihai': [8, 7, 9], 'Bob': [], \"Tracy\": \"5\", \"Jhonatan\": 8}\n",
    "\n",
    "def mean_classroom(students):\n",
    "    count = 0\n",
    "    note_sum = 0\n",
    "    for k, v in students.items():\n",
    "        if isinstance(v, list) and v:\n",
    "            for n in v:\n",
    "                if n in range(1, 11):\n",
    "                    note_sum += n\n",
    "                    count += 1\n",
    "        elif isinstance(v, (int, float)):\n",
    "            if v in range(1, 11):\n",
    "                note_sum += v\n",
    "                count += 1\n",
    "        elif isinstance(v, str) and v.isdigit():\n",
    "            if int(v) in range(1, 11):\n",
    "                note_sum += int(v)\n",
    "                count += 1\n",
    "\n",
    "    return note_sum / count\n",
    "\n",
    "print(mean_classroom(students))"
   ]
  },
  {
   "cell_type": "markdown",
   "id": "1e9f1047",
   "metadata": {},
   "source": [
    "### Exercițiu 9: Funcții care apelează alte funcții (modularizare)\n",
    "**Scop:** definește `finalizeaza_comanda(comanda)` care apelează intern două funcții: `coace_painea(comanda)` și `calculeaza_pret(comanda)` și întoarce un rezumat.\n",
    "**Detalii:** nu implementați logica reală; concentrați-vă pe separarea responsabilităților și pe ordinea apelurilor."
   ]
  },
  {
   "cell_type": "code",
   "execution_count": 7,
   "id": "cdc3c0ee",
   "metadata": {},
   "outputs": [
    {
     "name": "stdout",
     "output_type": "stream",
     "text": [
      "Baked break for order: [Order 1] | Price: 15.4\n"
     ]
    }
   ],
   "source": [
    "def bake_bread(cmd):\n",
    "    return f\"Baked break for order: [{cmd}]\"\n",
    "\n",
    "def calc_price(cmd):\n",
    "    return 15.4\n",
    "\n",
    "def finalize_order(cmd):\n",
    "    res = bake_bread(cmd)\n",
    "    price = calc_price(cmd)\n",
    "    return f\"{res} | Price: {price}\"\n",
    "\n",
    "print(finalize_order(\"Order 1\"))"
   ]
  },
  {
   "cell_type": "markdown",
   "id": "c4166409",
   "metadata": {},
   "source": [
    "### Exercițiu 10: Mini-proiect – Gestiune clienți cafenea\n",
    "**Scop:** creează funcții pentru o listă de clienți (dicționare: `{'nume': str, 'cafea': str, 'vizite': int}`).\n",
    "**Cerințe:**\n",
    "- `adauga_client(lista, nume, cafea, vizite)`;\n",
    "- `afiseaza_clienti(lista)`;\n",
    "- `oferta_clienti_fideli(lista, prag=20)` → întoarce clienții cu `vizite > prag`.\n",
    "**Detalii:** păstrează datele curate și validează tipurile."
   ]
  },
  {
   "cell_type": "code",
   "execution_count": 14,
   "id": "bc3c4db3",
   "metadata": {},
   "outputs": [
    {
     "name": "stdout",
     "output_type": "stream",
     "text": [
      "name     Alex\n",
      "coffee   Latte\n",
      "visits   8\n",
      "\n",
      "name     Mara\n",
      "coffee   Espresso\n",
      "visits   20\n",
      "\n",
      "name     Dan\n",
      "coffee   Cappuccino\n",
      "visits   5\n",
      "\n",
      "name     Iris\n",
      "coffee   Mocha\n",
      "visits   11\n",
      "\n",
      "name     Jimmy\n",
      "coffee   Latte\n",
      "visits   21\n",
      "\n",
      "Mara     20\n",
      "Jimmy    21\n"
     ]
    }
   ],
   "source": [
    "clients = [\n",
    "    {\"name\": \"Alex\", \"coffee\": \"Latte\", \"visits\": 8},\n",
    "    {\"name\": \"Mara\", \"coffee\": \"Espresso\", \"visits\": 20},\n",
    "    {\"name\": \"Dan\", \"coffee\": \"Cappuccino\", \"visits\": 5},\n",
    "    {\"name\": \"Iris\", \"coffee\": \"Mocha\", \"visits\": 11},\n",
    "]\n",
    "\n",
    "def add_patron(name, coffee, visits):\n",
    "    if any(e['name'] == name for e in clients):\n",
    "        return\n",
    "    clients.append({\"name\": name, \"coffee\": coffee, \"visits\": visits})\n",
    "\n",
    "def list_patrons(clients):\n",
    "    for e in clients:\n",
    "        for k, v in e.items():\n",
    "            print(k.ljust(8), v)\n",
    "        print()\n",
    "\n",
    "def offer_for_patrons(client_list: list[dict], thres=20):\n",
    "    offer_thres = [patron for patron in client_list if patron[\"visits\"] >= 20]\n",
    "    for patron in offer_thres:\n",
    "        print(patron[\"name\"].ljust(8), patron[\"visits\"])\n",
    "\n",
    "add_patron(\"Jimmy\", \"Latte\", 21)\n",
    "list_patrons(clients)\n",
    "offer_for_patrons(clients)"
   ]
  },
  {
   "cell_type": "markdown",
   "id": "7417ffd6",
   "metadata": {},
   "source": [
    "### Exercițiu 11: Arhitectură funcțională – Gestiune elev\n",
    "**Scop:** proiectează un set de funcții pentru gestionarea elevilor (listă de dicționare: `{'nume': str, 'note': list[float]}`).\n",
    "**Cerințe:** `adauga_elev`, `afiseaza_elevi`, `calculeaza_media_elev(elev)`, `media_generala(lista)`, `elevi_peste_media(lista)`.\n",
    "**Detalii:** decide ce funcții ar trebui să fie „de utilitate” (ajutătoare) și cum se compun."
   ]
  },
  {
   "cell_type": "code",
   "execution_count": 30,
   "id": "29daf397",
   "metadata": {},
   "outputs": [
    {
     "name": "stdout",
     "output_type": "stream",
     "text": [
      "Ana [10, 9]\n",
      "Mihai [8, 7, 9]\n",
      "Bob []\n",
      "Tracy 5\n",
      "Jhonatan 8\n",
      "Bobby [5, 6, 10]\n",
      "\n",
      "\n",
      "7.5\n",
      "\n",
      "[('Ana', [10, 9]), ('Mihai', [8, 7, 9]), ('Jhonatan', 8)]\n"
     ]
    }
   ],
   "source": [
    "students = {'Ana': [10, 9], 'Mihai': [8, 7, 9], 'Bob': [], \"Tracy\": \"5\", \"Jhonatan\": 8}\n",
    "\n",
    "# helper function, doesn't get called directly\n",
    "def mean_grades_student(v):\n",
    "    sum_grades = 0\n",
    "    count = 0\n",
    "    if isinstance(v, list) and v:\n",
    "        sum_grades += sum(v)\n",
    "        count += len(v)\n",
    "    elif isinstance(v, (int, float)):\n",
    "        sum_grades += v\n",
    "        count += 1\n",
    "    elif isinstance(v, str) and v.isdigit():\n",
    "        sum_grades += int(v)\n",
    "        count += 1\n",
    "    return sum_grades / count if count else 0\n",
    "\n",
    "# helper function, doesn't get called directly\n",
    "def mean_classroom(students: dict): # mean per student mean, not grade mean\n",
    "    sum_grades = 0\n",
    "    count = 0\n",
    "    for v in students.values():\n",
    "        mean_s = mean_grades_student(v)\n",
    "        sum_grades += mean_s\n",
    "        count += 1 if mean_s > 0 else 0\n",
    "\n",
    "    return sum_grades / count if count else 0\n",
    "\n",
    "def add_student(name: str, grades: list[int], students):\n",
    "    if name in students:\n",
    "        return\n",
    "    students[name] = grades\n",
    "\n",
    "def list_students(students):\n",
    "    for k, v in students.items():\n",
    "        print(k, v)\n",
    "\n",
    "def student_over_mean(students, thres):\n",
    "    return [(k, v) for k, v in students.items() if mean_grades_student(v) > thres]\n",
    "\n",
    "def mean_grades(name, students):\n",
    "    v = students[name]\n",
    "    return sum(v) / len(v)\n",
    "\n",
    "add_student(\"Bobby\", [5, 6, 10], students)\n",
    "list_students(students)\n",
    "print()\n",
    "mean_grades(\"Bobby\", students)\n",
    "print()\n",
    "print(mean_classroom(students))\n",
    "print()\n",
    "print(student_over_mean(students, mean_classroom(students)))"
   ]
  },
  {
   "cell_type": "markdown",
   "id": "0b284c65",
   "metadata": {},
   "source": [
    "### Exercițiu 12 (Temă): Gestiune angajați extinsă\n",
    "**Scop:** pornește de la exercițiul cu salariați și adaugă:\n",
    "- `salariu_mediu(lista)` → media salariilor;\n",
    "- `angajati_peste_medie(lista)` → lista angajaților cu salarii peste medie.\n",
    "**Detalii:** tratează cazul fără angajați."
   ]
  },
  {
   "cell_type": "code",
   "execution_count": 48,
   "id": "a276fa81",
   "metadata": {},
   "outputs": [
    {
     "name": "stdout",
     "output_type": "stream",
     "text": [
      "name Alice\n",
      "salary 72000.0\n",
      "\n",
      "name Bob\n",
      "salary 68500.0\n",
      "\n",
      "name Charlie\n",
      "salary 91000.0\n",
      "\n",
      "name Fiona\n",
      "salary 75500.0\n",
      "\n",
      "name Nina\n",
      "salary 70000.0\n",
      "\n",
      "name John\n",
      "salary 83000.0\n",
      "\n",
      "460000.0\n",
      "[{'name': 'Alice', 'salary': 72000.0}, {'name': 'Bob', 'salary': 68500.0}, {'name': 'Charlie', 'salary': 91000.0}, {'name': 'Fiona', 'salary': 75500.0}, {'name': 'Nina', 'salary': 70000.0}, {'name': 'John', 'salary': 83000.0}]\n",
      "76666.66666666667\n"
     ]
    }
   ],
   "source": [
    "employees = [\n",
    "    {'name': 'Alice', 'salary': 72000.0},\n",
    "    {'name': 'Bob', 'salary': 68500.0},\n",
    "    {'name': 'Charlie', 'salary': 91000.0},\n",
    "    {'name': 'Fiona', 'salary': 75500.0},\n",
    "    {'name': 'Nina', 'salary': 70000.0},\n",
    "]\n",
    "\n",
    "def add_employee(name, salary):\n",
    "    if any(e['name'] == name for e in employees):\n",
    "        return\n",
    "    employees.append({\"name\": name, \"salary\": salary})\n",
    "\n",
    "def list_employees(employees):\n",
    "    for e in employees:\n",
    "        for k, v in e.items():\n",
    "            print(k, v)\n",
    "        print()\n",
    "\n",
    "def total_salary(employees):\n",
    "    sum = 0\n",
    "    for e in employees:\n",
    "        sum += e['salary']\n",
    "    return sum\n",
    "\n",
    "def over_mean_salary(employees, thres):\n",
    "    return [e for e in employees if e[\"salary\"] and e[\"salary\"] > thres]\n",
    "\n",
    "def mean_salaries(employees):\n",
    "    return sum([e[\"salary\"] for e in employees]) / len(employees)\n",
    "\n",
    "add_employee(\"John\", 83000.0)\n",
    "list_employees(employees)\n",
    "print(total_salary(employees))\n",
    "print(over_mean_salary(employees, 50000))\n",
    "print(mean_salaries(employees))"
   ]
  },
  {
   "cell_type": "markdown",
   "id": "3fac6c3e",
   "metadata": {},
   "source": [
    "### Exercițiu 13 (Temă): Text analytics de bază\n",
    "**Scop:** scrie o funcție `analizeaza_text(text)` care întoarce un dicționar cu: `numar_cuvinte`, `cel_mai_lung_cuvant`, `contine_python` (boolean pentru apariția „python”).\n",
    "**Detalii:** ignoră majusculele când verifici „python”."
   ]
  },
  {
   "cell_type": "code",
   "execution_count": 59,
   "id": "3b2e7515",
   "metadata": {},
   "outputs": [
    {
     "data": {
      "text/plain": [
       "{'number_words': 4, 'longest_word': 'contains', 'python_exist': True}"
      ]
     },
     "execution_count": 59,
     "metadata": {},
     "output_type": "execute_result"
    }
   ],
   "source": [
    "def text_analysis(text: str):\n",
    "    return {\"number_words\": len(text.split()),\n",
    "            \"longest_word\": max(text.split(), key=len),\n",
    "            \"python_exist\": \"python\" in [t.casefold().strip(\".,;:|'`/\\\\ \") for t in text.split()]}\n",
    "\n",
    "text_analysis(\"this text contains python.\")"
   ]
  },
  {
   "cell_type": "markdown",
   "id": "deb018a8",
   "metadata": {},
   "source": [
    "### Exercițiu 14 (Temă): Coș de cumpărături\n",
    "**Scop:** gestionează un coș ca listă de articole `{'nume': str, 'pret': float, 'cant': int}`.\n",
    "**Cerințe:** `total_fara_tva(cos)`, `calculeaza_tva(suma, cota=0.19)`, `bon_fiscal(cos)` care întoarce un șir multi-linie cu totalurile.\n",
    "**Detalii:** rotunjiri rezonabile și validări de tip."
   ]
  },
  {
   "cell_type": "code",
   "execution_count": 98,
   "id": "94f8d0fd",
   "metadata": {},
   "outputs": [
    {
     "name": "stdout",
     "output_type": "stream",
     "text": [
      "Bread          2.50$ x 2\n",
      "Milk           5.20$ x 1\n",
      "Eggs          12.00$ x 1\n",
      "Apples         3.80$ x 4\n",
      "Cheese        14.75$ x 1\n",
      "Chocolate      7.30$ x 3\n",
      "\n",
      "Total  (no TVA):  74.05$\n",
      "Total (19% TVA):  88.12$\n"
     ]
    }
   ],
   "source": [
    "cart = [\n",
    "    {'name': 'Bread', 'price': 2.50, 'quantity': 2},\n",
    "    {'name': 'Milk', 'price': 5.20, 'quantity': 1},\n",
    "    {'name': 'Eggs', 'price': 12.00, 'quantity': 1},\n",
    "    {'name': 'Apples', 'price': 3.80, 'quantity': 4},\n",
    "    {'name': 'Cheese', 'price': 14.75, 'quantity': 1},\n",
    "    {'name': 'Chocolate', 'price': 7.30, 'quantity': 3}\n",
    "]\n",
    "\n",
    "# total no value added tax\n",
    "def total_no_vat(cart: list[dict]) -> float:\n",
    "    return sum([v[\"quantity\"] * v[\"price\"] for v in cart])\n",
    "\n",
    "def total_tva(sum_cost: float, perc: float):\n",
    "    return sum_cost * (1 + perc)\n",
    "\n",
    "def receipt():\n",
    "    for item in cart:\n",
    "        print(item[\"name\"].ljust(13), f\"{item['price']:.2f}$\".rjust(6), \"x\", item[\"quantity\"])\n",
    "    print()\n",
    "    print(\"Total  (no TVA):\".ljust(17), f\"{total_no_vat(cart)}$\")\n",
    "    print(\"Total (19% TVA):\".ljust(17), f\"{total_tva(total_no_vat(cart), 0.19):.2f}$\")\n",
    "\n",
    "# print(total_no_vat(cart))\n",
    "# print(round(float(total_tva(total_no_vat(cart), 0.19)), 2))\n",
    "receipt()"
   ]
  }
 ],
 "metadata": {
  "kernelspec": {
   "display_name": ".venv",
   "language": "python",
   "name": "python3"
  },
  "language_info": {
   "codemirror_mode": {
    "name": "ipython",
    "version": 3
   },
   "file_extension": ".py",
   "mimetype": "text/x-python",
   "name": "python",
   "nbconvert_exporter": "python",
   "pygments_lexer": "ipython3",
   "version": "3.12.3"
  }
 },
 "nbformat": 4,
 "nbformat_minor": 5
}
