{
  "cells": [
    {
      "cell_type": "markdown",
      "id": "6a39d261",
      "metadata": {},
      "source": [
        "# 🧠 Sesiunea 4 – Colecții în Python: Liste, Tupluri, Seturi, Dicționare\n",
        "\n",
        "_Notebook de exerciții (fără soluții)._"
      ]
    },
    {
      "cell_type": "markdown",
      "id": "a64e5b01",
      "metadata": {},
      "source": [
        "### Exercițiul 1 — Liste: Prieteni\n",
        "\n",
        "Creează o listă cu 5 prieteni și afișează fiecare nume pe linie separată.\n",
        "- Definire: creează o listă cu 5 stringuri (nume de prieteni).\n",
        "- Afișare: parcurge lista cu `for` și tipărește fiecare nume pe o linie."
      ]
    },
    {
      "cell_type": "code",
      "execution_count": 1,
      "id": "15c68677",
      "metadata": {},
      "outputs": [
        {
          "name": "stdout",
          "output_type": "stream",
          "text": [
            "James\n",
            "Nathan\n",
            "Foxtrot\n",
            "Jerry\n",
            "Michael\n"
          ]
        }
      ],
      "source": [
        "friends = [\"James\", \"Nathan\", \"Foxtrot\", \"Jerry\", \"Michael\"]\n",
        "\n",
        "for friend in friends:\n",
        "    print(friend)"
      ]
    },
    {
      "cell_type": "markdown",
      "id": "acbc0fa2",
      "metadata": {},
      "source": [
        "### Exercițiul 2 — Liste: Produse din input\n",
        "\n",
        "Primește 3 produse de la tastatură folosind `input()` și adaugă-le într-o listă.\n",
        "- Citește pe rând 3 valori de la utilizator.\n",
        "- Adaugă fiecare produs în listă.\n",
        "- La final, afișează lista rezultată."
      ]
    },
    {
      "cell_type": "code",
      "execution_count": 3,
      "id": "9562f703",
      "metadata": {},
      "outputs": [
        {
          "name": "stdout",
          "output_type": "stream",
          "text": [
            "['151324', 'gsdg342w', '234f']\n"
          ]
        }
      ],
      "source": [
        "elements = []\n",
        "\n",
        "for i in range (0, 3):\n",
        "    element = input(f\"Give me a list element({i+1}/3): \")\n",
        "    elements.append(element)\n",
        "\n",
        "print(elements )"
      ]
    },
    {
      "cell_type": "markdown",
      "id": "904b0e63",
      "metadata": {},
      "source": [
        "### Exercițiul 3 — Liste: Sortare numere\n",
        "\n",
        "Sortează o listă de numere.\n",
        "- Pornește de la o listă de numere întregi.\n",
        "- Sortează lista în ordine crescătoare și afișeaz-o."
      ]
    },
    {
      "cell_type": "code",
      "execution_count": 8,
      "id": "7c73f38c",
      "metadata": {},
      "outputs": [
        {
          "name": "stdout",
          "output_type": "stream",
          "text": [
            "[123, 125, 1324, 5324, 2343265234]\n"
          ]
        }
      ],
      "source": [
        "integers = [123, 125, 1_324, 2_343_265_234, 5_324]\n",
        "\n",
        "integers.sort()\n",
        "print(integers)"
      ]
    },
    {
      "cell_type": "markdown",
      "id": "cb7a98fd",
      "metadata": {},
      "source": [
        "### Exercițiul 4 — Tupluri: Orașe\n",
        "\n",
        "Creează un tuplu cu 3 orașe și parcurge-l cu `for`.\n",
        "- Definire: creează un tuplu cu trei stringuri (nume de orașe).\n",
        "- Parcurgere: afișează fiecare element folosind un ciclu `for`."
      ]
    },
    {
      "cell_type": "code",
      "execution_count": 12,
      "id": "7f8d446f",
      "metadata": {},
      "outputs": [
        {
          "name": "stdout",
          "output_type": "stream",
          "text": [
            "Brasov\n",
            "Petersburg\n",
            "Johannesberg\n"
          ]
        }
      ],
      "source": [
        "cities = (\"Brasov\", \"Petersburg\", \"Johannesberg\")\n",
        "\n",
        "for city in cities:\n",
        "    print(city)"
      ]
    },
    {
      "cell_type": "markdown",
      "id": "957fb803",
      "metadata": {},
      "source": [
        "### Exercițiul 5 — Seturi: Animale\n",
        "\n",
        "Creează un set cu 5 animale (fără duplicate) și afișează-l.\n",
        "- Definire: creează un `set` cu cinci stringuri (nume de animale).\n",
        "- Observă că ordinea în set nu este garantată."
      ]
    },
    {
      "cell_type": "code",
      "execution_count": 17,
      "id": "f626f432",
      "metadata": {},
      "outputs": [
        {
          "name": "stdout",
          "output_type": "stream",
          "text": [
            "{'Magar', 'Lup', 'Porcusor', 'Oaie', 'Pisica'}\n"
          ]
        }
      ],
      "source": [
        "animals = {\"Magar\", \"Lup\", \"Porcusor\", \"Oaie\", \"Pisica\"}\n",
        "print(animals)"
      ]
    },
    {
      "cell_type": "markdown",
      "id": "9b8433ef",
      "metadata": {},
      "source": [
        "### Exercițiul 6 — Seturi: Adăugare element\n",
        "\n",
        "Adaugă un animal nou într-un set existent și afișează rezultatul.\n",
        "- Pornește de la un set (poți reutiliza setul din exercițiul anterior).\n",
        "- Folosește metoda `.add()` pentru a introduce un element nou."
      ]
    },
    {
      "cell_type": "code",
      "execution_count": 18,
      "id": "6f7a6042",
      "metadata": {},
      "outputs": [
        {
          "name": "stdout",
          "output_type": "stream",
          "text": [
            "{'Magar', 'Lup', 'Catelus', 'Porcusor', 'Oaie', 'Pisica'}\n"
          ]
        }
      ],
      "source": [
        "animals.add(\"Catelus\")\n",
        "print(animals)"
      ]
    },
    {
      "cell_type": "markdown",
      "id": "2b3babd7",
      "metadata": {},
      "source": [
        "### Exercițiul 7 — Seturi: Eliminare element\n",
        "\n",
        "Elimină un animal existent dintr-un set și afișează rezultatul.\n",
        "- Pornește de la un set (poți reutiliza setul din exercițiul anterior).\n",
        "- Folosește `.discard()` sau `.remove()` pentru a elimina un element existent."
      ]
    },
    {
      "cell_type": "code",
      "execution_count": 19,
      "id": "7290b578",
      "metadata": {},
      "outputs": [
        {
          "name": "stdout",
          "output_type": "stream",
          "text": [
            "{'Magar', 'Lup', 'Catelus', 'Oaie', 'Pisica'}\n"
          ]
        }
      ],
      "source": [
        "animals.discard(\"Porcusor\")\n",
        "print(animals)"
      ]
    },
    {
      "cell_type": "markdown",
      "id": "286cd532",
      "metadata": {},
      "source": [
        "### Exercițiul 8 — Dicționare: Creare profil\n",
        "\n",
        "Creează un dicționar cu cheile `nume`, `vârstă`, `oraș` și valori corespunzătoare.\n",
        "- Definire: construiește dicționarul cu cele trei chei.\n",
        "- Verifică accesarea valorilor prin cheie."
      ]
    },
    {
      "cell_type": "code",
      "execution_count": 22,
      "id": "0c2d0a39",
      "metadata": {},
      "outputs": [
        {
          "name": "stdout",
          "output_type": "stream",
          "text": [
            "Michael\n",
            "31\n",
            "New York\n"
          ]
        }
      ],
      "source": [
        "details = {\"name\": \"Michael\", \"age\": 31, \"city\": \"New York\"}\n",
        "\n",
        "for key, value in details.items():\n",
        "    print(value)"
      ]
    },
    {
      "cell_type": "markdown",
      "id": "55552519",
      "metadata": {},
      "source": [
        "### Exercițiul 9 — Dicționare: Afișare completă\n",
        "\n",
        "Afișează complet dicționarul creat (chei și valori).\n",
        "- Utilizează fie printarea directă a dicționarului, fie `.items()` într-un `for`."
      ]
    },
    {
      "cell_type": "code",
      "execution_count": null,
      "id": "e7de64bc",
      "metadata": {},
      "outputs": [
        {
          "name": "stdout",
          "output_type": "stream",
          "text": [
            "name Michael\n",
            "age 31\n",
            "city New York\n"
          ]
        }
      ],
      "source": [
        "for key, value in details.items():\n",
        "    print(key, value)"
      ]
    },
    {
      "cell_type": "markdown",
      "id": "a71a4fa4",
      "metadata": {},
      "source": [
        "### Exercițiul 10 — Dicționare: Modificare + adăugare\n",
        "\n",
        "Modifică valoarea pentru `oraș` și adaugă o nouă cheie `telefon` în dicționar.\n",
        "- Actualizează cheia existentă `oraș`.\n",
        "- Adaugă cheia `telefon` cu o valoare potrivită.\n",
        "- Afișează rezultatul final."
      ]
    },
    {
      "cell_type": "code",
      "execution_count": null,
      "id": "2f22105f",
      "metadata": {},
      "outputs": [
        {
          "name": "stdout",
          "output_type": "stream",
          "text": [
            "{'name': 'Michael', 'age': 31, 'city': 'Washington', 'phone number': 4123412}\n"
          ]
        }
      ],
      "source": [
        "details[\"city\"] = \"Washington\"\n",
        "# details.update({\"phone number\": 4123412})\n",
        "details[\"phone number\"] = 4123412\n",
        "print(details)"
      ]
    },
    {
      "cell_type": "markdown",
      "id": "e1805a9f",
      "metadata": {},
      "source": [
        "### Exercițiul 11 — Proiect integrat: Catalog elevi\n",
        "\n",
        "Pornește de la o listă de dicționare pentru elevi, fiecare având cheile `nume`, `clasa`, `nota`.\n",
        "- Afișează numele elevilor care sunt în clasa `10` **și** au `nota` > 8.\n",
        "- Parcurge lista și aplică un `if` pentru filtrare.\n",
        "- Tipărește doar numele elevilor care îndeplinesc condiția."
      ]
    },
    {
      "cell_type": "code",
      "execution_count": 38,
      "id": "84e3b99c",
      "metadata": {},
      "outputs": [
        {
          "name": "stdout",
          "output_type": "stream",
          "text": [
            "Alexandra\n",
            "Alexandru\n"
          ]
        }
      ],
      "source": [
        "classroom_data = [\n",
        "    {\"nume\": \"Alexandra\", \"clasa\": \"10\", \"nota\": 9},\n",
        "    {\"nume\": \"Paul\", \"clasa\": \"5\", \"nota\": 7},\n",
        "    {\"nume\": \"Bogdan\", \"clasa\": \"5\", \"nota\": 10},\n",
        "    {\"nume\": \"Mihaela\", \"clasa\": \"10\", \"nota\": 5},\n",
        "    {\"nume\": \"Alexandru\", \"clasa\": \"10\", \"nota\": 9}]\n",
        "\n",
        "for data in classroom_data:\n",
        "    if data[\"clasa\"] == '10' and data[\"nota\"] > 8:\n",
        "        print(data[\"nume\"])"
      ]
    },
    {
      "cell_type": "markdown",
      "id": "b21c5728",
      "metadata": {},
      "source": [
        "### Exercițiul 12 — MINI‑QUIZ Recapitulare (fără soluții)\n",
        "\n",
        "Răspunde concis la următoarele întrebări conceptuale (scris sau în comentarii):\n",
        "- Care este diferența între **listă** și **set**?\n",
        "- Care sunt avantajele unui **dicționar**?\n",
        "- Cum parcurgi un **tuplu**?\n",
        "- Ce colecție ai folosi pentru **scoruri elevi** și de ce?"
      ]
    },
    {
      "cell_type": "code",
      "execution_count": null,
      "id": "6726c086",
      "metadata": {},
      "outputs": [],
      "source": [
        "# lista este aranjata, setul nu are o ordine enforced\n",
        "# dictionary is fast, it has O(1) key lookup time through hashing\n",
        "# for, while or indexing etc?\n",
        "# dict"
      ]
    },
    {
      "cell_type": "markdown",
      "id": "faca1d5b",
      "metadata": {},
      "source": [
        "### Exercițiul 13 — Colecții imbricate: Medii elevi\n",
        "\n",
        "Construiește un **dicționar** în care cheia este numele elevului, iar valoarea este **lista de note**.\n",
        "- Calculează **media aritmetică** a notelor pentru fiecare elev.\n",
        "- Afișează numele elevului și media formatată (ex: 8.67)."
      ]
    },
    {
      "cell_type": "code",
      "execution_count": 42,
      "id": "77c537e5",
      "metadata": {},
      "outputs": [
        {
          "name": "stdout",
          "output_type": "stream",
          "text": [
            "Mihael 9.4\n",
            "Paul 5.0\n",
            "Jordan 9.4\n",
            "Jake 8.4\n",
            "Washington 10.0\n"
          ]
        }
      ],
      "source": [
        "student_grades = {\n",
        "    \"Mihael\": [10, 10, 9, 10, 8],\n",
        "    \"Paul\": [4, 5, 2, 6, 8],\n",
        "    \"Jordan\": [10, 9, 9, 10, 9],\n",
        "    \"Jake\": [7, 8, 9, 10, 8],\n",
        "    \"Washington\": [10, 10, 10, 10, 10],\n",
        "}\n",
        "\n",
        "for student, grades in student_grades.items():\n",
        "    print(student, sum(grades) / len(grades))"
      ]
    },
    {
      "cell_type": "markdown",
      "id": "8e2dee8c",
      "metadata": {},
      "source": [
        "### Exercițiul 14 — Colecții imbricate: Filtrare angajați\n",
        "\n",
        "Construiește o **listă de dicționare** pentru angajați (chei: `nume`, `poziție`, `salariu`).\n",
        "- Afișează **numai** angajații cu `salariu` > 5000 RON.\n",
        "- Păstrează structura de date clară și ușor de extins."
      ]
    },
    {
      "cell_type": "code",
      "execution_count": 45,
      "id": "5eed88e9",
      "metadata": {},
      "outputs": [
        {
          "name": "stdout",
          "output_type": "stream",
          "text": [
            "George\n",
            "Mihaela\n",
            "Raul\n",
            "Anca\n"
          ]
        }
      ],
      "source": [
        "employees = [\n",
        "    {\"name\": \"George\", \"role\": \"Manager\", \"salary\": 8000},\n",
        "    {\"name\": \"Mihaela\", \"role\": \"PR\", \"salary\": 5100},\n",
        "    {\"name\": \"Raul\", \"role\": \"Programmer\", \"salary\": 9000},\n",
        "    {\"name\": \"Anca\", \"role\": \"PR\", \"salary\": 5100},\n",
        "    {\"name\": \"Ion\", \"role\": \"Intern\", \"salary\": 0},\n",
        "]\n",
        "\n",
        "for employee in employees:\n",
        "    if employee[\"salary\"] > 5000:\n",
        "        print(employee[\"name\"])"
      ]
    },
    {
      "cell_type": "markdown",
      "id": "518c1320",
      "metadata": {},
      "source": [
        "### Exercițiul 15 — Metode utile: sortare + inversare listă\n",
        "\n",
        "Pornește de la o listă de nume.\n",
        "- Sortează lista în ordine alfabetică.\n",
        "- Inversează ordinea listei și afișează rezultatul final."
      ]
    },
    {
      "cell_type": "code",
      "execution_count": 48,
      "id": "df54dda9",
      "metadata": {},
      "outputs": [
        {
          "name": "stdout",
          "output_type": "stream",
          "text": [
            "['Jake', 'Jordan', 'Mihael', 'Paul', 'Washington']\n",
            "['Washington', 'Paul', 'Mihael', 'Jordan', 'Jake']\n"
          ]
        }
      ],
      "source": [
        "names = [\"Mihael\", \"Paul\", \"Jordan\", \"Jake\", \"Washington\"]\n",
        "\n",
        "names.sort()\n",
        "print(names)\n",
        "names.sort(reverse=True)\n",
        "print(names)\n"
      ]
    },
    {
      "cell_type": "markdown",
      "id": "d37b075e",
      "metadata": {},
      "source": [
        "### Exercițiul 16 — Metode utile: produse cu stoc > 10\n",
        "\n",
        "Pornește de la un dicționar `produse` în care cheia este numele produsului și valoarea este stocul disponibil (număr întreg).\n",
        "- Afișează numele produselor care au **stoc > 10**.\n",
        "- Sugestie: parcurge `items()` și aplică un `if` simplu."
      ]
    },
    {
      "cell_type": "code",
      "execution_count": 68,
      "id": "7e773c93",
      "metadata": {},
      "outputs": [
        {
          "name": "stdout",
          "output_type": "stream",
          "text": [
            "bananas\n",
            "apples\n",
            "grapes\n"
          ]
        }
      ],
      "source": [
        "produse = {\"bananas\": 250, \"apples\": 100, \"grapes\": 120, \"potato\": 0}\n",
        "\n",
        "if any(y > 10 for x, y in produse.items()):\n",
        "    for item, stock in produse.items():\n",
        "        if stock > 10:\n",
        "            print(item)\n",
        "            \n",
        "# [print(item) for item, stock in produse.items() if stock > 10]\n"
      ]
    }
  ],
  "metadata": {
    "kernelspec": {
      "display_name": ".venv",
      "language": "python",
      "name": "python3"
    },
    "language_info": {
      "codemirror_mode": {
        "name": "ipython",
        "version": 3
      },
      "file_extension": ".py",
      "mimetype": "text/x-python",
      "name": "python",
      "nbconvert_exporter": "python",
      "pygments_lexer": "ipython3",
      "version": "3.12.3"
    }
  },
  "nbformat": 4,
  "nbformat_minor": 5
}
