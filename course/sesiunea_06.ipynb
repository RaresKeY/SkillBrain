{
 "cells": [
  {
   "cell_type": "markdown",
   "metadata": {},
   "source": [
    "# Sesiunea 6 – Programarea Orientată pe Obiecte (OOP)\n",
    "_Notebook de exerciții (fără soluții)._"
   ]
  },
  {
   "cell_type": "markdown",
   "metadata": {},
   "source": [
    "### Exercițiul 1 — Moștenire (Profesor / Persoană)\n",
    "Creează o clasă `Persoana` cu atributul `nume` și o metodă `vorbeste()`.\n",
    "Creează o clasă `Profesor` care moștenește `Persoana` și adaugă metoda `preda()`."
   ]
  },
  {
   "cell_type": "code",
   "execution_count": 12,
   "metadata": {},
   "outputs": [
    {
     "name": "stdout",
     "output_type": "stream",
     "text": [
      "Hello, my name is Tim Timmothy\n",
      "\n",
      "Hello, my name is Tim\n",
      "Today, I will be teaching Psychology\n"
     ]
    }
   ],
   "source": [
    "class Person:\n",
    "    def __init__(self, name: str):\n",
    "        self.name = name\n",
    "\n",
    "    def talk(self):\n",
    "        print(f\"Hello, my name is {self.name}\")\n",
    "\n",
    "class Professor(Person):\n",
    "    def __init__(self, *args, discipline: str, **kwargs):\n",
    "        self.discipline = discipline\n",
    "        super().__init__(*args, **kwargs)\n",
    "\n",
    "    def teach(self):\n",
    "        print(f\"Today, I will be teaching {self.discipline}\")\n",
    "\n",
    "tim_pers = Person(\"Tim Timmothy\")\n",
    "tim_prof = Professor(\"Tim\", discipline=\"Psychology\")\n",
    "\n",
    "tim_pers.talk()\n",
    "print()\n",
    "tim_prof.talk()\n",
    "tim_prof.teach()\n"
   ]
  },
  {
   "cell_type": "markdown",
   "metadata": {},
   "source": [
    "### Exercițiul 2 — Carte și Biblioteca (CRUD)\n",
    "Creează o clasă `Carte` cu atributele `titlu`, `autor`, `an`.\n",
    "Creează o clasă `Biblioteca` care conține o listă de cărți și metodele:\n",
    "- `adauga_carte()`\n",
    "- `sterge_carte()`\n",
    "- `cauta_dupa_autor()`\n",
    "- `afiseaza_toate()`"
   ]
  },
  {
   "cell_type": "code",
   "execution_count": 13,
   "metadata": {},
   "outputs": [
    {
     "name": "stdout",
     "output_type": "stream",
     "text": [
      "Title: 1984                        Author: George Orwell              Year: 1949                         \n",
      "Title: Brave New World             Author: Aldous Huxley              Year: 1932                         \n",
      "Title: Fahrenheit 451              Author: Ray Bradbury               Year: 1953                         \n",
      "Title: The Catcher in the Rye      Author: J.D. Salinger              Year: 1951                         \n",
      "Title: To Kill a Mockingbird       Author: Harper Lee                 Year: 1960                         \n",
      "Title: The Great Gatsby            Author: F. Scott Fitzgerald        Year: 1925                         \n",
      "Title: Moby-Dick                   Author: Herman Melville            Year: 1851                         \n",
      "Title: The Hobbit                  Author: J.R.R. Tolkien             Year: 1937                         \n",
      "Title: Crime and Punishment        Author: Fyodor Dostoevsky          Year: 1866                         \n",
      "Title: Pride and Prejudice         Author: Jane Austen                Year: 1813                         \n",
      "\n",
      "Title: 1984                        Author: George Orwell              Year: 1949                         \n",
      "Title: Brave New World             Author: Aldous Huxley              Year: 1932                         \n",
      "Title: Fahrenheit 451              Author: Ray Bradbury               Year: 1953                         \n",
      "Title: The Catcher in the Rye      Author: J.D. Salinger              Year: 1951                         \n",
      "Title: To Kill a Mockingbird       Author: Harper Lee                 Year: 1960                         \n",
      "Title: The Great Gatsby            Author: F. Scott Fitzgerald        Year: 1925                         \n",
      "Title: Moby-Dick                   Author: Herman Melville            Year: 1851                         \n",
      "Title: The Hobbit                  Author: J.R.R. Tolkien             Year: 1937                         \n",
      "Title: Crime and Punishment        Author: Fyodor Dostoevsky          Year: 1866                         \n",
      "\n",
      "['Title: Pride and Prejudice         Author: Jane Austen                Year: 1813                         ']\n",
      "[<__main__.Book object at 0x7dddf6c5cc20>]\n"
     ]
    }
   ],
   "source": [
    "class Book:\n",
    "    def __init__(self, title: str, author: str, year: int):\n",
    "        self.title: str = title\n",
    "        self.author: str = author\n",
    "        self.year: int = year\n",
    "\n",
    "    def __str__(self):\n",
    "        super().__str__()\n",
    "        return (f\"Title: {self.title}\".ljust(35) + \n",
    "                f\"Author: {self.author}\".ljust(35) + \n",
    "                f\"Year: {self.year}\".ljust(35))\n",
    "\n",
    "\n",
    "class Library:\n",
    "    def __init__(self, books: list[Book] = []):\n",
    "       self.books: list[Book] = books\n",
    "       self.trash: list[Book] = []\n",
    "\n",
    "    def add_book(self, name, author, year):\n",
    "        self.books.append(Book(name, author, year))\n",
    "\n",
    "    def remove_book(self, title=None, author=None, year=None):\n",
    "        if title or author or year:\n",
    "            rem_books = [book for book in self.books if (book.title == title or book.author == author or book.year == year)]\n",
    "\n",
    "        self.trash.extend(rem_books)\n",
    "        self.books = [b for b in self.books if b not in rem_books]\n",
    "    \n",
    "    def find_by_author(self, author):\n",
    "        return [book for book in self.books if book.author == author]\n",
    "\n",
    "    def display_entries(self):\n",
    "        for book in self.books:\n",
    "            print(book)\n",
    "\n",
    "\n",
    "library = Library()\n",
    "library.add_book(\"1984\", \"George Orwell\", 1949)\n",
    "library.add_book(\"Brave New World\", \"Aldous Huxley\", 1932)\n",
    "library.add_book(\"Fahrenheit 451\", \"Ray Bradbury\", 1953)\n",
    "library.add_book(\"The Catcher in the Rye\", \"J.D. Salinger\", 1951)\n",
    "library.add_book(\"To Kill a Mockingbird\", \"Harper Lee\", 1960)\n",
    "library.add_book(\"The Great Gatsby\", \"F. Scott Fitzgerald\", 1925)\n",
    "library.add_book(\"Moby-Dick\", \"Herman Melville\", 1851)\n",
    "library.add_book(\"The Hobbit\", \"J.R.R. Tolkien\", 1937)\n",
    "library.add_book(\"Crime and Punishment\", \"Fyodor Dostoevsky\", 1866)\n",
    "library.add_book(\"Pride and Prejudice\", \"Jane Austen\", 1813)\n",
    "library.display_entries()\n",
    "library.remove_book(title=\"Pride and Prejudice\")\n",
    "print()\n",
    "library.display_entries()\n",
    "print()\n",
    "print([book.__str__() for book in library.trash])\n",
    "print([book for book in library.trash])"
   ]
  },
  {
   "cell_type": "markdown",
   "metadata": {},
   "source": [
    "### Exercițiul 3 — Produs și CosDeCumparaturi (totalizare)\n",
    "Creează o clasă `Produs` cu `nume` și `pret`.\n",
    "Creează o clasă `CosDeCumparaturi` care gestionează o listă de produse și are metode pentru adăugare, ștergere și calculul totalului."
   ]
  },
  {
   "cell_type": "code",
   "execution_count": 14,
   "metadata": {},
   "outputs": [
    {
     "name": "stdout",
     "output_type": "stream",
     "text": [
      "Basket(products=[Product('laptop', 599.99)], trash=[Product('banana', 1.99), Product('apple', 1.25)])\n"
     ]
    }
   ],
   "source": [
    "from dataclasses import dataclass\n",
    "\n",
    "@dataclass\n",
    "class Product:\n",
    "    name: str\n",
    "    price: float\n",
    "\n",
    "    def __repr__(self):\n",
    "        return f\"Product({self.name!r}, {self.price!r})\"\n",
    "\n",
    "    def __eq__(self, value):\n",
    "        if isinstance(value, Product):\n",
    "            # avoid self == value, otherwise becomes inf recursive\n",
    "            return self.name == value.name and self.price == value.price\n",
    "        elif isinstance(value, (int, float)):\n",
    "            return self.price == value\n",
    "        elif isinstance(value, (str)):\n",
    "            return self.name == value\n",
    "        return NotImplemented\n",
    "\n",
    "    def __add__(self, other):\n",
    "        if isinstance(other, Product):\n",
    "            return self.price + other.price\n",
    "        elif isinstance(other, (int, float)):\n",
    "            return self.price + other    \n",
    "        return NotImplemented\n",
    "\n",
    "    # right side addition same\n",
    "    __radd__ = __add__\n",
    "\n",
    "\n",
    "class Basket:\n",
    "    def __init__(self):\n",
    "        self.products = []\n",
    "        self.trash = []\n",
    "\n",
    "    def add_item(self, name, price):\n",
    "        self.products.append(Product(name, price))\n",
    "\n",
    "    def trash_item(self, name: str):\n",
    "        if not isinstance(name, str):\n",
    "            raise TypeError(\"Use trash_item_by_price() for numeric values\")\n",
    "\n",
    "        # works with __eq__, due to remove looping and == comparing'\n",
    "        item = next((p for p in self.products if p == name), None)\n",
    "        if item:\n",
    "            self.trash.append(item)\n",
    "            self.products.remove(item)\n",
    "            return item\n",
    "\n",
    "    def trash_item_by_price(self, price: float):\n",
    "        if not isinstance(price, (int, float)):\n",
    "            raise TypeError(\"Use trash_item() for text values\")\n",
    "\n",
    "        item = next((p for p in self.products if p.price == price), None)\n",
    "        if item:\n",
    "            self.trash.append(item)\n",
    "            self.products.remove(item)\n",
    "            return item\n",
    "\n",
    "    def total(self) -> float:\n",
    "        return sum(self, 0.0)\n",
    "    \n",
    "    def __iter__(self):\n",
    "        return iter(self.products)\n",
    "    \n",
    "    def __len__(self):\n",
    "        return len(self.products)\n",
    "    \n",
    "    def __repr__(self):\n",
    "        return f\"Basket(products={self.products!r}, trash={self.trash!r})\"\n",
    "    \n",
    "basket = Basket()\n",
    "basket.add_item(\"apple\", 1.25)\n",
    "basket.add_item(\"banana\", 1.99)\n",
    "basket.add_item(\"laptop\", 599.99)\n",
    "\n",
    "basket.trash_item(\"banana\")\n",
    "# basket.trash_item(1.25) # raises intended error\n",
    "basket.trash_item_by_price(1.25)\n",
    "\n",
    "\n",
    "print(basket)\n"
   ]
  },
  {
   "cell_type": "markdown",
   "metadata": {},
   "source": [
    "### Exercițiul 4 — Film cu metode speciale\n",
    "Creează o clasă `Film` cu atributele `titlu`, `an`, `regizor`.\n",
    "Suprascrie metodele `__str__` (pentru afișare frumoasă) și `__eq__` (pentru compararea a două filme după titlu și an)."
   ]
  },
  {
   "cell_type": "code",
   "execution_count": 15,
   "metadata": {},
   "outputs": [],
   "source": [
    "from dataclasses import dataclass, asdict\n",
    "\n",
    "@dataclass\n",
    "class Movie:\n",
    "    title: str\n",
    "    year: int\n",
    "    director: str\n",
    "\n",
    "    def __str__(self):\n",
    "        return f\"Movie({self.title!r}, {self.director!r}, {self.year!r})\"\n",
    "    \n",
    "    def __eq__(self, other):\n",
    "        if isinstance(other, Movie):\n",
    "            return asdict(self) == asdict(other)\n",
    "        elif isinstance(other, str):\n",
    "            return self.title == other\n",
    "        elif isinstance(other, (int, float)):\n",
    "            return self.year == other"
   ]
  },
  {
   "cell_type": "markdown",
   "id": "c2fa8b2f",
   "metadata": {},
   "source": [
    "# AI generated testing\n",
    "\n",
    "**Description (concise):**\n",
    "`unittest` is Python’s built-in testing framework. It discovers and runs test methods automatically, compares expected vs actual results using assertions, and reports successes or failures — all without manual print debugging.\n",
    "\n",
    "---\n",
    "\n",
    "**How this test is structured (and why):**\n",
    "\n",
    "* `class TestMovie(unittest.TestCase):`\n",
    "  Defines a **test suite** for your `Movie` class. Every method starting with `test_` is one individual test.\n",
    "\n",
    "* `setUp()`\n",
    "  Runs **before each test**, creating fresh `Movie` objects so tests don’t interfere with each other.\n",
    "\n",
    "* Each `test_...()`\n",
    "  Exercises one specific behavior of your class (`__eq__`, `__str__`, etc.) and uses `assert*` methods to verify correct output.\n",
    "\n",
    "* `unittest.main(argv=['first-arg-is-ignored'], exit=False, verbosity=2)`\n",
    "  Runs all tests inside the notebook safely — prevents kernel shutdown and prints a readable report.\n",
    "\n",
    "---\n",
    "\n",
    "**Why structured this way:**\n",
    "The `unittest` model enforces isolation, automation, and clear failure reporting — so your code’s behavior can be verified repeatably, without manual checks.\n"
   ]
  },
  {
   "cell_type": "code",
   "execution_count": 16,
   "id": "31ba47f0",
   "metadata": {},
   "outputs": [
    {
     "name": "stderr",
     "output_type": "stream",
     "text": [
      "test_equality_by_title (__main__.TestMovie.test_equality_by_title) ... ok\n",
      "test_equality_by_year (__main__.TestMovie.test_equality_by_year) ... ok\n",
      "test_equality_same_fields (__main__.TestMovie.test_equality_same_fields) ... ok\n",
      "test_inequality_different_fields (__main__.TestMovie.test_inequality_different_fields) ... ok\n",
      "test_not_equal_different_type (__main__.TestMovie.test_not_equal_different_type) ... ok\n",
      "test_str_format (__main__.TestMovie.test_str_format) ... ok\n",
      "\n",
      "----------------------------------------------------------------------\n",
      "Ran 6 tests in 0.010s\n",
      "\n",
      "OK\n"
     ]
    },
    {
     "data": {
      "text/plain": [
       "<unittest.main.TestProgram at 0x7dddf68b97c0>"
      ]
     },
     "execution_count": 16,
     "metadata": {},
     "output_type": "execute_result"
    }
   ],
   "source": [
    "import unittest\n",
    "from dataclasses import asdict\n",
    "\n",
    "class TestMovie(unittest.TestCase):\n",
    "\n",
    "    def setUp(self):\n",
    "        self.m1 = Movie(\"Inception\", 2010, \"Nolan\")\n",
    "        self.m2 = Movie(\"Inception\", 2010, \"Nolan\")\n",
    "        self.m3 = Movie(\"Interstellar\", 2014, \"Nolan\")\n",
    "\n",
    "    def test_equality_same_fields(self):\n",
    "        self.assertTrue(self.m1 == self.m2)\n",
    "        self.assertEqual(asdict(self.m1), asdict(self.m2))\n",
    "\n",
    "    def test_inequality_different_fields(self):\n",
    "        self.assertFalse(self.m1 == self.m3)\n",
    "\n",
    "    def test_equality_by_title(self):\n",
    "        self.assertTrue(self.m1 == \"Inception\")\n",
    "        self.assertFalse(self.m1 == \"Interstellar\")\n",
    "\n",
    "    def test_equality_by_year(self):\n",
    "        self.assertTrue(self.m1 == 2010)\n",
    "        self.assertFalse(self.m1 == 2014)\n",
    "\n",
    "    def test_str_format(self):\n",
    "        s = str(self.m1)\n",
    "        self.assertIn(\"Inception\", s)\n",
    "        self.assertIn(\"Nolan\", s)\n",
    "        self.assertIn(\"2010\", s)\n",
    "\n",
    "    def test_not_equal_different_type(self):\n",
    "        self.assertNotEqual(self.m1, None)\n",
    "        self.assertNotEqual(self.m1, object())\n",
    "\n",
    "unittest.main(argv=[''], verbosity=2, exit=False)"
   ]
  }
 ],
 "metadata": {
  "kernelspec": {
   "display_name": ".venv",
   "language": "python",
   "name": "python3"
  },
  "language_info": {
   "codemirror_mode": {
    "name": "ipython",
    "version": 3
   },
   "file_extension": ".py",
   "mimetype": "text/x-python",
   "name": "python",
   "nbconvert_exporter": "python",
   "pygments_lexer": "ipython3",
   "version": "3.12.3"
  }
 },
 "nbformat": 4,
 "nbformat_minor": 5
}
