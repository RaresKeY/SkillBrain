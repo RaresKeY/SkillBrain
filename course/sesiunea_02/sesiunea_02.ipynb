{
 "cells": [
  {
   "cell_type": "markdown",
   "metadata": {},
   "source": [
    "# Structuri condiționale în Python - Lecția 2\n",
    "_Notebook de exerciții (fără soluții)._"
   ]
  },
  {
   "cell_type": "markdown",
   "metadata": {},
   "source": [
    "## Capitolul 1: Bazele `if`, `else`, `elif`"
   ]
  },
  {
   "cell_type": "markdown",
   "metadata": {},
   "source": [
    "### Exercițiul 1: Verificarea majoratului\n",
    "\n",
    "Cere utilizatorului să introducă vârsta sa. Verifică dacă vârsta introdusă este mai mare sau egală cu 18. \n",
    "\n",
    "**Cerințe:**\n",
    "1. Prelucrează input-ul de la utilizator pentru a obține un număr întreg (vârsta).\n",
    "2. Folosește o structură `if-else` pentru a verifica condiția.\n",
    "3. Afișează:\n",
    "   - `\"Ești major.\"` dacă utilizatorul are 18 ani sau mai mult.\n",
    "   - `\"Ești minor.\"` dacă utilizatorul are mai puțin de 18 ani."
   ]
  },
  {
   "cell_type": "code",
   "execution_count": 1,
   "metadata": {},
   "outputs": [
    {
     "name": "stdout",
     "output_type": "stream",
     "text": [
      "Major\n"
     ]
    }
   ],
   "source": [
    "age = int(input(\"Varsta: \"))\n",
    "\n",
    "if age >= 18:\n",
    "    print(\"Major\")\n",
    "else:\n",
    "    print(\"Minor\")"
   ]
  },
  {
   "cell_type": "markdown",
   "metadata": {},
   "source": [
    "### Exercițiul 2: Calificative în funcție de scor\n",
    "\n",
    "Cere utilizatorului un scor numeric (de exemplu, un punctaj de la un test, între 0 și 100). Pe baza scorului, afișează un calificativ.\n",
    "\n",
    "**Cerințe:**\n",
    "1. Prelucrează input-ul pentru a obține scorul ca număr întreg.\n",
    "2. Folosește o structură `if-elif-else` pentru a afișa calificativul corespunzător, conform următoarelor reguli:\n",
    "   - Scor >= 90: `\"Excelent\"`\n",
    "   - Scor >= 80: `\"Foarte Bine\"`\n",
    "   - Scor >= 70: `\"Bine\"`\n",
    "   - Scor >= 50: `\"Suficient\"`\n",
    "   - Scor < 50: `\"Insuficient\"`"
   ]
  },
  {
   "cell_type": "code",
   "execution_count": 3,
   "metadata": {},
   "outputs": [
    {
     "name": "stdout",
     "output_type": "stream",
     "text": [
      "Excelent\n"
     ]
    }
   ],
   "source": [
    "score = int(input(\"Scor: \"))\n",
    "\n",
    "if score >= 90:\n",
    "    print(\"Excelent\")\n",
    "elif score >= 80:\n",
    "    print(\"Foarte Bine\")\n",
    "elif score >= 70:\n",
    "    print(\"Bine\")\n",
    "elif score >= 50:\n",
    "    print(\"Suficient\")\n",
    "elif score < 50:\n",
    "    print(\"Insuficient\")\n",
    "else:\n",
    "    print(\"Scor invalid\")"
   ]
  },
  {
   "cell_type": "markdown",
   "metadata": {},
   "source": [
    "## Capitolul 2: Expresii Logice și Operatori"
   ]
  },
  {
   "cell_type": "markdown",
   "metadata": {},
   "source": [
    "### Exercițiul 3: Cel mai mare dintre 3 numere\n",
    "\n",
    "Cere utilizatorului să introducă trei numere (a, b și c). Folosind operatori logici și structuri condiționale, determină și afișează care dintre cele trei este cel mai mare.\n",
    "\n",
    "**Cerințe:**\n",
    "1. Citește cele trei numere de la tastatură.\n",
    "2. Folosește o structură `if-elif-else` și operatorul `and` pentru a compara numerele.\n",
    "3. Afișează un mesaj clar, de exemplu: `\"Numărul X este cel mai mare.\"`.\n",
    "   - *Bonus*: Gestionează și cazul în care numerele sunt egale."
   ]
  },
  {
   "cell_type": "code",
   "execution_count": 4,
   "metadata": {},
   "outputs": [
    {
     "name": "stdout",
     "output_type": "stream",
     "text": [
      "Numarul 3 este cel mai mare.\n"
     ]
    }
   ],
   "source": [
    "a, b, c = input(\"Enter 3 numbers (comma-separated): \").strip().split(',')\n",
    "a, b, c = int(a), int(b), int(c)\n",
    "\n",
    "# max_value = max(a, b, c)\n",
    "\n",
    "if a > b and a > c:\n",
    "    max_value = a\n",
    "elif b > a and b > c:\n",
    "    max_value = b\n",
    "else:\n",
    "    max_value = c\n",
    "\n",
    "print(\"Numarul\", max_value, \"este cel mai mare.\")"
   ]
  },
  {
   "cell_type": "markdown",
   "metadata": {},
   "source": [
    "### Exercițiul 4: Validare Notă Compusă\n",
    "\n",
    "Cere utilizatorului să introducă o notă (între 1 și 10). Verifică dacă nota respectă **două** condiții simultan:\n",
    "1. Este o notă de trecere (>= 5).\n",
    "2. Este o notă pară.\n",
    "\n",
    "Afișează `\"Nota este validă și îndeplinește ambele condiții.\"` sau `\"Nota nu este validă.\"`."
   ]
  },
  {
   "cell_type": "code",
   "execution_count": 5,
   "metadata": {},
   "outputs": [
    {
     "name": "stdout",
     "output_type": "stream",
     "text": [
      "Nota este validă și îndeplinește ambele condiții.\n"
     ]
    }
   ],
   "source": [
    "score = int(input(\"Nota: \"))\n",
    "\n",
    "if score >= 5 and not score % 2:\n",
    "    print(\"Nota este validă și îndeplinește ambele condiții.\")\n",
    "else:\n",
    "    print(\"Nota nu este validă.\")"
   ]
  },
  {
   "cell_type": "markdown",
   "metadata": {},
   "source": [
    "## Capitolul 3: Aplicații Practice"
   ]
  },
  {
   "cell_type": "markdown",
   "metadata": {},
   "source": [
    "### Exercițiul 5: Meniu interactiv (CRUD)\n",
    "\n",
    "Afișează un meniu cu 5 opțiuni și cere utilizatorului să aleagă una. Răspunde printr-un mesaj corespunzător alegerii făcute.\n",
    "\n",
    "**Cerințe:**\n",
    "1. Afișează următorul meniu:\n",
    "   ```\n",
    "   1. Creează (Create)\n",
    "   2. Citește (Read)\n",
    "   3. Actualizează (Update)\n",
    "   4. Șterge (Delete)\n",
    "   5. Ieșire\n",
    "   ```\n",
    "2. Citește alegerea utilizatorului.\n",
    "3. Folosind `if-elif-else`, afișează un mesaj adecvat pentru fiecare opțiune (ex: `\"Ați ales opțiunea de a citi date.\"`).\n",
    "4. Dacă utilizatorul introduce o opțiune invalidă, afișează `\"Opțiune invalidă!\"`."
   ]
  },
  {
   "cell_type": "code",
   "execution_count": 6,
   "metadata": {},
   "outputs": [
    {
     "name": "stdout",
     "output_type": "stream",
     "text": [
      "1. Create\n",
      "2. Read\n",
      "3. Update\n",
      "4. Delete\n",
      "5. Exit\n",
      "\n",
      "Exit\n"
     ]
    }
   ],
   "source": [
    "print(\"\"\"1. Create\n",
    "2. Read\n",
    "3. Update\n",
    "4. Delete\n",
    "5. Exit\n",
    "\"\"\")\n",
    "\n",
    "option = int(input(\"Choose an option (via number)\"))\n",
    "\n",
    "if option == 1:\n",
    "    print(\"Create\")\n",
    "elif option == 2:\n",
    "    print(\"Read\")\n",
    "elif option == 3:\n",
    "    print(\"Update\")\n",
    "elif option == 4:\n",
    "    print(\"Delete\")\n",
    "elif option == 5:\n",
    "    print(\"Exit\")\n",
    "else:\n",
    "    print(\"Invalid Selection\")"
   ]
  },
  {
   "cell_type": "markdown",
   "metadata": {},
   "source": [
    "### Exercițiul 6: Extinderea sistemului de autentificare\n",
    "\n",
    "Pornind de la un sistem de autentificare care recunoaște `admin` și `guest`, adaugă un al treilea cont.\n",
    "\n",
    "**Cerințe:**\n",
    "1. Cere utilizatorului un `username` și o `parolă`.\n",
    "2. Verifică următoarele combinații:\n",
    "   - user: `admin`, parola: `1234`\n",
    "   - user: `guest`, parola: `guest`\n",
    "   - **user: `user`, parola: `pass` (acesta este contul pe care trebuie să-l adaugi)**\n",
    "3. Folosește operatorii `and` și `or` (sau `elif`) pentru a structura logica.\n",
    "4. Afișează `\"Autentificare reușită!\"` pentru o combinație corectă și `\"Date de autentificare incorecte.\"` în caz contrar."
   ]
  },
  {
   "cell_type": "code",
   "execution_count": 7,
   "metadata": {},
   "outputs": [
    {
     "name": "stdout",
     "output_type": "stream",
     "text": [
      "Autentificare reușită!\n"
     ]
    }
   ],
   "source": [
    "# Poți începe cu acest cod\n",
    "user_introdus = input(\"Username: \")\n",
    "parola_introdusa = input(\"Parola: \")\n",
    "\n",
    "if user_introdus == \"admin\" and parola_introdusa == \"1234\" or \\\n",
    "    user_introdus == \"guest\" and parola_introdusa == \"guest\" or \\\n",
    "    user_introdus == \"user\" and parola_introdusa == \"pass\":\n",
    "    print(\"Autentificare reușită!\")\n",
    "else:\n",
    "    print(\"Date de autentificare incorecte.\")\n",
    "\n"
   ]
  },
  {
   "cell_type": "markdown",
   "metadata": {},
   "source": [
    "### Exercițiul 7: Validare prietenoasă\n",
    "\n",
    "Întreabă utilizatorul `\"Doriți să continuați? (da/nu)\"`. Gestionează răspunsul într-un mod prietenos, ignorând majusculele/minusculele și spațiile goale de la început sau sfârșit.\n",
    "\n",
    "**Cerințe:**\n",
    "1. Citește răspunsul de la utilizator.\n",
    "2. Folosește metodele `.lower()` și `.strip()` pentru a curăța inputul.\n",
    "3. Afișează:\n",
    "   - `\"Mulțumim, continuăm!\"` dacă răspunsul este `\"da\"`.\n",
    "   - `\"OK, poate altădată.\"` dacă răspunsul este `\"nu\"`.\n",
    "   - `\"Eroare: Răspuns invalid.\"` pentru orice altceva."
   ]
  },
  {
   "cell_type": "code",
   "execution_count": 8,
   "metadata": {},
   "outputs": [
    {
     "name": "stdout",
     "output_type": "stream",
     "text": [
      "Mulțumim, continuăm!\n"
     ]
    }
   ],
   "source": [
    "answer = input(\"Doriti sa continuati? (da/nu): \").lower().strip()\n",
    "\n",
    "if answer == \"da\":\n",
    "    print(\"Mulțumim, continuăm!\")\n",
    "elif answer == \"nu\":\n",
    "    print(\"OK, poate altădată.\")\n",
    "else:\n",
    "    print(\"Eroare: Răspuns invalid.\")"
   ]
  },
  {
   "cell_type": "markdown",
   "metadata": {},
   "source": [
    "## Capitolul 4: Mini-Proiecte Practice"
   ]
  },
  {
   "cell_type": "markdown",
   "metadata": {},
   "source": [
    "### Proiect 1: Asistent Stare de Spirit\n",
    "\n",
    "Creează un mic program care întreabă utilizatorul cum se simte și îi oferă un răspuns personalizat.\n",
    "\n",
    "**Cerințe:**\n",
    "1. Întreabă: `\"Cum te simți azi?\"`\n",
    "2. Verifică dacă răspunsul conține anumite cuvinte cheie folosind operatorul `in`:\n",
    "   - Dacă răspunsul conține `\"fericit\"` sau `\"bine\"`, afișează: `\"Mă bucur să aud asta!\"`\n",
    "   - Dacă răspunsul conține `\"trist\"` sau `\"rău\"`, afișează: `\"Îmi pare rău. Sper că te vei simți mai bine curând.\"`\n",
    "   - Dacă răspunsul conține `\"obosit\"`, afișează: `\"Nu uita să te odihnești!\"`\n",
    "   - Pentru orice alt răspuns, afișează: `\"Interesant!\"`\n",
    "3. *Bonus*: Folosește `.lower()` pentru ca programul să nu facă diferența între \"fericit\" și \"Fericit\"."
   ]
  },
  {
   "cell_type": "code",
   "execution_count": 9,
   "metadata": {},
   "outputs": [
    {
     "name": "stdout",
     "output_type": "stream",
     "text": [
      "Imi pare rau. Sper ca te simti mai bine curand\n"
     ]
    }
   ],
   "source": [
    "answer = input(\"Cum te simti azi?\").casefold()\n",
    "\n",
    "if \"fericit\" in answer or \"bine\" in answer:\n",
    "    print(\"Ma bucur sa aud asta!\")\n",
    "elif \"trist\" in answer or \"rau\" in answer:\n",
    "    print(\"Imi pare rau. Sper ca te simti mai bine curand\")\n",
    "elif \"obosit\" in answer:\n",
    "    print(\"Nu uita sa te odihnesti!\")\n",
    "else:\n",
    "    print(\"Interesant!\")"
   ]
  },
  {
   "cell_type": "markdown",
   "metadata": {},
   "source": [
    "### Proiect 2: Sistem de Reduceri\n",
    "\n",
    "Un magazin oferă reduceri pentru diferite categorii de clienți. Creează un program care calculează prețul final pe baza categoriei utilizatorului.\n",
    "\n",
    "**Cerințe:**\n",
    "1. Definește un preț inițial pentru un produs (ex: `pret = 100`).\n",
    "2. Întreabă utilizatorul din ce categorie face parte: `\"elev\"`, `\"student\"`, sau `\"alt\"`.\n",
    "3. Aplică reducerea corespunzătoare:\n",
    "   - `elev`: 20% reducere\n",
    "   - `student`: 10% reducere\n",
    "   - `alt`: nicio reducere\n",
    "4. Calculează și afișează prețul final."
   ]
  },
  {
   "cell_type": "code",
   "execution_count": 10,
   "metadata": {},
   "outputs": [
    {
     "name": "stdout",
     "output_type": "stream",
     "text": [
      "Price:  80.0\n"
     ]
    }
   ],
   "source": [
    "initial_price = 100\n",
    "\n",
    "identity = input(\"What are you? \").casefold()\n",
    "\n",
    "if \"elev\" == identity:\n",
    "    print(\"Price: \", initial_price * .8)\n",
    "elif \"student\" == identity:\n",
    "    print(\"Price: \", initial_price * .9)\n",
    "else:\n",
    "    print(\"Price: \", initial_price)\n"
   ]
  },
  {
   "cell_type": "markdown",
   "metadata": {},
   "source": [
    "## Capitolul 5: Exerciții Logice Avansate"
   ]
  },
  {
   "cell_type": "markdown",
   "metadata": {},
   "source": [
    "### Exercițiul 8: Verificare vocală\n",
    "\n",
    "Cere utilizatorului să introducă o singură literă. Verifică dacă litera este o vocală sau o consoană.\n",
    "\n",
    "**Cerințe:**\n",
    "1. Citește o literă de la utilizator.\n",
    "2. Asigură-te că inputul este transformat în literă mică pentru a simplifica verificarea.\n",
    "3. Verifică dacă litera se află în setul de vocale (`'a', 'e', 'i', 'o', 'u'`).\n",
    "4. Afișează `\"Litera este o vocală.\"` sau `\"Litera este o consoană.\"`.\n",
    "   - *Bonus*: Verifică mai întâi dacă inputul este o singură literă."
   ]
  },
  {
   "cell_type": "code",
   "execution_count": 11,
   "metadata": {},
   "outputs": [
    {
     "name": "stdout",
     "output_type": "stream",
     "text": [
      "consoana\n"
     ]
    }
   ],
   "source": [
    "letter = input(\"Letter: \").casefold()\n",
    "if len(letter) != 1:\n",
    "    print(\"wrong input\")\n",
    "elif letter in \"aeiou\":\n",
    "    print(\"vocala\")\n",
    "else:\n",
    "    print(\"consoana\")"
   ]
  },
  {
   "cell_type": "markdown",
   "metadata": {},
   "source": [
    "### Exercițiul 9: Validare utilizator dintr-o listă\n",
    "\n",
    "Ai o listă de utilizatori permiși. Verifică dacă un nume de utilizator introdus de la tastatură se află în acea listă.\n",
    "\n",
    "**Cerințe:**\n",
    "1. Pornește de la lista `utilizatori_permisi = [\"admin\", \"bogdan\", \"maria\"]`.\n",
    "2. Cere un nume de utilizator.\n",
    "3. Folosind operatorul `in`, verifică dacă numele introdus există în listă.\n",
    "4. Afișează `\"Acces permis.\"` sau `\"Acces refuzat.\"`."
   ]
  },
  {
   "cell_type": "code",
   "execution_count": null,
   "metadata": {},
   "outputs": [
    {
     "name": "stdout",
     "output_type": "stream",
     "text": [
      "Acces permis\n"
     ]
    }
   ],
   "source": [
    "users_allowed = [\"admin\", \"bogdan\", \"maria\"]\n",
    "\n",
    "user_current = input(\"Username: \")\n",
    "\n",
    "if user_current in users_allowed:\n",
    "    print(\"Acces permis\")\n",
    "else:\n",
    "    print(\"Acces refuzat\")"
   ]
  },
  {
   "cell_type": "markdown",
   "metadata": {},
   "source": [
    "### Exercițiul 10: Verificare an bisect\n",
    "\n",
    "Cere utilizatorului să introducă un an și verifică dacă este an bisect.\n",
    "\n",
    "**Reguli an bisect:**\n",
    "Un an este bisect dacă îndeplinește una dintre următoarele condiții:\n",
    "1. Este divizibil cu 4, **dar nu** este divizibil cu 100.\n",
    "   **SAU**\n",
    "2. Este divizibil cu 400.\n",
    "\n",
    "*Exemplu:* 2000 (divizibil cu 400) și 2024 (divizibil cu 4 dar nu cu 100) sunt ani bisecți. 1900 (divizibil cu 100 dar nu cu 400) nu este an bisect."
   ]
  },
  {
   "cell_type": "code",
   "execution_count": 13,
   "metadata": {},
   "outputs": [
    {
     "name": "stdout",
     "output_type": "stream",
     "text": [
      "Bisect\n"
     ]
    }
   ],
   "source": [
    "year = int(input(\"Year: \"))\n",
    "\n",
    "if (not year % 4 and year % 100) or not year % 400:\n",
    "    print(\"Bisect\")\n",
    "else:\n",
    "    print(\"Non Bisect\")"
   ]
  },
  {
   "cell_type": "markdown",
   "metadata": {},
   "source": [
    "### Exercițiul 11: Validare string complexă\n",
    "\n",
    "Cere utilizatorului un cuvânt și verifică dacă îndeplinește simultan două condiții:\n",
    "1. Are exact 5 caractere.\n",
    "2. Începe cu litera 'a'.\n",
    "\n",
    "**Indicii:**\n",
    "- Folosește funcția `len()` pentru a verifica lungimea.\n",
    "- Poți accesa primul caracter al unui string `s` cu `s[0]`."
   ]
  },
  {
   "cell_type": "code",
   "execution_count": null,
   "metadata": {},
   "outputs": [
    {
     "name": "stdout",
     "output_type": "stream",
     "text": [
      "Valid\n"
     ]
    }
   ],
   "source": [
    "word = input(\"Give me a word: \").casefold()\n",
    "\n",
    "if len(word) == 5 and word[0] == 'a':\n",
    "    print(\"Valid\")\n",
    "else:\n",
    "    print(\"Invalid\")"
   ]
  }
 ],
 "metadata": {
  "kernelspec": {
   "display_name": ".venv",
   "language": "python",
   "name": "python3"
  },
  "language_info": {
   "codemirror_mode": {
    "name": "ipython",
    "version": 3
   },
   "file_extension": ".py",
   "mimetype": "text/x-python",
   "name": "python",
   "nbconvert_exporter": "python",
   "pygments_lexer": "ipython3",
   "version": "3.12.3"
  }
 },
 "nbformat": 4,
 "nbformat_minor": 4
}
